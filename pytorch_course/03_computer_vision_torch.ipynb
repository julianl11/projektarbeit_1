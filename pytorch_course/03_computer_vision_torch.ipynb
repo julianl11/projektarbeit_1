{
  "cells": [
    {
      "cell_type": "markdown",
      "id": "f3414dd0",
      "metadata": {
        "id": "f3414dd0"
      },
      "source": [
        "# Start GO!"
      ]
    },
    {
      "cell_type": "code",
      "execution_count": null,
      "id": "5c290d08",
      "metadata": {
        "id": "5c290d08",
        "outputId": "03d49260-a475-416b-81e6-12545639a253"
      },
      "outputs": [
        {
          "data": {
            "text/plain": [
              "'hello'"
            ]
          },
          "execution_count": 1,
          "metadata": {},
          "output_type": "execute_result"
        }
      ],
      "source": [
        "\"hello\""
      ]
    },
    {
      "cell_type": "code",
      "execution_count": 2,
      "id": "86fc93ba",
      "metadata": {
        "id": "86fc93ba",
        "outputId": "c1b09883-58f5-4826-b0f9-45691929d09d",
        "colab": {
          "base_uri": "https://localhost:8080/"
        }
      },
      "outputs": [
        {
          "output_type": "stream",
          "name": "stdout",
          "text": [
            "PyTorch version: 2.6.0+cu124\n",
            "torchvision version: 0.21.0+cu124\n"
          ]
        }
      ],
      "source": [
        "import torch\n",
        "from torch import nn\n",
        "\n",
        "# Import torchvision\n",
        "import torchvision\n",
        "from torchvision import datasets\n",
        "from torchvision.transforms import ToTensor\n",
        "\n",
        "# Import matplotlib for visualization\n",
        "import matplotlib.pyplot as plt\n",
        "\n",
        "# Check versions\n",
        "# Note: your PyTorch version shouldn't be lower than 1.10.0 and torchvision version shouldn't be lower than 0.11\n",
        "print(f\"PyTorch version: {torch.__version__}\\ntorchvision version: {torchvision.__version__}\")"
      ]
    },
    {
      "cell_type": "code",
      "source": [
        "train_data = datasets.FashionMNIST(\n",
        "    root=\"data\", # where to download data to?\n",
        "    train=True, # get training data\n",
        "    download=True, # download data if it doesn't exist on disk\n",
        "    transform=ToTensor(), # images come as PIL format, we want to turn into Torch tensors\n",
        "    target_transform=None # you can transform labels as well\n",
        ")\n",
        "\n",
        "# Setup testing data\n",
        "test_data = datasets.FashionMNIST(\n",
        "    root=\"data\",\n",
        "    train=False, # get test data\n",
        "    download=True,\n",
        "    transform=ToTensor()\n",
        ")"
      ],
      "metadata": {
        "id": "vKg7xqDie1UU",
        "outputId": "83229bef-86a6-469f-e545-72ac6d2efd9a",
        "colab": {
          "base_uri": "https://localhost:8080/"
        }
      },
      "id": "vKg7xqDie1UU",
      "execution_count": 3,
      "outputs": [
        {
          "output_type": "stream",
          "name": "stderr",
          "text": [
            "100%|██████████| 26.4M/26.4M [00:02<00:00, 12.0MB/s]\n",
            "100%|██████████| 29.5k/29.5k [00:00<00:00, 204kB/s]\n",
            "100%|██████████| 4.42M/4.42M [00:01<00:00, 3.36MB/s]\n",
            "100%|██████████| 5.15k/5.15k [00:00<00:00, 12.8MB/s]\n"
          ]
        }
      ]
    },
    {
      "cell_type": "code",
      "source": [
        "len(train_data[0])"
      ],
      "metadata": {
        "id": "uzxGSuTAe633",
        "outputId": "9a32d947-69ba-4ef2-fdd7-fbf454038a5b",
        "colab": {
          "base_uri": "https://localhost:8080/"
        }
      },
      "id": "uzxGSuTAe633",
      "execution_count": 6,
      "outputs": [
        {
          "output_type": "execute_result",
          "data": {
            "text/plain": [
              "2"
            ]
          },
          "metadata": {},
          "execution_count": 6
        }
      ]
    },
    {
      "cell_type": "code",
      "source": [
        "img, label = train_data[0]\n",
        "print(img.shape, label)"
      ],
      "metadata": {
        "id": "spU0fwQgfTXT",
        "outputId": "26a4a692-1a7d-4872-9166-733521030cf9",
        "colab": {
          "base_uri": "https://localhost:8080/"
        }
      },
      "id": "spU0fwQgfTXT",
      "execution_count": 8,
      "outputs": [
        {
          "output_type": "stream",
          "name": "stdout",
          "text": [
            "torch.Size([1, 28, 28]) 9\n"
          ]
        }
      ]
    },
    {
      "cell_type": "code",
      "source": [
        "class_names = train_data.classes\n",
        "class_names"
      ],
      "metadata": {
        "id": "ZXeZcsHQe78w",
        "outputId": "b1bbe0cf-a49f-46f7-e0f8-5d9411c657ce",
        "colab": {
          "base_uri": "https://localhost:8080/"
        }
      },
      "id": "ZXeZcsHQe78w",
      "execution_count": 9,
      "outputs": [
        {
          "output_type": "execute_result",
          "data": {
            "text/plain": [
              "['T-shirt/top',\n",
              " 'Trouser',\n",
              " 'Pullover',\n",
              " 'Dress',\n",
              " 'Coat',\n",
              " 'Sandal',\n",
              " 'Shirt',\n",
              " 'Sneaker',\n",
              " 'Bag',\n",
              " 'Ankle boot']"
            ]
          },
          "metadata": {},
          "execution_count": 9
        }
      ]
    },
    {
      "cell_type": "code",
      "source": [
        "import matplotlib.pyplot as plt\n",
        "image, label = train_data[0]\n",
        "print(f\"Image shape: {image.shape}\")\n",
        "plt.imshow(image.squeeze()) # image shape is [1, 28, 28] (colour channels, height, width)\n",
        "plt.title(label);"
      ],
      "metadata": {
        "id": "edMUC-osfg0y",
        "outputId": "4e028072-1e52-4983-c440-b5a8b5c1e354",
        "colab": {
          "base_uri": "https://localhost:8080/",
          "height": 470
        }
      },
      "id": "edMUC-osfg0y",
      "execution_count": 10,
      "outputs": [
        {
          "output_type": "stream",
          "name": "stdout",
          "text": [
            "Image shape: torch.Size([1, 28, 28])\n"
          ]
        },
        {
          "output_type": "display_data",
          "data": {
            "text/plain": [
              "<Figure size 640x480 with 1 Axes>"
            ],
            "image/png": "[encoded data removed]"
          },
          "metadata": {}
        }
      ]
    },
    {
      "cell_type": "code",
      "source": [
        "train_dataloader = torch.utils.data.DataLoader(train_data, batch_size=32, shuffle=True)\n",
        "test_dataloader = torch.utils.data.DataLoader(test_data, batch_size=32, shuffle=False)"
      ],
      "metadata": {
        "id": "NyU8csiYfhHy"
      },
      "id": "NyU8csiYfhHy",
      "execution_count": 11,
      "outputs": []
    },
    {
      "cell_type": "code",
      "source": [
        "(next(iter(train_dataloader))[0]).shape"
      ],
      "metadata": {
        "id": "FZcbcSjBf6Ng",
        "outputId": "ceb674a0-4040-4130-cae5-aa02ca8c180a",
        "colab": {
          "base_uri": "https://localhost:8080/"
        }
      },
      "id": "FZcbcSjBf6Ng",
      "execution_count": 15,
      "outputs": [
        {
          "output_type": "execute_result",
          "data": {
            "text/plain": [
              "torch.Size([32, 1, 28, 28])"
            ]
          },
          "metadata": {},
          "execution_count": 15
        }
      ]
    },
    {
      "cell_type": "code",
      "source": [
        "train_features_batch, train_labels_batch = next(iter(train_dataloader))\n",
        "train_features_batch.shape, train_labels_batch.shape"
      ],
      "metadata": {
        "id": "Mcz7YeZDf4gV",
        "outputId": "a9215eeb-e015-4593-a92a-766ede361034",
        "colab": {
          "base_uri": "https://localhost:8080/"
        }
      },
      "id": "Mcz7YeZDf4gV",
      "execution_count": 16,
      "outputs": [
        {
          "output_type": "execute_result",
          "data": {
            "text/plain": [
              "(torch.Size([32, 1, 28, 28]), torch.Size([32]))"
            ]
          },
          "metadata": {},
          "execution_count": 16
        }
      ]
    },
    {
      "cell_type": "code",
      "source": [
        "torch.manual_seed(42)\n",
        "random_idx = torch.randint(0, len(train_features_batch), size=[1]).item()\n",
        "img, label = train_features_batch[random_idx], train_labels_batch[random_idx]\n",
        "plt.imshow(img.squeeze(), cmap=\"gray\")\n",
        "plt.title(class_names[label])\n",
        "plt.axis(\"Off\");\n",
        "print(f\"Image size: {img.shape}\")\n",
        "print(f\"Label: {label}, label size: {label.shape}\")"
      ],
      "metadata": {
        "id": "2A5zZMNxfwqS",
        "outputId": "ac4c080b-089f-45df-8f29-02f27084d369",
        "colab": {
          "base_uri": "https://localhost:8080/",
          "height": 465
        }
      },
      "id": "2A5zZMNxfwqS",
      "execution_count": 17,
      "outputs": [
        {
          "output_type": "stream",
          "name": "stdout",
          "text": [
            "Image size: torch.Size([1, 28, 28])\n",
            "Label: 9, label size: torch.Size([])\n"
          ]
        },
        {
          "output_type": "display_data",
          "data": {
            "text/plain": [
              "<Figure size 640x480 with 1 Axes>"
            ],
            "image/png": "[encoded data removed]"
          },
          "metadata": {}
        }
      ]
    },
    {
      "cell_type": "code",
      "source": [
        "flatten_model = nn.Flatten()\n",
        "\n",
        "x = train_features_batch[0]\n",
        "\n",
        "print(f\"Shape before flattening: {x.shape}\")\n",
        "print(f\"Shape after flattening: {flatten_model(x).shape}\")\n",
        "print(f\"Dim after flattening: {flatten_model(x).dim()}\")\n",
        "#flatten_model(x)"
      ],
      "metadata": {
        "id": "acDyLgdBgDx1",
        "outputId": "93d38089-5515-4aea-d1ef-a18c98bff6a2",
        "colab": {
          "base_uri": "https://localhost:8080/"
        }
      },
      "id": "acDyLgdBgDx1",
      "execution_count": 57,
      "outputs": [
        {
          "output_type": "stream",
          "name": "stdout",
          "text": [
            "Shape before flattening: torch.Size([1, 28, 28])\n",
            "Shape after flattening: torch.Size([1, 784])\n",
            "Dim after flattening: 2\n"
          ]
        }
      ]
    },
    {
      "cell_type": "code",
      "source": [
        "from torch import nn\n",
        "\n",
        "class FashionMNISTModelV1(nn.Module):\n",
        "  def __init__(self,\n",
        "               input_shape: int,\n",
        "               hidden_units: int,\n",
        "               output_shape: int):\n",
        "    super().__init__()\n",
        "\n",
        "    self.layer_stack = nn.Sequential(\n",
        "        nn.Flatten(),\n",
        "        nn.Linear(in_features=input_shape, out_features=hidden_units),\n",
        "        nn.Linear(in_features=hidden_units, out_features=output_shape)\n",
        "    )\n",
        "\n",
        "  def forward(self, x: torch.Tensor):\n",
        "    return self.layer_stack(x)"
      ],
      "metadata": {
        "id": "wFYJa81bgOFG"
      },
      "id": "wFYJa81bgOFG",
      "execution_count": 30,
      "outputs": []
    },
    {
      "cell_type": "code",
      "source": [
        "int(class_names.__len__())"
      ],
      "metadata": {
        "id": "8OzTZHS4izuY",
        "outputId": "bea9164c-f748-4d00-ec38-05a0440cf54e",
        "colab": {
          "base_uri": "https://localhost:8080/"
        }
      },
      "id": "8OzTZHS4izuY",
      "execution_count": 33,
      "outputs": [
        {
          "output_type": "execute_result",
          "data": {
            "text/plain": [
              "10"
            ]
          },
          "metadata": {},
          "execution_count": 33
        }
      ]
    },
    {
      "cell_type": "code",
      "source": [
        "model_1 = FashionMNISTModelV1(input_shape=784, hidden_units=10, output_shape=int(class_names.__len__()))\n",
        "model_1.to(\"cpu\")"
      ],
      "metadata": {
        "id": "IsxbVTTwhDeh",
        "outputId": "d0a8f361-b933-4bdf-897e-2b1cd7029886",
        "colab": {
          "base_uri": "https://localhost:8080/"
        }
      },
      "id": "IsxbVTTwhDeh",
      "execution_count": 36,
      "outputs": [
        {
          "output_type": "execute_result",
          "data": {
            "text/plain": [
              "FashionMNISTModelV1(\n",
              "  (layer_stack): Sequential(\n",
              "    (0): Flatten(start_dim=1, end_dim=-1)\n",
              "    (1): Linear(in_features=784, out_features=10, bias=True)\n",
              "    (2): Linear(in_features=10, out_features=10, bias=True)\n",
              "  )\n",
              ")"
            ]
          },
          "metadata": {},
          "execution_count": 36
        }
      ]
    },
    {
      "cell_type": "code",
      "source": [
        "dummy_x = torch.randn((1, 28, 28))\n",
        "dummy_x.shape"
      ],
      "metadata": {
        "id": "rEG1XYJYjGB6",
        "outputId": "1800f76d-41f4-43c1-bacf-221ba3ba2276",
        "colab": {
          "base_uri": "https://localhost:8080/"
        }
      },
      "id": "rEG1XYJYjGB6",
      "execution_count": 46,
      "outputs": [
        {
          "output_type": "execute_result",
          "data": {
            "text/plain": [
              "torch.Size([1, 28, 28])"
            ]
          },
          "metadata": {},
          "execution_count": 46
        }
      ]
    },
    {
      "cell_type": "code",
      "source": [
        "model_1(dummy_x)"
      ],
      "metadata": {
        "id": "U0f-qmoojb-_",
        "outputId": "b6a13127-b9a0-4b13-c99e-25e7a9154159",
        "colab": {
          "base_uri": "https://localhost:8080/"
        }
      },
      "id": "U0f-qmoojb-_",
      "execution_count": 47,
      "outputs": [
        {
          "output_type": "execute_result",
          "data": {
            "text/plain": [
              "tensor([[ 0.2373, -0.3239, -0.1238,  0.2903,  0.2158,  0.0784, -0.1135, -0.3782,\n",
              "          0.2640,  0.3665]], grad_fn=<AddmmBackward0>)"
            ]
          },
          "metadata": {},
          "execution_count": 47
        }
      ]
    },
    {
      "cell_type": "code",
      "source": [
        "model_1(dummy_x).squeeze().__len__()"
      ],
      "metadata": {
        "id": "j6vdu5_JjNTT",
        "outputId": "d35a3962-2555-4cbe-b79c-ae44ac983f33",
        "colab": {
          "base_uri": "https://localhost:8080/"
        }
      },
      "id": "j6vdu5_JjNTT",
      "execution_count": 53,
      "outputs": [
        {
          "output_type": "execute_result",
          "data": {
            "text/plain": [
              "10"
            ]
          },
          "metadata": {},
          "execution_count": 53
        }
      ]
    },
    {
      "cell_type": "code",
      "source": [
        "model_1.state_dict()"
      ],
      "metadata": {
        "id": "mMfSIwZakQwx",
        "outputId": "4c539ae2-e4cc-40eb-c733-0fce1ecc51d9",
        "colab": {
          "base_uri": "https://localhost:8080/"
        }
      },
      "id": "mMfSIwZakQwx",
      "execution_count": 58,
      "outputs": [
        {
          "output_type": "execute_result",
          "data": {
            "text/plain": [
              "OrderedDict([('layer_stack.1.weight',\n",
              "              tensor([[ 0.0224, -0.0181,  0.0197,  ...,  0.0355, -0.0293, -0.0290],\n",
              "                      [ 0.0062,  0.0239,  0.0236,  ...,  0.0102, -0.0129,  0.0235],\n",
              "                      [ 0.0318,  0.0348, -0.0320,  ..., -0.0323, -0.0270, -0.0275],\n",
              "                      ...,\n",
              "                      [-0.0201,  0.0322, -0.0096,  ..., -0.0022,  0.0090,  0.0300],\n",
              "                      [ 0.0132,  0.0252,  0.0189,  ...,  0.0141, -0.0189, -0.0134],\n",
              "                      [ 0.0170, -0.0218,  0.0071,  ...,  0.0029, -0.0044,  0.0155]])),\n",
              "             ('layer_stack.1.bias',\n",
              "              tensor([-0.0296,  0.0081, -0.0277,  0.0282, -0.0141,  0.0073,  0.0024, -0.0142,\n",
              "                      -0.0048,  0.0340])),\n",
              "             ('layer_stack.2.weight',\n",
              "              tensor([[-0.1599, -0.0822,  0.2084,  0.1857,  0.0875, -0.2767, -0.0510, -0.3116,\n",
              "                       -0.1563, -0.0338],\n",
              "                      [-0.1195,  0.1298,  0.0032,  0.0622,  0.0927,  0.0763, -0.3100,  0.0638,\n",
              "                        0.2602,  0.1067],\n",
              "                      [ 0.2270, -0.1712, -0.0803, -0.2885, -0.2888, -0.2384,  0.1616, -0.1860,\n",
              "                        0.1061,  0.2190],\n",
              "                      [ 0.1129, -0.1325,  0.2020,  0.1160,  0.0717, -0.0793,  0.2512,  0.1528,\n",
              "                       -0.0556,  0.1458],\n",
              "                      [-0.2107, -0.0274, -0.2625, -0.2822,  0.2576,  0.1681, -0.1073, -0.1762,\n",
              "                       -0.1213, -0.0752],\n",
              "                      [-0.0538,  0.2708,  0.3027,  0.1651, -0.1769, -0.1115,  0.0394, -0.1883,\n",
              "                        0.2829, -0.1874],\n",
              "                      [ 0.2927, -0.0014,  0.2865,  0.2067,  0.0284,  0.3104,  0.0276,  0.1214,\n",
              "                       -0.0816, -0.2785],\n",
              "                      [-0.1939, -0.2545,  0.2166,  0.1406,  0.0891,  0.2932, -0.2232,  0.0890,\n",
              "                        0.0136, -0.2768],\n",
              "                      [-0.3055,  0.3071,  0.2685,  0.0575, -0.2030,  0.0441,  0.2255, -0.0688,\n",
              "                        0.0044, -0.1555],\n",
              "                      [ 0.2390, -0.1927, -0.1777, -0.0812, -0.0100,  0.0797,  0.2461,  0.1937,\n",
              "                        0.0456,  0.0829]])),\n",
              "             ('layer_stack.2.bias',\n",
              "              tensor([ 0.2681, -0.0929, -0.1505,  0.2422,  0.2743, -0.0130, -0.0124,  0.2400,\n",
              "                      -0.0590,  0.3122]))])"
            ]
          },
          "metadata": {},
          "execution_count": 58
        }
      ]
    },
    {
      "cell_type": "code",
      "source": [
        "model_1.state_dict()[\"layer_stack.1.weight\"].squeeze()[0].__len__()"
      ],
      "metadata": {
        "id": "kWNa5AqsjPPU",
        "outputId": "0c01fa64-1cc0-4546-b97a-fe5f536c568e",
        "colab": {
          "base_uri": "https://localhost:8080/"
        }
      },
      "id": "kWNa5AqsjPPU",
      "execution_count": 63,
      "outputs": [
        {
          "output_type": "execute_result",
          "data": {
            "text/plain": [
              "784"
            ]
          },
          "metadata": {},
          "execution_count": 63
        }
      ]
    },
    {
      "cell_type": "code",
      "source": [
        "import requests\n",
        "from pathlib import Path\n",
        "\n",
        "if Path(\"helper_functions.py\").is_file():\n",
        "  print(\"helper_functions.py already exists, skipping download\")\n",
        "else:\n",
        "  request = requests.get(\"https://raw.githubusercontent.com/mrdbourke/pytorch-deep-learning/main/helper_functions.py\")\n",
        "  with open(\"helper_functions.py\", \"wb\") as f:\n",
        "    f.write(request.content)"
      ],
      "metadata": {
        "id": "YIi8LuLinCtg",
        "outputId": "6a685269-9440-4635-c017-271cdd22207c",
        "colab": {
          "base_uri": "https://localhost:8080/"
        }
      },
      "id": "YIi8LuLinCtg",
      "execution_count": 68,
      "outputs": [
        {
          "output_type": "stream",
          "name": "stdout",
          "text": [
            "helper_functions.py already exists, skipping download\n"
          ]
        }
      ]
    },
    {
      "cell_type": "code",
      "source": [
        "from helper_functions import accuracy_fn"
      ],
      "metadata": {
        "id": "iVpQI74LooyP"
      },
      "id": "iVpQI74LooyP",
      "execution_count": 69,
      "outputs": []
    },
    {
      "cell_type": "code",
      "source": [
        "loss_fn = nn.CrossEntropyLoss()\n",
        "optimizer = torch.optim.Adam(params=model_1.parameters(), lr = 0.01)"
      ],
      "metadata": {
        "id": "yyDIdNUXouZk"
      },
      "id": "yyDIdNUXouZk",
      "execution_count": 70,
      "outputs": []
    },
    {
      "cell_type": "code",
      "source": [
        "next(model_1.parameters()).squeeze().shape"
      ],
      "metadata": {
        "id": "9sJUbBfDpKpm",
        "outputId": "e42d3c4e-7e63-41b5-cdf6-e14e54b5ddd2",
        "colab": {
          "base_uri": "https://localhost:8080/"
        }
      },
      "id": "9sJUbBfDpKpm",
      "execution_count": 74,
      "outputs": [
        {
          "output_type": "execute_result",
          "data": {
            "text/plain": [
              "torch.Size([10, 784])"
            ]
          },
          "metadata": {},
          "execution_count": 74
        }
      ]
    },
    {
      "cell_type": "code",
      "source": [
        "from timeit import default_timer as timer\n",
        "\n",
        "def print_train_time(start: float, end:float, device: torch.device = None):\n",
        "  total_time = end-start\n",
        "  print(f\"Train tim on: {device} took {total_time:.3f} seconds\")\n",
        "  return total_time"
      ],
      "metadata": {
        "id": "2BExr81TpMo7"
      },
      "id": "2BExr81TpMo7",
      "execution_count": 75,
      "outputs": []
    },
    {
      "cell_type": "code",
      "source": [
        "start_time = timer()\n",
        "\n",
        "end_time = timer()\n",
        "print_train_time(start_time, end_time, device=\"cpu\")"
      ],
      "metadata": {
        "id": "JdWaUAoeqHBW",
        "outputId": "94d378c3-70f2-4e10-c9af-7b2aeea5903d",
        "colab": {
          "base_uri": "https://localhost:8080/"
        }
      },
      "id": "JdWaUAoeqHBW",
      "execution_count": 76,
      "outputs": [
        {
          "output_type": "stream",
          "name": "stdout",
          "text": [
            "Train tim on: cpu took 0.000 seconds\n"
          ]
        },
        {
          "output_type": "execute_result",
          "data": {
            "text/plain": [
              "2.5639999876148067e-05"
            ]
          },
          "metadata": {},
          "execution_count": 76
        }
      ]
    },
    {
      "cell_type": "code",
      "source": [],
      "metadata": {
        "id": "IoX3EfvuqSP-"
      },
      "id": "IoX3EfvuqSP-",
      "execution_count": null,
      "outputs": []
    }
  ],
  "metadata": {
    "kernelspec": {
      "display_name": "Python 3",
      "name": "python3"
    },
    "language_info": {
      "codemirror_mode": {
        "name": "ipython",
        "version": 3
      },
      "file_extension": ".py",
      "mimetype": "text/x-python",
      "name": "python",
      "nbconvert_exporter": "python",
      "pygments_lexer": "ipython3",
      "version": "3.11.5"
    },
    "colab": {
      "provenance": [],
      "gpuType": "T4"
    },
    "accelerator": "GPU"
  },
  "nbformat": 4,
  "nbformat_minor": 5
}