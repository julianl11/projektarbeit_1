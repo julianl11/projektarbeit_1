{
  "cells": [
    {
      "cell_type": "markdown",
      "metadata": {
        "id": "view-in-github",
        "colab_type": "text"
      },
      "source": [
        "<a href=\"https://colab.research.google.com/github/julianl11/projektarbeit_1/blob/main/03_computer_vision_torch.ipynb\" target=\"_parent\"><img src=\"https://colab.research.google.com/assets/colab-badge.svg\" alt=\"Open In Colab\"/></a>"
      ]
    },
    {
      "cell_type": "markdown",
      "id": "f3414dd0",
      "metadata": {
        "id": "f3414dd0"
      },
      "source": [
        "# Start GO!"
      ]
    },
    {
      "cell_type": "code",
      "execution_count": null,
      "id": "5c290d08",
      "metadata": {
        "id": "5c290d08"
      },
      "outputs": [],
      "source": [
        "\"hello\""
      ]
    },
    {
      "cell_type": "code",
      "execution_count": null,
      "id": "86fc93ba",
      "metadata": {
        "id": "86fc93ba"
      },
      "outputs": [],
      "source": [
        "import torch\n",
        "from torch import nn\n",
        "\n",
        "# Import torchvision\n",
        "import torchvision\n",
        "from torchvision import datasets\n",
        "from torchvision.transforms import ToTensor\n",
        "\n",
        "# Import matplotlib for visualization\n",
        "import matplotlib.pyplot as plt\n",
        "\n",
        "# Check versions\n",
        "# Note: your PyTorch version shouldn't be lower than 1.10.0 and torchvision version shouldn't be lower than 0.11\n",
        "print(f\"PyTorch version: {torch.__version__}\\ntorchvision version: {torchvision.__version__}\")"
      ]
    },
    {
      "cell_type": "code",
      "source": [
        "train_data = datasets.FashionMNIST(\n",
        "    root=\"data\", # where to download data to?\n",
        "    train=True, # get training data\n",
        "    download=True, # download data if it doesn't exist on disk\n",
        "    transform=ToTensor(), # images come as PIL format, we want to turn into Torch tensors\n",
        "    target_transform=None # you can transform labels as well\n",
        ")\n",
        "\n",
        "# Setup testing data\n",
        "test_data = datasets.FashionMNIST(\n",
        "    root=\"data\",\n",
        "    train=False, # get test data\n",
        "    download=True,\n",
        "    transform=ToTensor()\n",
        ")"
      ],
      "metadata": {
        "id": "vKg7xqDie1UU"
      },
      "id": "vKg7xqDie1UU",
      "execution_count": null,
      "outputs": []
    },
    {
      "cell_type": "code",
      "source": [
        "len(train_data[0])"
      ],
      "metadata": {
        "id": "uzxGSuTAe633"
      },
      "id": "uzxGSuTAe633",
      "execution_count": null,
      "outputs": []
    },
    {
      "cell_type": "code",
      "source": [
        "img, label = train_data[0]\n",
        "print(img.shape, label)"
      ],
      "metadata": {
        "id": "spU0fwQgfTXT"
      },
      "id": "spU0fwQgfTXT",
      "execution_count": null,
      "outputs": []
    },
    {
      "cell_type": "code",
      "source": [
        "class_names = train_data.classes\n",
        "class_names"
      ],
      "metadata": {
        "id": "ZXeZcsHQe78w"
      },
      "id": "ZXeZcsHQe78w",
      "execution_count": null,
      "outputs": []
    },
    {
      "cell_type": "code",
      "source": [
        "import matplotlib.pyplot as plt\n",
        "image, label = train_data[0]\n",
        "print(f\"Image shape: {image.shape}\")\n",
        "plt.imshow(image.squeeze()) # image shape is [1, 28, 28] (colour channels, height, width)\n",
        "plt.title(label);"
      ],
      "metadata": {
        "id": "edMUC-osfg0y"
      },
      "id": "edMUC-osfg0y",
      "execution_count": null,
      "outputs": []
    },
    {
      "cell_type": "code",
      "source": [
        "train_dataloader = torch.utils.data.DataLoader(train_data, batch_size=32, shuffle=True)\n",
        "test_dataloader = torch.utils.data.DataLoader(test_data, batch_size=32, shuffle=False)"
      ],
      "metadata": {
        "id": "NyU8csiYfhHy"
      },
      "id": "NyU8csiYfhHy",
      "execution_count": null,
      "outputs": []
    },
    {
      "cell_type": "code",
      "source": [
        "(next(iter(train_dataloader))[0]).shape"
      ],
      "metadata": {
        "id": "FZcbcSjBf6Ng"
      },
      "id": "FZcbcSjBf6Ng",
      "execution_count": null,
      "outputs": []
    },
    {
      "cell_type": "code",
      "source": [
        "train_features_batch, train_labels_batch = next(iter(train_dataloader))\n",
        "train_features_batch.shape, train_labels_batch.shape"
      ],
      "metadata": {
        "id": "Mcz7YeZDf4gV"
      },
      "id": "Mcz7YeZDf4gV",
      "execution_count": null,
      "outputs": []
    },
    {
      "cell_type": "code",
      "source": [
        "torch.manual_seed(42)\n",
        "random_idx = torch.randint(0, len(train_features_batch), size=[1]).item()\n",
        "img, label = train_features_batch[random_idx], train_labels_batch[random_idx]\n",
        "plt.imshow(img.squeeze(), cmap=\"gray\")\n",
        "plt.title(class_names[label])\n",
        "plt.axis(\"Off\");\n",
        "print(f\"Image size: {img.shape}\")\n",
        "print(f\"Label: {label}, label size: {label.shape}\")"
      ],
      "metadata": {
        "id": "2A5zZMNxfwqS"
      },
      "id": "2A5zZMNxfwqS",
      "execution_count": null,
      "outputs": []
    },
    {
      "cell_type": "code",
      "source": [
        "flatten_model = nn.Flatten()\n",
        "\n",
        "x = train_features_batch[0]\n",
        "\n",
        "print(f\"Shape before flattening: {x.shape}\")\n",
        "print(f\"Shape after flattening: {flatten_model(x).shape}\")\n",
        "print(f\"Dim after flattening: {flatten_model(x).dim()}\")\n",
        "#flatten_model(x)"
      ],
      "metadata": {
        "id": "acDyLgdBgDx1"
      },
      "id": "acDyLgdBgDx1",
      "execution_count": null,
      "outputs": []
    },
    {
      "cell_type": "code",
      "source": [
        "from torch import nn\n",
        "\n",
        "class FashionMNISTModelV1(nn.Module):\n",
        "  def __init__(self,\n",
        "               input_shape: int,\n",
        "               hidden_units: int,\n",
        "               output_shape: int):\n",
        "    super().__init__()\n",
        "\n",
        "    self.layer_stack = nn.Sequential(\n",
        "        nn.Flatten(),\n",
        "        nn.Linear(in_features=input_shape, out_features=hidden_units),\n",
        "        nn.Linear(in_features=hidden_units, out_features=output_shape)\n",
        "    )\n",
        "\n",
        "  def forward(self, x: torch.Tensor):\n",
        "    return self.layer_stack(x)"
      ],
      "metadata": {
        "id": "wFYJa81bgOFG"
      },
      "id": "wFYJa81bgOFG",
      "execution_count": null,
      "outputs": []
    },
    {
      "cell_type": "code",
      "source": [
        "int(class_names.__len__())"
      ],
      "metadata": {
        "id": "8OzTZHS4izuY"
      },
      "id": "8OzTZHS4izuY",
      "execution_count": null,
      "outputs": []
    },
    {
      "cell_type": "code",
      "source": [
        "model_1 = FashionMNISTModelV1(input_shape=784, hidden_units=10, output_shape=int(class_names.__len__()))\n",
        "model_1.to(\"cpu\")"
      ],
      "metadata": {
        "id": "IsxbVTTwhDeh"
      },
      "id": "IsxbVTTwhDeh",
      "execution_count": null,
      "outputs": []
    },
    {
      "cell_type": "code",
      "source": [
        "dummy_x = torch.randn((1, 28, 28))\n",
        "dummy_x.shape"
      ],
      "metadata": {
        "id": "rEG1XYJYjGB6"
      },
      "id": "rEG1XYJYjGB6",
      "execution_count": null,
      "outputs": []
    },
    {
      "cell_type": "code",
      "source": [
        "model_1(dummy_x)"
      ],
      "metadata": {
        "id": "U0f-qmoojb-_"
      },
      "id": "U0f-qmoojb-_",
      "execution_count": null,
      "outputs": []
    },
    {
      "cell_type": "code",
      "source": [
        "model_1(dummy_x).squeeze().__len__()"
      ],
      "metadata": {
        "id": "j6vdu5_JjNTT"
      },
      "id": "j6vdu5_JjNTT",
      "execution_count": null,
      "outputs": []
    },
    {
      "cell_type": "code",
      "source": [
        "model_1.state_dict()"
      ],
      "metadata": {
        "id": "mMfSIwZakQwx"
      },
      "id": "mMfSIwZakQwx",
      "execution_count": null,
      "outputs": []
    },
    {
      "cell_type": "code",
      "source": [
        "model_1.state_dict()[\"layer_stack.1.weight\"].squeeze()[0].__len__()"
      ],
      "metadata": {
        "id": "kWNa5AqsjPPU"
      },
      "id": "kWNa5AqsjPPU",
      "execution_count": null,
      "outputs": []
    },
    {
      "cell_type": "code",
      "source": [
        "import requests\n",
        "from pathlib import Path\n",
        "\n",
        "if Path(\"helper_functions.py\").is_file():\n",
        "  print(\"helper_functions.py already exists, skipping download\")\n",
        "else:\n",
        "  request = requests.get(\"https://raw.githubusercontent.com/mrdbourke/pytorch-deep-learning/main/helper_functions.py\")\n",
        "  with open(\"helper_functions.py\", \"wb\") as f:\n",
        "    f.write(request.content)"
      ],
      "metadata": {
        "id": "YIi8LuLinCtg"
      },
      "id": "YIi8LuLinCtg",
      "execution_count": null,
      "outputs": []
    },
    {
      "cell_type": "code",
      "source": [
        "from helper_functions import accuracy_fn"
      ],
      "metadata": {
        "id": "iVpQI74LooyP"
      },
      "id": "iVpQI74LooyP",
      "execution_count": null,
      "outputs": []
    },
    {
      "cell_type": "code",
      "source": [
        "loss_fn = nn.CrossEntropyLoss()\n",
        "optimizer = torch.optim.Adam(params=model_1.parameters(), lr = 0.01)"
      ],
      "metadata": {
        "id": "yyDIdNUXouZk"
      },
      "id": "yyDIdNUXouZk",
      "execution_count": null,
      "outputs": []
    },
    {
      "cell_type": "code",
      "source": [
        "next(model_1.parameters()).squeeze().shape"
      ],
      "metadata": {
        "id": "9sJUbBfDpKpm"
      },
      "id": "9sJUbBfDpKpm",
      "execution_count": null,
      "outputs": []
    },
    {
      "cell_type": "code",
      "source": [
        "from timeit import default_timer as timer\n",
        "\n",
        "def print_train_time(start: float, end:float, device: torch.device = None):\n",
        "  total_time = end-start\n",
        "  print(f\"Train tim on: {device} took {total_time:.3f} seconds\")\n",
        "  return total_time"
      ],
      "metadata": {
        "id": "2BExr81TpMo7"
      },
      "id": "2BExr81TpMo7",
      "execution_count": null,
      "outputs": []
    },
    {
      "cell_type": "code",
      "source": [
        "start_time = timer()\n",
        "\n",
        "end_time = timer()\n",
        "print_train_time(start_time, end_time, device=\"cpu\")"
      ],
      "metadata": {
        "id": "JdWaUAoeqHBW"
      },
      "id": "JdWaUAoeqHBW",
      "execution_count": null,
      "outputs": []
    },
    {
      "cell_type": "markdown",
      "source": [
        "## optimizer will step per batch\n",
        "## loss will be calculated per batch"
      ],
      "metadata": {
        "id": "VCF28hn6rcUH"
      },
      "id": "VCF28hn6rcUH"
    },
    {
      "cell_type": "code",
      "source": [
        "X, y  = next(iter(train_dataloader))\n",
        "print(f\"Shape of X: {X.shape}\")\n",
        "print(f\"Shape of y: {y.shape}, {y}\")"
      ],
      "metadata": {
        "id": "fNrE1hvwsWs9"
      },
      "id": "fNrE1hvwsWs9",
      "execution_count": null,
      "outputs": []
    },
    {
      "cell_type": "code",
      "source": [
        "dummy_x.shape"
      ],
      "metadata": {
        "id": "3pgdXf4Zti43"
      },
      "id": "3pgdXf4Zti43",
      "execution_count": null,
      "outputs": []
    },
    {
      "cell_type": "code",
      "source": [
        "model_1(dummy_x)"
      ],
      "metadata": {
        "id": "UbdpBJ_Btgag"
      },
      "id": "UbdpBJ_Btgag",
      "execution_count": null,
      "outputs": []
    },
    {
      "cell_type": "code",
      "source": [
        "y = torch.tensor([1])\n",
        "print(f\"{model_1(dummy_x)}, {y}\")\n",
        "loss_fn(model_1(dummy_x), y)"
      ],
      "metadata": {
        "id": "G4wesBZvtziT"
      },
      "id": "G4wesBZvtziT",
      "execution_count": null,
      "outputs": []
    },
    {
      "cell_type": "code",
      "source": [
        "from tqdm.auto import tqdm\n",
        "\n",
        "torch.manual_seed(42)\n",
        "train_time_start_on_cpu = timer()\n",
        "\n",
        "epochs = 3\n",
        "\n",
        "for epoch in tqdm(range(epochs)):\n",
        "  print(f\"Epoch: {epoch}\")\n",
        "\n",
        "  train_loss = 0\n",
        "\n",
        "  for batch, (X, y) in enumerate(train_dataloader):\n",
        "    model_1.train()\n",
        "    y_pred = model_1(X)\n",
        "    loss = loss_fn(y_pred, y)\n",
        "    train_loss += loss\n",
        "    optimizer.zero_grad()\n",
        "    loss.backward()\n",
        "    optimizer.step()\n",
        "\n",
        "  if batch % 400 == 0:\n",
        "    print(f\"Looked at {batch * len(X)}/{len(train_dataloader.dataset)} samples\")\n",
        "\n",
        "  train_loss = train_loss / len(train_dataloader)\n",
        "  print(f\"Train loss: {train_loss}\")\n",
        "\n",
        "  test_loss, test_acc = 0, 0\n",
        "\n",
        "  model_1.eval()\n",
        "  with torch.inference_mode():\n",
        "    for X_test, y_test in test_dataloader:\n",
        "      test_pred = model_1(X_test)\n",
        "      test_loss += loss_fn(test_pred, y_test)\n",
        "      test_acc += accuracy_fn(y_true=y_test, y_pred=test_pred.argmax(dim=1))\n",
        "\n",
        "  test_loss = test_loss / len(test_dataloader)\n",
        "  test_acc = test_acc / len(test_dataloader)\n",
        "\n",
        "  print(f\"Test loss: {test_loss} | Test accuracy: {test_acc}\")\n",
        "\n",
        "train_time_end_on_cpu = timer()\n",
        "total_train_time_model_0 = print_train_time(start=train_time_start_on_cpu, end=train_time_end_on_cpu, device=str(next(model_1.parameters()).device))\n"
      ],
      "metadata": {
        "id": "qNrtdl3XrfpC"
      },
      "id": "qNrtdl3XrfpC",
      "execution_count": null,
      "outputs": []
    },
    {
      "cell_type": "code",
      "source": [
        "X, y = next(iter(test_dataloader))\n",
        "X, y.__len__()"
      ],
      "metadata": {
        "id": "mCloOQJrwSjq"
      },
      "id": "mCloOQJrwSjq",
      "execution_count": null,
      "outputs": []
    },
    {
      "cell_type": "code",
      "source": [
        "def eval_model(model: torch.nn.Module, data_loader: torch.utils.data.DataLoader, loss_fn: torch.nn.Module, accuracy_fn):\n",
        "  \"\"\"Return dictionary containing the results of model predicting on data_loader\"\"\"\n",
        "  loss, acc = 0, 0\n",
        "  model.eval()\n",
        "  with torch.inference_mode():\n",
        "    for X, y in data_loader:\n",
        "      X, y = X.to(device), y.to(device)\n",
        "      y_pred = model(X)\n",
        "      loss = loss + loss_fn(y_pred, y)\n",
        "      acc = acc + accuracy_fn(y_true=y, y_pred=y_pred.argmax(dim=1))\n",
        "  loss = loss / len(data_loader)\n",
        "  acc = acc / len(data_loader)\n",
        "\n",
        "  return {\"model_name\": model.__class__.__name__,\n",
        "          \"model_loss\": loss.item(),\n",
        "          \"model_acc\": acc}"
      ],
      "metadata": {
        "id": "XKQiPCIEwYC9"
      },
      "id": "XKQiPCIEwYC9",
      "execution_count": null,
      "outputs": []
    },
    {
      "cell_type": "code",
      "source": [
        "device = \"cuda\" if torch.cuda.is_available() else \"cpu\"\n",
        "device"
      ],
      "metadata": {
        "id": "x85GOC_UQRlJ"
      },
      "id": "x85GOC_UQRlJ",
      "execution_count": null,
      "outputs": []
    },
    {
      "cell_type": "code",
      "source": [
        "eval_model(model_1, test_dataloader, loss_fn, accuracy_fn)"
      ],
      "metadata": {
        "id": "kKA-A_kw8UIi"
      },
      "id": "kKA-A_kw8UIi",
      "execution_count": null,
      "outputs": []
    },
    {
      "cell_type": "code",
      "source": [
        "model_1.__class__.__name__"
      ],
      "metadata": {
        "id": "95ajlF0n8bAp"
      },
      "id": "95ajlF0n8bAp",
      "execution_count": null,
      "outputs": []
    },
    {
      "cell_type": "code",
      "source": [
        "device = \"cuda\" if torch.cuda.is_available() else \"cpu\"\n",
        "device"
      ],
      "metadata": {
        "id": "_oy_lm948qif"
      },
      "id": "_oy_lm948qif",
      "execution_count": null,
      "outputs": []
    },
    {
      "cell_type": "code",
      "source": [
        "class FashionMNISTModelV2(nn.Module):\n",
        "\n",
        "  def __init__(self, input_shape: int, hidden_units: int, output_shape: int):\n",
        "    super().__init__()\n",
        "\n",
        "    self.layer_stack = nn.Sequential(\n",
        "        nn.Flatten(),\n",
        "        nn.Linear(in_features=input_shape, out_features=hidden_units),\n",
        "        nn.ReLU(),\n",
        "        nn.Linear(in_features=hidden_units, out_features=output_shape),\n",
        "        nn.ReLU()\n",
        "    )\n",
        "\n",
        "  def forward(self, x: torch.Tensor):\n",
        "    return self.layer_stack(x)"
      ],
      "metadata": {
        "id": "EEm8RPet9vQy"
      },
      "id": "EEm8RPet9vQy",
      "execution_count": null,
      "outputs": []
    },
    {
      "cell_type": "code",
      "source": [
        "model_2 = FashionMNISTModelV2(input_shape=784, hidden_units=10, output_shape=10)\n",
        "model_2.to(device)"
      ],
      "metadata": {
        "id": "c_te_9Lo_GSf"
      },
      "id": "c_te_9Lo_GSf",
      "execution_count": null,
      "outputs": []
    },
    {
      "cell_type": "code",
      "source": [
        "loss_fn = nn.CrossEntropyLoss()\n",
        "optimizer = torch.optim.Adam(params=model_2.parameters(), lr=0.01)"
      ],
      "metadata": {
        "id": "o5pzsEp5AuUi"
      },
      "id": "o5pzsEp5AuUi",
      "execution_count": null,
      "outputs": []
    },
    {
      "cell_type": "code",
      "source": [
        "loss_fn, optimizer"
      ],
      "metadata": {
        "id": "OAoMxV3qAnfB"
      },
      "id": "OAoMxV3qAnfB",
      "execution_count": null,
      "outputs": []
    },
    {
      "cell_type": "code",
      "source": [
        "from tqdm.auto import tqdm\n",
        "\n",
        "torch.manual_seed(42)\n",
        "train_time_start_on_cpu = timer()\n",
        "\n",
        "epochs = 3\n",
        "\n",
        "for epoch in tqdm(range(epochs)):\n",
        "  print(f\"Epoch: {epoch}\")\n",
        "\n",
        "  train_loss = 0\n",
        "\n",
        "  for batch, (X, y) in enumerate(train_dataloader):\n",
        "    X, y = X.to(device), y.to(device)\n",
        "    model_2.train()\n",
        "    y_pred = model_2(X)\n",
        "    loss = loss_fn(y_pred, y)\n",
        "    train_loss += loss\n",
        "    optimizer.zero_grad()\n",
        "    loss.backward()\n",
        "    optimizer.step()\n",
        "\n",
        "  if batch % 400 == 0:\n",
        "    print(f\"Looked at {batch * len(X)}/{len(train_dataloader.dataset)} samples\")\n",
        "\n",
        "  train_loss = train_loss / len(train_dataloader)\n",
        "  print(f\"Train loss: {train_loss}\")\n",
        "\n",
        "  test_loss, test_acc = 0, 0\n",
        "\n",
        "  model_2.eval()\n",
        "  with torch.inference_mode():\n",
        "    for X_test, y_test in test_dataloader:\n",
        "      X_test, y_test = X_test.to(device), y_test.to(device)\n",
        "      test_pred = model_2(X_test)\n",
        "      test_loss += loss_fn(test_pred, y_test)\n",
        "      test_acc += accuracy_fn(y_true=y_test, y_pred=test_pred.argmax(dim=1))\n",
        "\n",
        "  test_loss = test_loss / len(test_dataloader)\n",
        "  test_acc = test_acc / len(test_dataloader)\n",
        "\n",
        "  print(f\"Test loss: {test_loss} | Test accuracy: {test_acc}\")\n",
        "\n",
        "train_time_end_on_cpu = timer()\n",
        "total_train_time_model_0 = print_train_time(start=train_time_start_on_cpu, end=train_time_end_on_cpu, device=str(next(model_2.parameters()).device))\n"
      ],
      "metadata": {
        "id": "6LzRnVL9_WwL"
      },
      "id": "6LzRnVL9_WwL",
      "execution_count": null,
      "outputs": []
    },
    {
      "cell_type": "code",
      "source": [
        "eval_model(model_2, test_dataloader, loss_fn, accuracy_fn)"
      ],
      "metadata": {
        "id": "PPCzZ-ap-6Ap"
      },
      "id": "PPCzZ-ap-6Ap",
      "execution_count": null,
      "outputs": []
    },
    {
      "cell_type": "code",
      "source": [
        "74.52076677316293 == eval_model(model_2, test_dataloader, loss_fn, accuracy_fn)[\"model_acc\"]"
      ],
      "metadata": {
        "id": "tunai90UIlxi"
      },
      "id": "tunai90UIlxi",
      "execution_count": null,
      "outputs": []
    },
    {
      "cell_type": "code",
      "source": [
        "def train_func(model: torch.nn.Module,\n",
        "               epochs: int,\n",
        "               train_dataloader: torch.utils.data.DataLoader,\n",
        "               test_dataloader: torch.utils.data.DataLoader,\n",
        "               device: torch.device):\n",
        "  model.to(device)\n",
        "\n",
        "  for epoch in range(epochs):\n",
        "    print(f\"Epoch: {epoch}\")\n",
        "\n",
        "    train_loss = 0\n",
        "\n",
        "    for batch, (X, y) in enumerate(train_dataloader):\n",
        "      model.train()\n",
        "\n",
        "      X, y = X.to(device), y.to(device)\n",
        "\n",
        "      y_pred = model(X)\n",
        "      loss = loss_fn(y_pred, y)\n",
        "      train_loss += loss\n",
        "      optimizer.zero_grad()\n",
        "      loss.backward()\n",
        "      optimizer.step()\n",
        "\n",
        "    if batch % 400 == 0:\n",
        "      print(f\"Looked at {batch * len(X)}/{len(train_dataloader.dataset)} samples\")\n",
        "\n",
        "    train_loss = train_loss / len(train_dataloader)\n",
        "    print(f\"Train loss: {train_loss}\")\n",
        "\n"
      ],
      "metadata": {
        "id": "917YGXob_Q1f"
      },
      "id": "917YGXob_Q1f",
      "execution_count": null,
      "outputs": []
    },
    {
      "cell_type": "code",
      "source": [
        "train_func(model_2, 3, train_dataloader, test_dataloader, device)"
      ],
      "metadata": {
        "id": "gIf8cskpBv9P"
      },
      "id": "gIf8cskpBv9P",
      "execution_count": null,
      "outputs": []
    },
    {
      "cell_type": "code",
      "source": [
        "def test_func(model: torch.nn.Module,\n",
        "              train_dataloader: torch.utils.data.DataLoader,\n",
        "              test_dataloader: torch.utils.data.DataLoader,\n",
        "              device: torch.device,\n",
        "              accuracy_fn ):\n",
        "\n",
        "\n",
        "    test_loss, test_acc = 0, 0\n",
        "\n",
        "    model.eval()\n",
        "    with torch.inference_mode():\n",
        "      for X_test, y_test in test_dataloader:\n",
        "        X_test, y_test = X_test.to(device), y_test.to(device)\n",
        "        test_pred = model(X_test)\n",
        "        test_loss += loss_fn(test_pred, y_test)\n",
        "        test_acc += accuracy_fn(y_true=y_test, y_pred=test_pred.argmax(dim=1))\n",
        "\n",
        "    test_loss = test_loss / len(test_dataloader)\n",
        "    test_acc = test_acc / len(test_dataloader)\n",
        "\n",
        "    print(f\"Test loss: {test_loss} | Test accuracy: {test_acc}\")"
      ],
      "metadata": {
        "id": "57aHeX4aB0hB"
      },
      "id": "57aHeX4aB0hB",
      "execution_count": null,
      "outputs": []
    },
    {
      "cell_type": "code",
      "source": [
        "test_func(model_2, train_dataloader, test_dataloader, device, accuracy_fn)"
      ],
      "metadata": {
        "id": "Tem6lVXTDNz3"
      },
      "id": "Tem6lVXTDNz3",
      "execution_count": null,
      "outputs": []
    },
    {
      "cell_type": "code",
      "source": [
        "eval_model(model_2, test_dataloader, loss_fn, accuracy_fn)"
      ],
      "metadata": {
        "id": "EzDxkcs2Dqg3"
      },
      "id": "EzDxkcs2Dqg3",
      "execution_count": null,
      "outputs": []
    },
    {
      "cell_type": "markdown",
      "source": [
        "# Creating CCN Model - Juhu!"
      ],
      "metadata": {
        "id": "dWGwveJ_KK0V"
      },
      "id": "dWGwveJ_KK0V"
    },
    {
      "cell_type": "code",
      "source": [
        "class FashionMNISTModelV3(nn.Module):\n",
        "\n",
        "  def __init__(self, input_shape: int, hidden_units: int, output_shape: int):\n",
        "    super().__init__()\n",
        "\n",
        "    self.conv1_block = nn.Sequential(\n",
        "        nn.Conv2d(in_channels=input_shape, out_channels=hidden_units, kernel_size=(3,3), stride=1, padding=1), # shape 28*28\n",
        "        nn.ReLU(),\n",
        "        nn.Conv2d(in_channels=hidden_units, out_channels=hidden_units, kernel_size=(3,3), stride=1, padding=1), # 26*26\n",
        "        nn.ReLU(),\n",
        "        nn.MaxPool2d(kernel_size=(2,2)) # 12 * 12\n",
        "    )\n",
        "\n",
        "    self.conv2_block = nn.Sequential(\n",
        "        nn.Conv2d(in_channels=hidden_units, out_channels=hidden_units, kernel_size=(3,3), stride=1, padding=1), # 11*11\n",
        "        nn.ReLU(),\n",
        "        nn.Conv2d(in_channels=hidden_units, out_channels=hidden_units, kernel_size=(3,3), stride=1, padding=1), # 9 * 9\n",
        "        nn.ReLU(),\n",
        "        nn.MaxPool2d(kernel_size=(2,2)) # 4 * 4\n",
        "    )\n",
        "\n",
        "    self.classifier = nn.Sequential(\n",
        "        nn.Flatten(),\n",
        "        nn.Linear(in_features=hidden_units*7*7, out_features=output_shape)\n",
        "    )\n",
        "\n",
        "  def forward(self, x: torch.Tensor):\n",
        "    x = self.conv1_block(x)\n",
        "    x = self.conv2_block(x)\n",
        "    x = self.classifier(x)\n",
        "    return x"
      ],
      "metadata": {
        "id": "rPAaReCwKO9S"
      },
      "id": "rPAaReCwKO9S",
      "execution_count": null,
      "outputs": []
    },
    {
      "cell_type": "code",
      "source": [
        "torch.tensor([49]).to(device).item()"
      ],
      "metadata": {
        "id": "ERB9G6tYAv_M"
      },
      "id": "ERB9G6tYAv_M",
      "execution_count": null,
      "outputs": []
    },
    {
      "cell_type": "code",
      "source": [
        "model_3 = FashionMNISTModelV3(input_shape=1, hidden_units=10, output_shape=10)\n",
        "model_3"
      ],
      "metadata": {
        "id": "3MTBSROvNdYO"
      },
      "id": "3MTBSROvNdYO",
      "execution_count": null,
      "outputs": []
    },
    {
      "cell_type": "code",
      "source": [
        "torch.manual_seed(42)\n",
        "\n",
        "images = torch.rand(size=(32, 1, 28, 28))\n",
        "test_image = images[0]\n",
        "print(test_image.shape)\n"
      ],
      "metadata": {
        "id": "oUaTag0KNbMy"
      },
      "id": "oUaTag0KNbMy",
      "execution_count": null,
      "outputs": []
    },
    {
      "cell_type": "code",
      "source": [
        "conv_layer = nn.Conv2d(in_channels=1, out_channels=10, kernel_size=(3,3), stride=1, padding=10)\n",
        "conv_layer"
      ],
      "metadata": {
        "id": "9ZSOMWrSXyzL"
      },
      "id": "9ZSOMWrSXyzL",
      "execution_count": null,
      "outputs": []
    },
    {
      "cell_type": "code",
      "source": [
        "conv_layer(test_image).shape"
      ],
      "metadata": {
        "id": "ihwBHXQYX-qz"
      },
      "id": "ihwBHXQYX-qz",
      "execution_count": null,
      "outputs": []
    },
    {
      "cell_type": "code",
      "source": [
        "conv_output = conv_layer(test_image)\n",
        "conv_output"
      ],
      "metadata": {
        "id": "KLMlB1nEYLxr"
      },
      "id": "KLMlB1nEYLxr",
      "execution_count": null,
      "outputs": []
    },
    {
      "cell_type": "code",
      "source": [
        "image.shape"
      ],
      "metadata": {
        "id": "S-XW9wjnZTbS"
      },
      "id": "S-XW9wjnZTbS",
      "execution_count": null,
      "outputs": []
    },
    {
      "cell_type": "code",
      "source": [
        "image.unsqueeze(dim=1).shape"
      ],
      "metadata": {
        "id": "DOo_hu9sjvom"
      },
      "id": "DOo_hu9sjvom",
      "execution_count": null,
      "outputs": []
    },
    {
      "cell_type": "code",
      "source": [
        "pooling_layer = nn.MaxPool2d(kernel_size=(2))\n",
        "pooling_layer"
      ],
      "metadata": {
        "id": "6VseOUN8jO2r"
      },
      "id": "6VseOUN8jO2r",
      "execution_count": null,
      "outputs": []
    },
    {
      "cell_type": "code",
      "source": [
        "pooling_layer(image).shape"
      ],
      "metadata": {
        "id": "9zlLDh5ZjXCz"
      },
      "id": "9zlLDh5ZjXCz",
      "execution_count": null,
      "outputs": []
    },
    {
      "cell_type": "code",
      "source": [
        "t = torch.randn([1,3,3])"
      ],
      "metadata": {
        "id": "HY12QKwmjcwA"
      },
      "id": "HY12QKwmjcwA",
      "execution_count": null,
      "outputs": []
    },
    {
      "cell_type": "code",
      "source": [
        "t.shape"
      ],
      "metadata": {
        "id": "JDtLu9xpkVrP"
      },
      "id": "JDtLu9xpkVrP",
      "execution_count": null,
      "outputs": []
    },
    {
      "cell_type": "code",
      "source": [
        "t.dim()"
      ],
      "metadata": {
        "id": "Xcggy1z3klbY"
      },
      "id": "Xcggy1z3klbY",
      "execution_count": null,
      "outputs": []
    },
    {
      "cell_type": "code",
      "source": [
        "t"
      ],
      "metadata": {
        "id": "r4Ke-zWKkppq"
      },
      "id": "r4Ke-zWKkppq",
      "execution_count": null,
      "outputs": []
    },
    {
      "cell_type": "code",
      "source": [
        "pooling_layer(t)"
      ],
      "metadata": {
        "id": "hLF1nDq4kWLY"
      },
      "id": "hLF1nDq4kWLY",
      "execution_count": null,
      "outputs": []
    },
    {
      "cell_type": "code",
      "source": [
        "t.max()"
      ],
      "metadata": {
        "id": "oYP50hlEkYxc"
      },
      "id": "oYP50hlEkYxc",
      "execution_count": null,
      "outputs": []
    },
    {
      "cell_type": "code",
      "source": [
        "plt.imshow(image.squeeze(), cmap=\"grey\")"
      ],
      "metadata": {
        "id": "9iukP0-wkbH3"
      },
      "id": "9iukP0-wkbH3",
      "execution_count": null,
      "outputs": []
    },
    {
      "cell_type": "code",
      "source": [
        "device"
      ],
      "metadata": {
        "id": "yUhVQ3fR-VkC"
      },
      "id": "yUhVQ3fR-VkC",
      "execution_count": null,
      "outputs": []
    },
    {
      "cell_type": "code",
      "source": [
        "model_3.to(device)"
      ],
      "metadata": {
        "id": "VhFZ-dYv90CL"
      },
      "id": "VhFZ-dYv90CL",
      "execution_count": null,
      "outputs": []
    },
    {
      "cell_type": "code",
      "source": [
        "image = image.to(device)\n",
        "image.device"
      ],
      "metadata": {
        "id": "sEMhG44E9_qr"
      },
      "id": "sEMhG44E9_qr",
      "execution_count": null,
      "outputs": []
    },
    {
      "cell_type": "code",
      "source": [
        "model_3.to(device)\n",
        "model_3(image.unsqueeze(dim=0))"
      ],
      "metadata": {
        "id": "lDGCxK5H-dM1"
      },
      "id": "lDGCxK5H-dM1",
      "execution_count": null,
      "outputs": []
    },
    {
      "cell_type": "code",
      "source": [
        "loss_fn = torch.nn.CrossEntropyLoss()\n",
        "optimizer = torch.optim.Adam(params=model_3.parameters(), lr=0.01)"
      ],
      "metadata": {
        "id": "neZaimQD-lR1"
      },
      "id": "neZaimQD-lR1",
      "execution_count": null,
      "outputs": []
    },
    {
      "cell_type": "markdown",
      "source": [
        "# Testing and Training the CNN Model"
      ],
      "metadata": {
        "id": "9Xy1abKGEKmf"
      },
      "id": "9Xy1abKGEKmf"
    },
    {
      "cell_type": "code",
      "source": [
        "torch.manual_seed(42)\n",
        "torch.cuda.manual_seed(42)\n",
        "\n",
        "train_time_start_on_cpu = timer()\n",
        "\n",
        "for epoch in tqdm(range(3)):\n",
        "  print(f\"Epoch: {epoch}\")\n",
        "  train_func(model_3, 1, train_dataloader, test_dataloader, device)\n",
        "  test_func(model_3, train_dataloader, test_dataloader, device, accuracy_fn)\n",
        "\n",
        "train_time_end_on_cpu = timer()\n",
        "\n",
        "print(f\"Total train time: {print_train_time(start=train_time_start_on_cpu, end=train_time_end_on_cpu, device=str(next(model_3.parameters()).device))}\")"
      ],
      "metadata": {
        "id": "zX_ykV0_D4XX"
      },
      "id": "zX_ykV0_D4XX",
      "execution_count": null,
      "outputs": []
    },
    {
      "cell_type": "code",
      "source": [
        "eval_model(model_3, test_dataloader, loss_fn, accuracy_fn)"
      ],
      "metadata": {
        "id": "ZHWnmemVEr2l"
      },
      "id": "ZHWnmemVEr2l",
      "execution_count": null,
      "outputs": []
    },
    {
      "cell_type": "code",
      "source": [
        "import pandas as pd"
      ],
      "metadata": {
        "id": "FxyBiGjVFeFP"
      },
      "id": "FxyBiGjVFeFP",
      "execution_count": null,
      "outputs": []
    },
    {
      "cell_type": "code",
      "source": [
        "results = pd.DataFrame([eval_model(model_3, test_dataloader, loss_fn, accuracy_fn), eval_model(model_2, test_dataloader, loss_fn, accuracy_fn)])\n",
        "results"
      ],
      "metadata": {
        "id": "nvWHaql-P4aV"
      },
      "id": "nvWHaql-P4aV",
      "execution_count": null,
      "outputs": []
    },
    {
      "cell_type": "code",
      "source": [
        "results.set_index(\"model_name\")[\"model_acc\"].plot(kind=\"bar\")"
      ],
      "metadata": {
        "id": "NSOna6jrQOA7"
      },
      "id": "NSOna6jrQOA7",
      "execution_count": null,
      "outputs": []
    },
    {
      "cell_type": "code",
      "source": [
        "plt.imshow(image.squeeze(), cmap=\"grey\")"
      ],
      "metadata": {
        "id": "ivlLDrT6RU6i"
      },
      "id": "ivlLDrT6RU6i",
      "execution_count": null,
      "outputs": []
    },
    {
      "cell_type": "code",
      "source": [
        "model_3"
      ],
      "metadata": {
        "id": "DY3TJyikRp3R"
      },
      "id": "DY3TJyikRp3R",
      "execution_count": null,
      "outputs": []
    },
    {
      "cell_type": "code",
      "source": [
        "image.unsqueeze(dim=0).shape"
      ],
      "metadata": {
        "id": "eV7mLMz-R4Y3"
      },
      "id": "eV7mLMz-R4Y3",
      "execution_count": null,
      "outputs": []
    },
    {
      "cell_type": "code",
      "source": [
        "class_names[torch.argmax(model_3(image.unsqueeze(dim=0)))]"
      ],
      "metadata": {
        "id": "zPwHBVRVRz4w"
      },
      "id": "zPwHBVRVRz4w",
      "execution_count": null,
      "outputs": []
    },
    {
      "cell_type": "code",
      "source": [
        "class_names"
      ],
      "metadata": {
        "id": "Y1_QEknJR74Q"
      },
      "id": "Y1_QEknJR74Q",
      "execution_count": null,
      "outputs": []
    },
    {
      "cell_type": "code",
      "source": [
        "def make_predictions(model: torch.nn.Module, data: list, device: torch.device):\n",
        "  pred_probs = []\n",
        "  model.to(device)\n",
        "  model.eval()\n",
        "  with torch.inference_mode():\n",
        "    for sample in data:\n",
        "      sample = sample.to(device)\n",
        "      pred_logit = model(sample)\n",
        "      pred_prob = torch.softmax(pred_logit.squeeze(), dim=0)\n",
        "      pred_probs.append(pred_prob.cpu())\n",
        "\n",
        "\n",
        "  return torch.stack(pred_probs)\n",
        "\n"
      ],
      "metadata": {
        "id": "N2eScw_fSEPY"
      },
      "id": "N2eScw_fSEPY",
      "execution_count": null,
      "outputs": []
    },
    {
      "cell_type": "code",
      "source": [
        "list(test_dataloader)[0][1].__len__()"
      ],
      "metadata": {
        "id": "pM8E-pLkTP5L"
      },
      "id": "pM8E-pLkTP5L",
      "execution_count": null,
      "outputs": []
    },
    {
      "cell_type": "code",
      "source": [
        "import random\n",
        "random.seed(42)\n",
        "test_samples = []\n",
        "test_lables = []\n",
        "for sample, label in random.sample(list(test_dataloader), k=10):\n",
        "  test_samples.append(sample)\n",
        "  test_lables.append(label)"
      ],
      "metadata": {
        "id": "40G7QUewTFab"
      },
      "id": "40G7QUewTFab",
      "execution_count": null,
      "outputs": []
    },
    {
      "cell_type": "code",
      "source": [
        "torch.argmax(torch.softmax((make_predictions(model_3, test_samples, device))[0], dim=1), dim=1)"
      ],
      "metadata": {
        "id": "BQpcTV_LS7Kl"
      },
      "id": "BQpcTV_LS7Kl",
      "execution_count": null,
      "outputs": []
    },
    {
      "cell_type": "code",
      "source": [
        "test_lables[0]"
      ],
      "metadata": {
        "id": "xI7o7HYXTAFk"
      },
      "id": "xI7o7HYXTAFk",
      "execution_count": null,
      "outputs": []
    },
    {
      "cell_type": "code",
      "source": [
        "result_bool = torch.eq(test_lables[0], torch.argmax(torch.softmax((make_predictions(model_3, test_samples, device))[0], dim=1), dim=1))"
      ],
      "metadata": {
        "id": "YY_NgNNHUXWh"
      },
      "id": "YY_NgNNHUXWh",
      "execution_count": null,
      "outputs": []
    },
    {
      "cell_type": "code",
      "source": [
        "result_count = torch.sum(result_bool == True)"
      ],
      "metadata": {
        "id": "PgQ8reCtVI_5"
      },
      "id": "PgQ8reCtVI_5",
      "execution_count": null,
      "outputs": []
    },
    {
      "cell_type": "code",
      "source": [
        "f\"{(result_count / 32)}%\""
      ],
      "metadata": {
        "id": "z8P4_abzWUDM"
      },
      "id": "z8P4_abzWUDM",
      "execution_count": null,
      "outputs": []
    },
    {
      "cell_type": "code",
      "source": [
        "test_samples[0][:10].shape"
      ],
      "metadata": {
        "id": "tN75y-gNXClt"
      },
      "id": "tN75y-gNXClt",
      "execution_count": null,
      "outputs": []
    },
    {
      "cell_type": "code",
      "source": [
        "plt.figure(figsize=(10,10))\n",
        "nrows = 3\n",
        "ncols = 3\n",
        "\n",
        "for i, sample in enumerate(test_samples[0][:9]):\n",
        "  plt.subplot(nrows, ncols, i+1)\n",
        "  plt.imshow(sample.squeeze(), cmap=\"grey\")\n",
        "  pred_label = class_names[i]\n",
        "  true_label = class_names[i]\n",
        "  plt.title(f\"Pred: {pred_label} | True: {true_label}\")\n",
        "  plt.axis(False)\n"
      ],
      "metadata": {
        "id": "9tRwoOhBWlQj"
      },
      "id": "9tRwoOhBWlQj",
      "execution_count": null,
      "outputs": []
    },
    {
      "cell_type": "code",
      "source": [
        "import mlxtend\n",
        "print(mlxtend.__version__)"
      ],
      "metadata": {
        "id": "c09EkdRgXf-D"
      },
      "id": "c09EkdRgXf-D",
      "execution_count": null,
      "outputs": []
    },
    {
      "cell_type": "markdown",
      "source": [
        "## matplot only works on cpu - data to cpu!!"
      ],
      "metadata": {
        "id": "wGg9h-CyaNU1"
      },
      "id": "wGg9h-CyaNU1"
    },
    {
      "cell_type": "code",
      "source": [
        "y_preds =[]\n",
        "model_3.eval()\n",
        "\n",
        "with torch.inference_mode():\n",
        "  for x, y in tqdm(test_dataloader, desc=\"Making predictions...\"):\n",
        "    x, y = x.to(device), y.to(device)\n",
        "\n",
        "    y_logits = model_3(x)\n",
        "    y_pred = torch.argmax(torch.softmax(y_logits, dim=1), dim=1)\n",
        "    y_preds.append(y_pred.cpu())\n",
        "\n",
        "#print(y_preds)\n",
        "y_pred_tensor = torch.cat(y_preds)\n",
        "y_pred_tensor.shape"
      ],
      "metadata": {
        "id": "hp6QzzooZiN1"
      },
      "id": "hp6QzzooZiN1",
      "execution_count": null,
      "outputs": []
    },
    {
      "cell_type": "code",
      "source": [
        "#!pip install -q torchmetrics"
      ],
      "metadata": {
        "id": "wy6jcDaOasQk"
      },
      "id": "wy6jcDaOasQk",
      "execution_count": null,
      "outputs": []
    },
    {
      "cell_type": "code",
      "source": [
        "import mlxtend\n",
        "from mlxtend.plotting import plot_confusion_matrix"
      ],
      "metadata": {
        "id": "oeoVJ9-MbKwM"
      },
      "id": "oeoVJ9-MbKwM",
      "execution_count": null,
      "outputs": []
    },
    {
      "cell_type": "code",
      "source": [
        "confmat = mlxtend.evaluate.confusion_matrix(y_target=test_lables[0], y_predicted=y_pred_tensor)"
      ],
      "metadata": {
        "id": "GYHsNp7LbxIJ"
      },
      "id": "GYHsNp7LbxIJ",
      "execution_count": null,
      "outputs": []
    },
    {
      "cell_type": "code",
      "source": [
        "from pathlib import Path\n",
        "\n",
        "# 1. Create models directory\n",
        "MODEL_PATH = Path(\"models\")\n",
        "MODEL_PATH.mkdir(parents=True, exist_ok=True)\n",
        "\n",
        "# 2. Create model save path\n",
        "MODEL_NAME = \"03_pytorch_cnn_model.pth\"\n",
        "MODEL_SAVE_PATH = MODEL_PATH / MODEL_NAME\n",
        "\n",
        "# 3. Save the model state dict\n",
        "print(f\"Saving model to: {MODEL_SAVE_PATH}\")\n",
        "torch.save(obj=model_3.state_dict(), # only saving the state_dict() only saves the models learned parameters\n",
        "           f=MODEL_SAVE_PATH)"
      ],
      "metadata": {
        "id": "tXZ7DHd0cVho"
      },
      "id": "tXZ7DHd0cVho",
      "execution_count": null,
      "outputs": []
    },
    {
      "cell_type": "code",
      "source": [
        "torch.manual_seed(42)\n",
        "\n",
        "loaded_cnn_model = FashionMNISTModelV3(input_shape=1, hidden_units=10, output_shape=10)\n",
        "loaded_cnn_model.load_state_dict(torch.load(f=MODEL_SAVE_PATH))\n",
        "loaded_cnn_model"
      ],
      "metadata": {
        "id": "E8_yk4ONegqA"
      },
      "id": "E8_yk4ONegqA",
      "execution_count": null,
      "outputs": []
    },
    {
      "cell_type": "code",
      "source": [
        "class_names[torch.argmax(loaded_cnn_model(image.unsqueeze(dim=0)))]"
      ],
      "metadata": {
        "id": "HDjx7cA8exXE"
      },
      "id": "HDjx7cA8exXE",
      "execution_count": null,
      "outputs": []
    },
    {
      "cell_type": "code",
      "source": [
        "plt.imshow(image.squeeze(), cmap=\"grey\")"
      ],
      "metadata": {
        "id": "Rd_WvORme3hc"
      },
      "id": "Rd_WvORme3hc",
      "execution_count": null,
      "outputs": []
    },
    {
      "cell_type": "code",
      "source": [
        "loaded_model_results = eval_model(loaded_cnn_model, test_dataloader, loss_fn, accuracy_fn)\n",
        "loaded_model_results"
      ],
      "metadata": {
        "id": "cHRsbASDfCCz"
      },
      "id": "cHRsbASDfCCz",
      "execution_count": null,
      "outputs": []
    },
    {
      "cell_type": "code",
      "source": [
        "model_results = eval_model(model_3, test_dataloader, loss_fn, accuracy_fn)\n",
        "model_results"
      ],
      "metadata": {
        "id": "BI4CwQ8Zf2Wx"
      },
      "id": "BI4CwQ8Zf2Wx",
      "execution_count": null,
      "outputs": []
    },
    {
      "cell_type": "code",
      "source": [
        "torch.isclose(torch.tensor(model_results[\"model_acc\"]), torch.tensor(loaded_model_results[\"model_acc\"]))"
      ],
      "metadata": {
        "id": "grDsqSZsfUHC"
      },
      "id": "grDsqSZsfUHC",
      "execution_count": null,
      "outputs": []
    },
    {
      "cell_type": "code",
      "source": [],
      "metadata": {
        "id": "JPvDgm14fv1x"
      },
      "id": "JPvDgm14fv1x",
      "execution_count": null,
      "outputs": []
    }
  ],
  "metadata": {
    "kernelspec": {
      "display_name": "Python 3",
      "name": "python3"
    },
    "language_info": {
      "codemirror_mode": {
        "name": "ipython",
        "version": 3
      },
      "file_extension": ".py",
      "mimetype": "text/x-python",
      "name": "python",
      "nbconvert_exporter": "python",
      "pygments_lexer": "ipython3",
      "version": "3.11.5"
    },
    "colab": {
      "provenance": [],
      "gpuType": "T4",
      "include_colab_link": true
    },
    "accelerator": "GPU"
  },
  "nbformat": 4,
  "nbformat_minor": 5
}