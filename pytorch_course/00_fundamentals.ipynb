{
 "cells": [
  {
   "cell_type": "code",
   "execution_count": null,
   "id": "ad554fcc",
   "metadata": {},
   "outputs": [],
   "source": [
    "import torch"
   ]
  },
  {
   "cell_type": "code",
   "execution_count": null,
   "id": "684a1b5a",
   "metadata": {},
   "outputs": [],
   "source": [
    "scalar = torch.tensor(7)"
   ]
  },
  {
   "cell_type": "code",
   "execution_count": null,
   "id": "7c46e106",
   "metadata": {},
   "outputs": [],
   "source": [
    "scalar.item()"
   ]
  },
  {
   "cell_type": "code",
   "execution_count": null,
   "id": "e53ff906",
   "metadata": {},
   "outputs": [],
   "source": [
    "vector = torch.tensor([1, 3])\n",
    "vector"
   ]
  },
  {
   "cell_type": "code",
   "execution_count": null,
   "id": "0d1ba459",
   "metadata": {},
   "outputs": [],
   "source": [
    "vector.ndim"
   ]
  },
  {
   "cell_type": "code",
   "execution_count": null,
   "id": "5816f01a",
   "metadata": {},
   "outputs": [],
   "source": [
    "vector.shape"
   ]
  },
  {
   "cell_type": "code",
   "execution_count": null,
   "id": "8869e547",
   "metadata": {},
   "outputs": [],
   "source": [
    "MATRIX = torch.tensor([[1,2], [3,4]])\n",
    "MATRIX"
   ]
  },
  {
   "cell_type": "code",
   "execution_count": null,
   "id": "e2938b4a",
   "metadata": {},
   "outputs": [],
   "source": [
    "MATRIX.ndim"
   ]
  },
  {
   "cell_type": "code",
   "execution_count": null,
   "id": "f78632e9",
   "metadata": {},
   "outputs": [],
   "source": [
    "MATRIX.shape"
   ]
  },
  {
   "cell_type": "code",
   "execution_count": null,
   "id": "dec43b7a",
   "metadata": {},
   "outputs": [],
   "source": [
    "TENSOR = torch.tensor([[[1,2], [3,4], [5,6]]])\n",
    "TENSOR"
   ]
  },
  {
   "cell_type": "code",
   "execution_count": null,
   "id": "bced805c",
   "metadata": {},
   "outputs": [],
   "source": [
    "TENSOR.ndim    "
   ]
  },
  {
   "cell_type": "code",
   "execution_count": null,
   "id": "ff99e6c5",
   "metadata": {},
   "outputs": [],
   "source": [
    "TENSOR.shape"
   ]
  },
  {
   "cell_type": "code",
   "execution_count": null,
   "id": "223ccad2",
   "metadata": {},
   "outputs": [],
   "source": [
    "TENSOR[0]"
   ]
  },
  {
   "cell_type": "code",
   "execution_count": null,
   "id": "a51e6985",
   "metadata": {},
   "outputs": [],
   "source": [
    "TENSOR.ndim"
   ]
  },
  {
   "cell_type": "code",
   "execution_count": null,
   "id": "7c6e535e",
   "metadata": {},
   "outputs": [],
   "source": [
    "random_tensor = torch.randn(2, 3, 2)\n",
    "random_tensor"
   ]
  },
  {
   "cell_type": "code",
   "execution_count": null,
   "id": "a074d6c6",
   "metadata": {},
   "outputs": [],
   "source": [
    "random_tensor.shape"
   ]
  },
  {
   "cell_type": "code",
   "execution_count": null,
   "id": "a25d7392",
   "metadata": {},
   "outputs": [],
   "source": [
    "random_tensor.size(), random_tensor.ndim"
   ]
  },
  {
   "cell_type": "code",
   "execution_count": null,
   "id": "989c0eab",
   "metadata": {},
   "outputs": [],
   "source": [
    "zeros = torch.zeros(2, 3, 2)\n",
    "ones = torch.ones(2, 1)\n",
    "zeros, ones"
   ]
  },
  {
   "cell_type": "code",
   "execution_count": null,
   "id": "030c0b2d",
   "metadata": {},
   "outputs": [],
   "source": [
    "zeros * random_tensor"
   ]
  },
  {
   "cell_type": "code",
   "execution_count": null,
   "id": "b48b1791",
   "metadata": {},
   "outputs": [],
   "source": [
    "torch.arange(11, 15)[2]"
   ]
  },
  {
   "cell_type": "code",
   "execution_count": null,
   "id": "ce65198d",
   "metadata": {},
   "outputs": [],
   "source": [
    "torch.__version__"
   ]
  },
  {
   "cell_type": "code",
   "execution_count": null,
   "id": "b86bd7ca",
   "metadata": {},
   "outputs": [],
   "source": [
    "torch.Tensor(1), torch.tensor(1)"
   ]
  },
  {
   "cell_type": "code",
   "execution_count": null,
   "id": "dc749e91",
   "metadata": {},
   "outputs": [],
   "source": [
    "import numpy as np"
   ]
  },
  {
   "cell_type": "code",
   "execution_count": null,
   "id": "f97c9d0f",
   "metadata": {},
   "outputs": [],
   "source": [
    "array = np.array([1.0, 10.0])\n",
    "tensor_torch = torch.tensor([1, 10])\n",
    "tensor = torch.from_numpy(array)\n",
    "array, tensor_torch, tensor"
   ]
  },
  {
   "cell_type": "code",
   "execution_count": null,
   "id": "7ba4400b",
   "metadata": {},
   "outputs": [],
   "source": [
    "array.dtype, tensor.dtype, tensor_torch.dtype"
   ]
  },
  {
   "cell_type": "code",
   "execution_count": null,
   "id": "586b71ea",
   "metadata": {},
   "outputs": [],
   "source": [
    "tensor_torch.numpy().dtype, tensor_torch.dtype"
   ]
  },
  {
   "cell_type": "code",
   "execution_count": null,
   "id": "c9801b2f",
   "metadata": {},
   "outputs": [],
   "source": [
    "np.linspace(-math.pi, math.pi, 6)"
   ]
  },
  {
   "cell_type": "code",
   "execution_count": null,
   "id": "de211440",
   "metadata": {},
   "outputs": [],
   "source": [
    "torch.manual_seed(42)\n",
    "torch.rand(2, 2, 3)"
   ]
  },
  {
   "cell_type": "code",
   "execution_count": null,
   "id": "872d010d",
   "metadata": {},
   "outputs": [],
   "source": [
    "torch.rand(2, 2, 3).ndim"
   ]
  },
  {
   "cell_type": "code",
   "execution_count": null,
   "id": "cd5d6e14",
   "metadata": {},
   "outputs": [],
   "source": [
    "torch.rand(2,2,3)"
   ]
  },
  {
   "cell_type": "code",
   "execution_count": null,
   "id": "2e8bd050",
   "metadata": {},
   "outputs": [],
   "source": [
    "device = \"cpu\" if not torch.cuda.is_available() else \"cpu\"\n",
    "device"
   ]
  },
  {
   "cell_type": "code",
   "execution_count": null,
   "id": "b658cc1c",
   "metadata": {},
   "outputs": [],
   "source": [
    "tensor, tensor.device"
   ]
  },
  {
   "cell_type": "code",
   "execution_count": null,
   "id": "9d5ee0af",
   "metadata": {},
   "outputs": [],
   "source": [
    "t = torch.rand(4, 2)\n",
    "print(t)"
   ]
  },
  {
   "cell_type": "code",
   "execution_count": null,
   "id": "cf7f68ed",
   "metadata": {},
   "outputs": [],
   "source": [
    "torch.abs(t), torch.asin(t)"
   ]
  },
  {
   "cell_type": "code",
   "execution_count": null,
   "id": "1403620e",
   "metadata": {},
   "outputs": [],
   "source": [
    "x = torch.tensor([1,2,3]).unsqueeze(dim=-2)\n",
    "y = torch.tensor([[1,2], [3,4], [5,6]])\n",
    "print(f\"X dimensions: {x.dim()}, Y dimensions: {y.ndim}\")\n",
    "print(f\"X shape: {x.shape}, Y shape: {y.shape}\")"
   ]
  },
  {
   "cell_type": "markdown",
   "id": "fc24d54d",
   "metadata": {},
   "source": [
    "*inner dimensions must match*\n",
    "## works: (2,3) * (3,2)\n",
    "## wont work: (3,2) * (3,2)\n",
    "*resulting shape is the outer dimension multiplied*"
   ]
  },
  {
   "cell_type": "code",
   "execution_count": null,
   "id": "c8def414",
   "metadata": {},
   "outputs": [],
   "source": [
    "torch.matmul(x, y)"
   ]
  },
  {
   "cell_type": "code",
   "execution_count": null,
   "id": "840f11d0",
   "metadata": {},
   "outputs": [],
   "source": [
    "tensor_A = torch.tensor([[1,2],\n",
    "                         [3,4],\n",
    "                         [5,6]])\n",
    "tensor_B = torch.tensor([[1,2],\n",
    "                         [4,5],\n",
    "                         [7,8]])\n",
    "print(f\"Tensor A shape: {tensor_A.shape}, Tensor B shape: {tensor_B.shape}\")\n",
    "print(f\"Tensor A dimensions: {tensor_A.dim()}, Tensor B dimensions: {tensor_B.dim()}\")\n",
    "print(f\"Tensor A: {tensor_A}, Tensor B: {tensor_B}\")\n"
   ]
  },
  {
   "cell_type": "code",
   "execution_count": null,
   "id": "2d0e62e1",
   "metadata": {},
   "outputs": [],
   "source": [
    "torch.mm(tensor_A, tensor_B)"
   ]
  },
  {
   "cell_type": "code",
   "execution_count": null,
   "id": "b1038826",
   "metadata": {},
   "outputs": [],
   "source": [
    "tensor_A.shape, tensor_A.T.shape"
   ]
  },
  {
   "cell_type": "code",
   "execution_count": null,
   "id": "9cfe9ada",
   "metadata": {},
   "outputs": [],
   "source": [
    "torch.mm(tensor_A, tensor_B.T)"
   ]
  },
  {
   "cell_type": "code",
   "execution_count": null,
   "id": "a94e6857",
   "metadata": {},
   "outputs": [],
   "source": [
    "tensor_A, torch.min(tensor_A), tensor_A.min()"
   ]
  },
  {
   "cell_type": "code",
   "execution_count": null,
   "id": "1703b022",
   "metadata": {},
   "outputs": [],
   "source": [
    "torch.mean(tensor_A.float())"
   ]
  },
  {
   "cell_type": "code",
   "execution_count": null,
   "id": "c246c642",
   "metadata": {},
   "outputs": [],
   "source": [
    "torch.sum(tensor_A)"
   ]
  },
  {
   "cell_type": "code",
   "execution_count": null,
   "id": "0fd5e617",
   "metadata": {},
   "outputs": [],
   "source": [
    "print((tensor_A == torch.max(tensor_A)).nonzero().squeeze())"
   ]
  },
  {
   "cell_type": "code",
   "execution_count": null,
   "id": "ea93d8f0",
   "metadata": {},
   "outputs": [],
   "source": [
    "torch.argmax(tensor_A)"
   ]
  },
  {
   "cell_type": "code",
   "execution_count": null,
   "id": "980bfc74",
   "metadata": {},
   "outputs": [],
   "source": [
    "tensor_A[2][1]"
   ]
  },
  {
   "cell_type": "code",
   "execution_count": null,
   "id": "a740f4f2",
   "metadata": {},
   "outputs": [],
   "source": [
    "tensor_A.shape"
   ]
  },
  {
   "cell_type": "code",
   "execution_count": null,
   "id": "3710d1e6",
   "metadata": {},
   "outputs": [],
   "source": [
    "tensor_A.reshape(2,3,1)"
   ]
  },
  {
   "cell_type": "code",
   "execution_count": null,
   "id": "2fdd29fe",
   "metadata": {},
   "outputs": [],
   "source": [
    "tensor_A_view = tensor_A.view(6,1)\n",
    "tensor_A_view = 99\n",
    "tensor_A_view"
   ]
  },
  {
   "cell_type": "code",
   "execution_count": null,
   "id": "ee714449",
   "metadata": {},
   "outputs": [],
   "source": [
    "tensor_A"
   ]
  },
  {
   "cell_type": "code",
   "execution_count": null,
   "id": "ee61d54e",
   "metadata": {},
   "outputs": [],
   "source": [
    "x = torch.tensor([1,2,3])\n",
    "print(x)"
   ]
  },
  {
   "cell_type": "code",
   "execution_count": null,
   "id": "e26c553b",
   "metadata": {},
   "outputs": [],
   "source": [
    "x_view = x.view(3,1)"
   ]
  },
  {
   "cell_type": "code",
   "execution_count": null,
   "id": "13052474",
   "metadata": {},
   "outputs": [],
   "source": [
    "x is x.view(3,1)"
   ]
  },
  {
   "cell_type": "code",
   "execution_count": null,
   "id": "86fba2bb",
   "metadata": {},
   "outputs": [],
   "source": [
    "x_view[0][0] = 99.\n",
    "x_view, x"
   ]
  },
  {
   "cell_type": "code",
   "execution_count": null,
   "id": "fd4ecfe8",
   "metadata": {},
   "outputs": [],
   "source": [
    "x.size()"
   ]
  },
  {
   "cell_type": "code",
   "execution_count": null,
   "id": "6f16cf91",
   "metadata": {},
   "outputs": [],
   "source": [
    "x_reshape = x.reshape(3,1)\n",
    "x_reshape"
   ]
  },
  {
   "cell_type": "code",
   "execution_count": null,
   "id": "6d9195e2",
   "metadata": {},
   "outputs": [],
   "source": [
    "x.squeeze(dim=0)"
   ]
  },
  {
   "cell_type": "code",
   "execution_count": null,
   "id": "b82486b1",
   "metadata": {},
   "outputs": [],
   "source": [
    "x"
   ]
  },
  {
   "cell_type": "code",
   "execution_count": null,
   "id": "c7701dc6",
   "metadata": {},
   "outputs": [],
   "source": [
    "x.size()"
   ]
  },
  {
   "cell_type": "code",
   "execution_count": null,
   "id": "efa22af4",
   "metadata": {},
   "outputs": [],
   "source": [
    "TENSOR"
   ]
  },
  {
   "cell_type": "code",
   "execution_count": null,
   "id": "d33a9736",
   "metadata": {},
   "outputs": [],
   "source": [
    "x = torch.rand(2,1,3)\n",
    "print(x)"
   ]
  },
  {
   "cell_type": "code",
   "execution_count": null,
   "id": "f7533e30",
   "metadata": {},
   "outputs": [],
   "source": [
    "x.permute(2,1,0)"
   ]
  },
  {
   "cell_type": "code",
   "execution_count": null,
   "id": "b1a610ed",
   "metadata": {},
   "outputs": [],
   "source": [
    "x = torch.tensor([1,2,3])\n",
    "x"
   ]
  },
  {
   "cell_type": "code",
   "execution_count": null,
   "id": "132ecc86",
   "metadata": {},
   "outputs": [],
   "source": [
    "x.permute(0)\n"
   ]
  },
  {
   "cell_type": "code",
   "execution_count": null,
   "id": "31bfe09a",
   "metadata": {},
   "outputs": [],
   "source": [
    "t = torch.arange(1, 10).reshape(1,3,3)\n",
    "t"
   ]
  },
  {
   "cell_type": "code",
   "execution_count": null,
   "id": "dabf42ef",
   "metadata": {},
   "outputs": [],
   "source": [
    "t.permute(2,0,1)"
   ]
  },
  {
   "cell_type": "code",
   "execution_count": null,
   "id": "7f2c396d",
   "metadata": {},
   "outputs": [],
   "source": [
    "t"
   ]
  },
  {
   "cell_type": "code",
   "execution_count": null,
   "id": "19214793",
   "metadata": {},
   "outputs": [],
   "source": [
    "t[0]"
   ]
  },
  {
   "cell_type": "code",
   "execution_count": null,
   "id": "e52dc4d4",
   "metadata": {},
   "outputs": [],
   "source": [
    "t[0][0]"
   ]
  },
  {
   "cell_type": "code",
   "execution_count": null,
   "id": "e993e4b5",
   "metadata": {},
   "outputs": [],
   "source": [
    "t[0][0][0]"
   ]
  },
  {
   "cell_type": "code",
   "execution_count": null,
   "id": "58858ca3",
   "metadata": {},
   "outputs": [],
   "source": [
    "t.dim()"
   ]
  },
  {
   "cell_type": "code",
   "execution_count": null,
   "id": "3a4a3d99",
   "metadata": {},
   "outputs": [],
   "source": [
    "t.size()"
   ]
  },
  {
   "cell_type": "code",
   "execution_count": null,
   "id": "72e27cb3",
   "metadata": {},
   "outputs": [],
   "source": [
    "t.shape"
   ]
  },
  {
   "cell_type": "code",
   "execution_count": null,
   "id": "809f71d4",
   "metadata": {},
   "outputs": [],
   "source": [
    "t.shape == t.size()"
   ]
  },
  {
   "cell_type": "code",
   "execution_count": null,
   "id": "f718f213",
   "metadata": {},
   "outputs": [],
   "source": [
    "t"
   ]
  },
  {
   "cell_type": "code",
   "execution_count": null,
   "id": "c3140090",
   "metadata": {},
   "outputs": [],
   "source": [
    "t[:,1,1]"
   ]
  },
  {
   "cell_type": "code",
   "execution_count": null,
   "id": "2d914cd2",
   "metadata": {},
   "outputs": [],
   "source": [
    "t[0][1][1]"
   ]
  },
  {
   "cell_type": "code",
   "execution_count": null,
   "id": "f74ebda0",
   "metadata": {},
   "outputs": [],
   "source": [
    "t[0][2][2]"
   ]
  },
  {
   "cell_type": "code",
   "execution_count": null,
   "id": "01a4c4fe",
   "metadata": {},
   "outputs": [],
   "source": []
  }
 ],
 "metadata": {
  "kernelspec": {
   "display_name": "projektarbeit_1",
   "language": "python",
   "name": "python3"
  },
  "language_info": {
   "codemirror_mode": {
    "name": "ipython",
    "version": 3
   },
   "file_extension": ".py",
   "mimetype": "text/x-python",
   "name": "python",
   "nbconvert_exporter": "python",
   "pygments_lexer": "ipython3",
   "version": "3.11.5"
  }
 },
 "nbformat": 4,
 "nbformat_minor": 5
}
