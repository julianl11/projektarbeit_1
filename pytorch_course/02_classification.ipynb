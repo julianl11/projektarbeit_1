{
  "cells": [
    {
      "cell_type": "markdown",
      "metadata": {
        "id": "view-in-github",
        "colab_type": "text"
      },
      "source": [
        "<a href=\"https://colab.research.google.com/github/julianl11/projektarbeit_1/blob/main/pytorch_course/02_classification.ipynb\" target=\"_parent\"><img src=\"https://colab.research.google.com/assets/colab-badge.svg\" alt=\"Open In Colab\"/></a>"
      ]
    },
    {
      "cell_type": "code",
      "execution_count": 1,
      "id": "19f6b68a",
      "metadata": {
        "id": "19f6b68a"
      },
      "outputs": [],
      "source": [
        "import sklearn\n",
        "from sklearn.datasets import make_circles"
      ]
    },
    {
      "cell_type": "code",
      "execution_count": 2,
      "id": "ee11e817",
      "metadata": {
        "id": "ee11e817",
        "outputId": "03f0cbe6-676c-4f3c-948a-9254fc53a69a",
        "colab": {
          "base_uri": "https://localhost:8080/"
        }
      },
      "outputs": [
        {
          "output_type": "execute_result",
          "data": {
            "text/plain": [
              "(1000, 1000)"
            ]
          },
          "metadata": {},
          "execution_count": 2
        }
      ],
      "source": [
        "n_samples = 1000\n",
        "\n",
        "X,y = make_circles(n_samples=n_samples, noise=0.03, factor=0.5, random_state=42)\n",
        "\n",
        "len(X), len(y)"
      ]
    },
    {
      "cell_type": "code",
      "execution_count": 3,
      "id": "7768d644",
      "metadata": {
        "id": "7768d644",
        "outputId": "73c32b41-fc7c-42d2-f023-e53df618349b",
        "colab": {
          "base_uri": "https://localhost:8080/"
        }
      },
      "outputs": [
        {
          "output_type": "stream",
          "name": "stdout",
          "text": [
            "First 5 samples of X: [[ 0.46463176  0.15322829]\n",
            " [-0.4601531   0.10446773]\n",
            " [-0.51775752  0.13568206]\n",
            " [-0.26599694  0.42143465]\n",
            " [ 0.44220765 -0.89672343]]\n",
            "First 5 samples of y: [1 1 1 1 0]\n"
          ]
        }
      ],
      "source": [
        "print(f\"First 5 samples of X: {X[:5]}\")\n",
        "print(f\"First 5 samples of y: {y[:5]}\")"
      ]
    },
    {
      "cell_type": "code",
      "execution_count": 4,
      "id": "1624f432",
      "metadata": {
        "id": "1624f432"
      },
      "outputs": [],
      "source": [
        "import pandas"
      ]
    },
    {
      "cell_type": "code",
      "execution_count": 5,
      "id": "f53b4885",
      "metadata": {
        "id": "f53b4885",
        "outputId": "692ea678-3415-4408-a99d-61ef812e3951",
        "colab": {
          "base_uri": "https://localhost:8080/",
          "height": 206
        }
      },
      "outputs": [
        {
          "output_type": "execute_result",
          "data": {
            "text/plain": [
              "         X1        X2  y\n",
              "0  0.464632  0.153228  1\n",
              "1 -0.460153  0.104468  1\n",
              "2 -0.517758  0.135682  1\n",
              "3 -0.265997  0.421435  1\n",
              "4  0.442208 -0.896723  0"
            ],
            "text/html": [
              "\n",
              "  <div id=\"df-b1ca6e92-f192-4749-8db4-9e78c026b380\" class=\"colab-df-container\">\n",
              "    <div>\n",
              "<style scoped>\n",
              "    .dataframe tbody tr th:only-of-type {\n",
              "        vertical-align: middle;\n",
              "    }\n",
              "\n",
              "    .dataframe tbody tr th {\n",
              "        vertical-align: top;\n",
              "    }\n",
              "\n",
              "    .dataframe thead th {\n",
              "        text-align: right;\n",
              "    }\n",
              "</style>\n",
              "<table border=\"1\" class=\"dataframe\">\n",
              "  <thead>\n",
              "    <tr style=\"text-align: right;\">\n",
              "      <th></th>\n",
              "      <th>X1</th>\n",
              "      <th>X2</th>\n",
              "      <th>y</th>\n",
              "    </tr>\n",
              "  </thead>\n",
              "  <tbody>\n",
              "    <tr>\n",
              "      <th>0</th>\n",
              "      <td>0.464632</td>\n",
              "      <td>0.153228</td>\n",
              "      <td>1</td>\n",
              "    </tr>\n",
              "    <tr>\n",
              "      <th>1</th>\n",
              "      <td>-0.460153</td>\n",
              "      <td>0.104468</td>\n",
              "      <td>1</td>\n",
              "    </tr>\n",
              "    <tr>\n",
              "      <th>2</th>\n",
              "      <td>-0.517758</td>\n",
              "      <td>0.135682</td>\n",
              "      <td>1</td>\n",
              "    </tr>\n",
              "    <tr>\n",
              "      <th>3</th>\n",
              "      <td>-0.265997</td>\n",
              "      <td>0.421435</td>\n",
              "      <td>1</td>\n",
              "    </tr>\n",
              "    <tr>\n",
              "      <th>4</th>\n",
              "      <td>0.442208</td>\n",
              "      <td>-0.896723</td>\n",
              "      <td>0</td>\n",
              "    </tr>\n",
              "  </tbody>\n",
              "</table>\n",
              "</div>\n",
              "    <div class=\"colab-df-buttons\">\n",
              "\n",
              "  <div class=\"colab-df-container\">\n",
              "    <button class=\"colab-df-convert\" onclick=\"convertToInteractive('df-b1ca6e92-f192-4749-8db4-9e78c026b380')\"\n",
              "            title=\"Convert this dataframe to an interactive table.\"\n",
              "            style=\"display:none;\">\n",
              "\n",
              "  <svg xmlns=\"http://www.w3.org/2000/svg\" height=\"24px\" viewBox=\"0 -960 960 960\">\n",
              "    <path d=\"M120-120v-720h720v720H120Zm60-500h600v-160H180v160Zm220 220h160v-160H400v160Zm0 220h160v-160H400v160ZM180-400h160v-160H180v160Zm440 0h160v-160H620v160ZM180-180h160v-160H180v160Zm440 0h160v-160H620v160Z\"/>\n",
              "  </svg>\n",
              "    </button>\n",
              "\n",
              "  <style>\n",
              "    .colab-df-container {\n",
              "      display:flex;\n",
              "      gap: 12px;\n",
              "    }\n",
              "\n",
              "    .colab-df-convert {\n",
              "      background-color: #E8F0FE;\n",
              "      border: none;\n",
              "      border-radius: 50%;\n",
              "      cursor: pointer;\n",
              "      display: none;\n",
              "      fill: #1967D2;\n",
              "      height: 32px;\n",
              "      padding: 0 0 0 0;\n",
              "      width: 32px;\n",
              "    }\n",
              "\n",
              "    .colab-df-convert:hover {\n",
              "      background-color: #E2EBFA;\n",
              "      box-shadow: 0px 1px 2px rgba(60, 64, 67, 0.3), 0px 1px 3px 1px rgba(60, 64, 67, 0.15);\n",
              "      fill: #174EA6;\n",
              "    }\n",
              "\n",
              "    .colab-df-buttons div {\n",
              "      margin-bottom: 4px;\n",
              "    }\n",
              "\n",
              "    [theme=dark] .colab-df-convert {\n",
              "      background-color: #3B4455;\n",
              "      fill: #D2E3FC;\n",
              "    }\n",
              "\n",
              "    [theme=dark] .colab-df-convert:hover {\n",
              "      background-color: #434B5C;\n",
              "      box-shadow: 0px 1px 3px 1px rgba(0, 0, 0, 0.15);\n",
              "      filter: drop-shadow(0px 1px 2px rgba(0, 0, 0, 0.3));\n",
              "      fill: #FFFFFF;\n",
              "    }\n",
              "  </style>\n",
              "\n",
              "    <script>\n",
              "      const buttonEl =\n",
              "        document.querySelector('#df-b1ca6e92-f192-4749-8db4-9e78c026b380 button.colab-df-convert');\n",
              "      buttonEl.style.display =\n",
              "        google.colab.kernel.accessAllowed ? 'block' : 'none';\n",
              "\n",
              "      async function convertToInteractive(key) {\n",
              "        const element = document.querySelector('#df-b1ca6e92-f192-4749-8db4-9e78c026b380');\n",
              "        const dataTable =\n",
              "          await google.colab.kernel.invokeFunction('convertToInteractive',\n",
              "                                                    [key], {});\n",
              "        if (!dataTable) return;\n",
              "\n",
              "        const docLinkHtml = 'Like what you see? Visit the ' +\n",
              "          '<a target=\"_blank\" href=https://colab.research.google.com/notebooks/data_table.ipynb>data table notebook</a>'\n",
              "          + ' to learn more about interactive tables.';\n",
              "        element.innerHTML = '';\n",
              "        dataTable['output_type'] = 'display_data';\n",
              "        await google.colab.output.renderOutput(dataTable, element);\n",
              "        const docLink = document.createElement('div');\n",
              "        docLink.innerHTML = docLinkHtml;\n",
              "        element.appendChild(docLink);\n",
              "      }\n",
              "    </script>\n",
              "  </div>\n",
              "\n",
              "\n",
              "    <div id=\"df-761574ff-30a9-482d-b7b2-742e4c80a893\">\n",
              "      <button class=\"colab-df-quickchart\" onclick=\"quickchart('df-761574ff-30a9-482d-b7b2-742e4c80a893')\"\n",
              "                title=\"Suggest charts\"\n",
              "                style=\"display:none;\">\n",
              "\n",
              "<svg xmlns=\"http://www.w3.org/2000/svg\" height=\"24px\"viewBox=\"0 0 24 24\"\n",
              "     width=\"24px\">\n",
              "    <g>\n",
              "        <path d=\"M19 3H5c-1.1 0-2 .9-2 2v14c0 1.1.9 2 2 2h14c1.1 0 2-.9 2-2V5c0-1.1-.9-2-2-2zM9 17H7v-7h2v7zm4 0h-2V7h2v10zm4 0h-2v-4h2v4z\"/>\n",
              "    </g>\n",
              "</svg>\n",
              "      </button>\n",
              "\n",
              "<style>\n",
              "  .colab-df-quickchart {\n",
              "      --bg-color: #E8F0FE;\n",
              "      --fill-color: #1967D2;\n",
              "      --hover-bg-color: #E2EBFA;\n",
              "      --hover-fill-color: #174EA6;\n",
              "      --disabled-fill-color: #AAA;\n",
              "      --disabled-bg-color: #DDD;\n",
              "  }\n",
              "\n",
              "  [theme=dark] .colab-df-quickchart {\n",
              "      --bg-color: #3B4455;\n",
              "      --fill-color: #D2E3FC;\n",
              "      --hover-bg-color: #434B5C;\n",
              "      --hover-fill-color: #FFFFFF;\n",
              "      --disabled-bg-color: #3B4455;\n",
              "      --disabled-fill-color: #666;\n",
              "  }\n",
              "\n",
              "  .colab-df-quickchart {\n",
              "    background-color: var(--bg-color);\n",
              "    border: none;\n",
              "    border-radius: 50%;\n",
              "    cursor: pointer;\n",
              "    display: none;\n",
              "    fill: var(--fill-color);\n",
              "    height: 32px;\n",
              "    padding: 0;\n",
              "    width: 32px;\n",
              "  }\n",
              "\n",
              "  .colab-df-quickchart:hover {\n",
              "    background-color: var(--hover-bg-color);\n",
              "    box-shadow: 0 1px 2px rgba(60, 64, 67, 0.3), 0 1px 3px 1px rgba(60, 64, 67, 0.15);\n",
              "    fill: var(--button-hover-fill-color);\n",
              "  }\n",
              "\n",
              "  .colab-df-quickchart-complete:disabled,\n",
              "  .colab-df-quickchart-complete:disabled:hover {\n",
              "    background-color: var(--disabled-bg-color);\n",
              "    fill: var(--disabled-fill-color);\n",
              "    box-shadow: none;\n",
              "  }\n",
              "\n",
              "  .colab-df-spinner {\n",
              "    border: 2px solid var(--fill-color);\n",
              "    border-color: transparent;\n",
              "    border-bottom-color: var(--fill-color);\n",
              "    animation:\n",
              "      spin 1s steps(1) infinite;\n",
              "  }\n",
              "\n",
              "  @keyframes spin {\n",
              "    0% {\n",
              "      border-color: transparent;\n",
              "      border-bottom-color: var(--fill-color);\n",
              "      border-left-color: var(--fill-color);\n",
              "    }\n",
              "    20% {\n",
              "      border-color: transparent;\n",
              "      border-left-color: var(--fill-color);\n",
              "      border-top-color: var(--fill-color);\n",
              "    }\n",
              "    30% {\n",
              "      border-color: transparent;\n",
              "      border-left-color: var(--fill-color);\n",
              "      border-top-color: var(--fill-color);\n",
              "      border-right-color: var(--fill-color);\n",
              "    }\n",
              "    40% {\n",
              "      border-color: transparent;\n",
              "      border-right-color: var(--fill-color);\n",
              "      border-top-color: var(--fill-color);\n",
              "    }\n",
              "    60% {\n",
              "      border-color: transparent;\n",
              "      border-right-color: var(--fill-color);\n",
              "    }\n",
              "    80% {\n",
              "      border-color: transparent;\n",
              "      border-right-color: var(--fill-color);\n",
              "      border-bottom-color: var(--fill-color);\n",
              "    }\n",
              "    90% {\n",
              "      border-color: transparent;\n",
              "      border-bottom-color: var(--fill-color);\n",
              "    }\n",
              "  }\n",
              "</style>\n",
              "\n",
              "      <script>\n",
              "        async function quickchart(key) {\n",
              "          const quickchartButtonEl =\n",
              "            document.querySelector('#' + key + ' button');\n",
              "          quickchartButtonEl.disabled = true;  // To prevent multiple clicks.\n",
              "          quickchartButtonEl.classList.add('colab-df-spinner');\n",
              "          try {\n",
              "            const charts = await google.colab.kernel.invokeFunction(\n",
              "                'suggestCharts', [key], {});\n",
              "          } catch (error) {\n",
              "            console.error('Error during call to suggestCharts:', error);\n",
              "          }\n",
              "          quickchartButtonEl.classList.remove('colab-df-spinner');\n",
              "          quickchartButtonEl.classList.add('colab-df-quickchart-complete');\n",
              "        }\n",
              "        (() => {\n",
              "          let quickchartButtonEl =\n",
              "            document.querySelector('#df-761574ff-30a9-482d-b7b2-742e4c80a893 button');\n",
              "          quickchartButtonEl.style.display =\n",
              "            google.colab.kernel.accessAllowed ? 'block' : 'none';\n",
              "        })();\n",
              "      </script>\n",
              "    </div>\n",
              "\n",
              "    </div>\n",
              "  </div>\n"
            ],
            "application/vnd.google.colaboratory.intrinsic+json": {
              "type": "dataframe",
              "variable_name": "circles_df",
              "summary": "{\n  \"name\": \"circles_df\",\n  \"rows\": 1000,\n  \"fields\": [\n    {\n      \"column\": \"X1\",\n      \"properties\": {\n        \"dtype\": \"number\",\n        \"std\": 0.5582354385920668,\n        \"min\": -1.0595024599098635,\n        \"max\": 1.0337117525463373,\n        \"num_unique_values\": 1000,\n        \"samples\": [\n          -0.22737481822885094,\n          0.015380346701456493,\n          -0.42975180667778606\n        ],\n        \"semantic_type\": \"\",\n        \"description\": \"\"\n      }\n    },\n    {\n      \"column\": \"X2\",\n      \"properties\": {\n        \"dtype\": \"number\",\n        \"std\": 0.5599731399036822,\n        \"min\": -1.0677683182718436,\n        \"max\": 1.0360036756154805,\n        \"num_unique_values\": 1000,\n        \"samples\": [\n          0.4216045961880044,\n          0.9600260220697324,\n          -0.19040431821679094\n        ],\n        \"semantic_type\": \"\",\n        \"description\": \"\"\n      }\n    },\n    {\n      \"column\": \"y\",\n      \"properties\": {\n        \"dtype\": \"number\",\n        \"std\": 0,\n        \"min\": 0,\n        \"max\": 1,\n        \"num_unique_values\": 2,\n        \"samples\": [\n          0,\n          1\n        ],\n        \"semantic_type\": \"\",\n        \"description\": \"\"\n      }\n    }\n  ]\n}"
            }
          },
          "metadata": {},
          "execution_count": 5
        }
      ],
      "source": [
        "circles_df = pandas.DataFrame({\"X1\": X[:, 0], \"X2\": X[:, 1], \"y\": y[:]})\n",
        "circles_df.head()"
      ]
    },
    {
      "cell_type": "code",
      "execution_count": 6,
      "id": "e6214fa2",
      "metadata": {
        "id": "e6214fa2"
      },
      "outputs": [],
      "source": [
        "import matplotlib.pyplot as plt"
      ]
    },
    {
      "cell_type": "code",
      "execution_count": 7,
      "id": "d2b17789",
      "metadata": {
        "id": "d2b17789",
        "outputId": "d39fb3ab-4aa6-4323-dc3e-b87233ad4345",
        "colab": {
          "base_uri": "https://localhost:8080/",
          "height": 472
        }
      },
      "outputs": [
        {
          "output_type": "display_data",
          "data": {
            "text/plain": [
              "<Figure size 640x480 with 1 Axes>"
            ],
            "image/png": "[encoded data removed]"
          },
          "metadata": {}
        }
      ],
      "source": [
        "plt.scatter(X[:, 0], X[:, 1], c=y, cmap=plt.cm.RdYlBu)\n",
        "plt.xlabel(\"X1\")\n",
        "plt.ylabel(\"X2\")\n",
        "plt.title(\"Circles Dataset\")\n",
        "plt.show()"
      ]
    },
    {
      "cell_type": "markdown",
      "source": [
        "# Check input and output"
      ],
      "metadata": {
        "id": "Q0RMyoyE21-X"
      },
      "id": "Q0RMyoyE21-X"
    },
    {
      "cell_type": "code",
      "source": [
        "X.shape, y.shape"
      ],
      "metadata": {
        "id": "uE-QJL7G24uE",
        "outputId": "a0c1204b-e97e-4c1d-bc9d-ae85ccb672cd",
        "colab": {
          "base_uri": "https://localhost:8080/"
        }
      },
      "id": "uE-QJL7G24uE",
      "execution_count": 8,
      "outputs": [
        {
          "output_type": "execute_result",
          "data": {
            "text/plain": [
              "((1000, 2), (1000,))"
            ]
          },
          "metadata": {},
          "execution_count": 8
        }
      ]
    },
    {
      "cell_type": "code",
      "source": [
        "X_sample = X[0]\n",
        "y_sample = y[0]\n",
        "\n",
        "print(f\"X: {X_sample}, y: {y_sample}\")\n",
        "print(f\"X: {X_sample.shape}, y: {y_sample.shape}\")"
      ],
      "metadata": {
        "id": "C8el779H27gK",
        "outputId": "a344ebcf-24dd-4f29-b233-1d802c65f4c4",
        "colab": {
          "base_uri": "https://localhost:8080/"
        }
      },
      "id": "C8el779H27gK",
      "execution_count": 9,
      "outputs": [
        {
          "output_type": "stream",
          "name": "stdout",
          "text": [
            "X: [0.46463176 0.15322829], y: 1\n",
            "X: (2,), y: ()\n"
          ]
        }
      ]
    },
    {
      "cell_type": "code",
      "source": [
        "import torch\n",
        "print(torch.__version__)"
      ],
      "metadata": {
        "id": "Qmkjlyii3ZyA",
        "outputId": "a105ddfa-1032-4877-e22e-8e3c65f8ca78",
        "colab": {
          "base_uri": "https://localhost:8080/"
        }
      },
      "id": "Qmkjlyii3ZyA",
      "execution_count": 10,
      "outputs": [
        {
          "output_type": "stream",
          "name": "stdout",
          "text": [
            "2.6.0+cu124\n"
          ]
        }
      ]
    },
    {
      "cell_type": "code",
      "source": [
        "X = torch.from_numpy(X).type(torch.float32)\n",
        "y = torch.from_numpy(y).type(torch.float32)"
      ],
      "metadata": {
        "id": "JanR5oKM3tny"
      },
      "id": "JanR5oKM3tny",
      "execution_count": 11,
      "outputs": []
    },
    {
      "cell_type": "code",
      "source": [
        "type(X)"
      ],
      "metadata": {
        "id": "wJtu_a3S3-54",
        "outputId": "071babe3-4e9f-4795-bd6f-6d792297a9d7",
        "colab": {
          "base_uri": "https://localhost:8080/"
        }
      },
      "id": "wJtu_a3S3-54",
      "execution_count": 12,
      "outputs": [
        {
          "output_type": "execute_result",
          "data": {
            "text/plain": [
              "torch.Tensor"
            ]
          },
          "metadata": {},
          "execution_count": 12
        }
      ]
    },
    {
      "cell_type": "code",
      "source": [
        "X[:5]"
      ],
      "metadata": {
        "id": "cb3EKeKQ4Ahg",
        "outputId": "dcad6b0d-a601-4d14-c592-e5d7af6d0285",
        "colab": {
          "base_uri": "https://localhost:8080/"
        }
      },
      "id": "cb3EKeKQ4Ahg",
      "execution_count": 13,
      "outputs": [
        {
          "output_type": "execute_result",
          "data": {
            "text/plain": [
              "tensor([[ 0.4646,  0.1532],\n",
              "        [-0.4602,  0.1045],\n",
              "        [-0.5178,  0.1357],\n",
              "        [-0.2660,  0.4214],\n",
              "        [ 0.4422, -0.8967]])"
            ]
          },
          "metadata": {},
          "execution_count": 13
        }
      ]
    },
    {
      "cell_type": "code",
      "source": [
        "from sklearn.model_selection import train_test_split"
      ],
      "metadata": {
        "id": "FxcBLsV34KTv"
      },
      "id": "FxcBLsV34KTv",
      "execution_count": 14,
      "outputs": []
    },
    {
      "cell_type": "code",
      "source": [
        "X_train, X_test, y_train, y_test = train_test_split(X, y, test_size=0.2, train_size=0.8, random_state=33)"
      ],
      "metadata": {
        "id": "uecSsFdh4X9M"
      },
      "id": "uecSsFdh4X9M",
      "execution_count": 15,
      "outputs": []
    },
    {
      "cell_type": "code",
      "source": [
        "len(X_train), len(X_test)"
      ],
      "metadata": {
        "id": "KYqKw_IG5Kw2",
        "outputId": "09db26bc-7d2f-4cd4-ce1a-15c03527564f",
        "colab": {
          "base_uri": "https://localhost:8080/"
        }
      },
      "id": "KYqKw_IG5Kw2",
      "execution_count": 16,
      "outputs": [
        {
          "output_type": "execute_result",
          "data": {
            "text/plain": [
              "(800, 200)"
            ]
          },
          "metadata": {},
          "execution_count": 16
        }
      ]
    },
    {
      "cell_type": "code",
      "source": [
        "import torch\n",
        "from torch import nn\n",
        "\n",
        "device = \"cuda\" if torch.cuda.is_available() else \"cpu\"\n",
        "print(device)"
      ],
      "metadata": {
        "id": "RvT2eMhj5dik",
        "outputId": "373a122a-aee4-4868-fdf2-362e53e53921",
        "colab": {
          "base_uri": "https://localhost:8080/"
        }
      },
      "id": "RvT2eMhj5dik",
      "execution_count": 17,
      "outputs": [
        {
          "output_type": "stream",
          "name": "stdout",
          "text": [
            "cuda\n"
          ]
        }
      ]
    },
    {
      "cell_type": "code",
      "source": [
        "class CircleModel(nn.Module):\n",
        "\n",
        "  def __init__(self):\n",
        "    super().__init__()\n",
        "\n",
        "    self.linear_layer_1 = nn.Linear(in_features=2, out_features=5)\n",
        "    self.linear_layer_2 = nn.Linear(in_features=5, out_features=1)\n",
        "\n",
        "  def forward(self, x: torch.Tensor):\n",
        "\n",
        "    return self.linear_layer_2(self.linear_layer_1(x))\n",
        "\n"
      ],
      "metadata": {
        "id": "1PbP3NoZ6bgF"
      },
      "id": "1PbP3NoZ6bgF",
      "execution_count": 18,
      "outputs": []
    },
    {
      "cell_type": "code",
      "source": [
        "model = CircleModel().to(device)\n",
        "model"
      ],
      "metadata": {
        "id": "7u4eqPt58mJT",
        "outputId": "46e6b60f-d75e-4fb0-eedf-4bf93490465c",
        "colab": {
          "base_uri": "https://localhost:8080/"
        }
      },
      "id": "7u4eqPt58mJT",
      "execution_count": 19,
      "outputs": [
        {
          "output_type": "execute_result",
          "data": {
            "text/plain": [
              "CircleModel(\n",
              "  (linear_layer_1): Linear(in_features=2, out_features=5, bias=True)\n",
              "  (linear_layer_2): Linear(in_features=5, out_features=1, bias=True)\n",
              ")"
            ]
          },
          "metadata": {},
          "execution_count": 19
        }
      ]
    },
    {
      "cell_type": "code",
      "source": [
        "next(model.parameters())"
      ],
      "metadata": {
        "id": "IhnWSRoj8vl8",
        "outputId": "9e3e9a01-61dd-4c88-f3d2-b2316bf0bc88",
        "colab": {
          "base_uri": "https://localhost:8080/"
        }
      },
      "id": "IhnWSRoj8vl8",
      "execution_count": 20,
      "outputs": [
        {
          "output_type": "execute_result",
          "data": {
            "text/plain": [
              "Parameter containing:\n",
              "tensor([[ 0.4976,  0.2457],\n",
              "        [ 0.3905, -0.5216],\n",
              "        [-0.0339,  0.7039],\n",
              "        [-0.1325,  0.5534],\n",
              "        [-0.0164, -0.3906]], device='cuda:0', requires_grad=True)"
            ]
          },
          "metadata": {},
          "execution_count": 20
        }
      ]
    },
    {
      "cell_type": "code",
      "source": [
        "model_sequential = nn.Sequential(\n",
        "    nn.Linear(in_features=2, out_features=5),\n",
        "    nn.Linear(in_features=5, out_features=2)\n",
        ")\n",
        "print(model_sequential)"
      ],
      "metadata": {
        "id": "QMLK5O5A8-6h",
        "outputId": "1105ab29-951f-4df0-9282-075576dda5c4",
        "colab": {
          "base_uri": "https://localhost:8080/"
        }
      },
      "id": "QMLK5O5A8-6h",
      "execution_count": 21,
      "outputs": [
        {
          "output_type": "stream",
          "name": "stdout",
          "text": [
            "Sequential(\n",
            "  (0): Linear(in_features=2, out_features=5, bias=True)\n",
            "  (1): Linear(in_features=5, out_features=2, bias=True)\n",
            ")\n"
          ]
        }
      ]
    },
    {
      "cell_type": "code",
      "source": [
        "model.state_dict()"
      ],
      "metadata": {
        "id": "UiRZgAHW3X7P",
        "outputId": "7e7c362e-64e7-43e1-9086-84a7ed22347b",
        "colab": {
          "base_uri": "https://localhost:8080/"
        }
      },
      "id": "UiRZgAHW3X7P",
      "execution_count": 22,
      "outputs": [
        {
          "output_type": "execute_result",
          "data": {
            "text/plain": [
              "OrderedDict([('linear_layer_1.weight',\n",
              "              tensor([[ 0.4976,  0.2457],\n",
              "                      [ 0.3905, -0.5216],\n",
              "                      [-0.0339,  0.7039],\n",
              "                      [-0.1325,  0.5534],\n",
              "                      [-0.0164, -0.3906]], device='cuda:0')),\n",
              "             ('linear_layer_1.bias',\n",
              "              tensor([-0.0062,  0.1899, -0.1481,  0.4394, -0.5107], device='cuda:0')),\n",
              "             ('linear_layer_2.weight',\n",
              "              tensor([[ 0.2669,  0.0033,  0.2970, -0.1894, -0.0549]], device='cuda:0')),\n",
              "             ('linear_layer_2.bias', tensor([-0.3185], device='cuda:0'))])"
            ]
          },
          "metadata": {},
          "execution_count": 22
        }
      ]
    },
    {
      "cell_type": "code",
      "source": [
        "with torch.inference_mode():\n",
        "  untrained_preds = model(X_test.to(device))\n",
        "print(f\"Length of preds: {len(untrained_preds)} and shape {untrained_preds.shape}\")\n",
        "print(f\"Length of test samples: {len(y_test)} and shape {y_test.unsqueeze(dim=1).shape}  \")"
      ],
      "metadata": {
        "id": "vhJBfuq37nNJ",
        "outputId": "99b04473-e786-4ac9-f925-36c14980a221",
        "colab": {
          "base_uri": "https://localhost:8080/"
        }
      },
      "id": "vhJBfuq37nNJ",
      "execution_count": 23,
      "outputs": [
        {
          "output_type": "stream",
          "name": "stdout",
          "text": [
            "Length of preds: 200 and shape torch.Size([200, 1])\n",
            "Length of test samples: 200 and shape torch.Size([200, 1])  \n"
          ]
        }
      ]
    },
    {
      "cell_type": "code",
      "source": [
        "y_test.unsqueeze(dim=1)[:10], untrained_preds[:10]"
      ],
      "metadata": {
        "id": "woSmJ9yW8ua-",
        "outputId": "baff183d-63d2-4baf-ce99-922f766dead1",
        "colab": {
          "base_uri": "https://localhost:8080/"
        }
      },
      "id": "woSmJ9yW8ua-",
      "execution_count": 24,
      "outputs": [
        {
          "output_type": "execute_result",
          "data": {
            "text/plain": [
              "(tensor([[0.],\n",
              "         [1.],\n",
              "         [1.],\n",
              "         [0.],\n",
              "         [0.],\n",
              "         [1.],\n",
              "         [1.],\n",
              "         [0.],\n",
              "         [0.],\n",
              "         [1.]]),\n",
              " tensor([[-0.6300],\n",
              "         [-0.3091],\n",
              "         [-0.4877],\n",
              "         [-0.5223],\n",
              "         [-0.2598],\n",
              "         [-0.3104],\n",
              "         [-0.3580],\n",
              "         [-0.6083],\n",
              "         [-0.2056],\n",
              "         [-0.5315]], device='cuda:0'))"
            ]
          },
          "metadata": {},
          "execution_count": 24
        }
      ]
    },
    {
      "cell_type": "code",
      "source": [
        "X_train[:10], y_train[:10]"
      ],
      "metadata": {
        "id": "a_59ZPSFcDLM",
        "outputId": "2671136b-d926-4b3e-d2f8-5db573512ce0",
        "colab": {
          "base_uri": "https://localhost:8080/"
        }
      },
      "id": "a_59ZPSFcDLM",
      "execution_count": 25,
      "outputs": [
        {
          "output_type": "execute_result",
          "data": {
            "text/plain": [
              "(tensor([[ 0.9859, -0.0592],\n",
              "         [ 1.0005, -0.3119],\n",
              "         [-0.1628, -1.0567],\n",
              "         [-0.3379, -0.3772],\n",
              "         [-0.9720,  0.3617],\n",
              "         [ 0.2593, -1.0015],\n",
              "         [ 0.2998,  0.4528],\n",
              "         [ 0.3661, -0.3449],\n",
              "         [-0.4697,  0.1980],\n",
              "         [ 0.1170, -0.4774]]),\n",
              " tensor([0., 0., 0., 1., 0., 0., 1., 1., 1., 1.]))"
            ]
          },
          "metadata": {},
          "execution_count": 25
        }
      ]
    },
    {
      "cell_type": "markdown",
      "source": [
        "# loss & optimizer"
      ],
      "metadata": {
        "id": "IMe6zSDkdEwG"
      },
      "id": "IMe6zSDkdEwG"
    },
    {
      "cell_type": "code",
      "source": [
        "loss_fn = nn.BCEWithLogitsLoss()\n",
        "optimizer = torch.optim.Adam(params=model.parameters(), lr=0.01)"
      ],
      "metadata": {
        "id": "DPsXMhq2dHHC"
      },
      "id": "DPsXMhq2dHHC",
      "execution_count": 26,
      "outputs": []
    },
    {
      "cell_type": "code",
      "source": [
        "def accuracy_fn(y_true, y_pred):\n",
        "  correct = torch.eq(y_true, y_pred).sum().item()\n",
        "  acc = (correct/len(y_pred)) * 100\n",
        "  return acc"
      ],
      "metadata": {
        "id": "zumAqqdPfPH4"
      },
      "id": "zumAqqdPfPH4",
      "execution_count": 27,
      "outputs": []
    },
    {
      "cell_type": "code",
      "source": [
        "model.state_dict()"
      ],
      "metadata": {
        "id": "GA2irHSKhJlP",
        "outputId": "53e89e93-7119-4180-a888-8a8889b71b24",
        "colab": {
          "base_uri": "https://localhost:8080/"
        }
      },
      "id": "GA2irHSKhJlP",
      "execution_count": 28,
      "outputs": [
        {
          "output_type": "execute_result",
          "data": {
            "text/plain": [
              "OrderedDict([('linear_layer_1.weight',\n",
              "              tensor([[ 0.4976,  0.2457],\n",
              "                      [ 0.3905, -0.5216],\n",
              "                      [-0.0339,  0.7039],\n",
              "                      [-0.1325,  0.5534],\n",
              "                      [-0.0164, -0.3906]], device='cuda:0')),\n",
              "             ('linear_layer_1.bias',\n",
              "              tensor([-0.0062,  0.1899, -0.1481,  0.4394, -0.5107], device='cuda:0')),\n",
              "             ('linear_layer_2.weight',\n",
              "              tensor([[ 0.2669,  0.0033,  0.2970, -0.1894, -0.0549]], device='cuda:0')),\n",
              "             ('linear_layer_2.bias', tensor([-0.3185], device='cuda:0'))])"
            ]
          },
          "metadata": {},
          "execution_count": 28
        }
      ]
    },
    {
      "cell_type": "code",
      "source": [
        "model.eval()\n",
        "with torch.inference_mode():\n",
        "  y_logits = model(X_train.to(device))\n",
        "y_logits[:5]"
      ],
      "metadata": {
        "id": "mgPmJomidSN1",
        "outputId": "033d6478-fd36-4913-a98f-d3109b35c929",
        "colab": {
          "base_uri": "https://localhost:8080/"
        }
      },
      "id": "mgPmJomidSN1",
      "execution_count": 35,
      "outputs": [
        {
          "output_type": "execute_result",
          "data": {
            "text/plain": [
              "tensor([[-0.2820],\n",
              "        [-0.3277],\n",
              "        [-0.6434],\n",
              "        [-0.5409],\n",
              "        [-0.4961]], device='cuda:0')"
            ]
          },
          "metadata": {},
          "execution_count": 35
        }
      ]
    },
    {
      "cell_type": "code",
      "source": [
        "y_preds_prob = torch.sigmoid(y_logits)\n",
        "y_preds_prob[:5]"
      ],
      "metadata": {
        "id": "AUtE_dm_es87",
        "outputId": "9cb5d260-6d0d-4e7c-f2a9-7e50e12a9b46",
        "colab": {
          "base_uri": "https://localhost:8080/"
        }
      },
      "id": "AUtE_dm_es87",
      "execution_count": 36,
      "outputs": [
        {
          "output_type": "execute_result",
          "data": {
            "text/plain": [
              "tensor([[0.4300],\n",
              "        [0.4188],\n",
              "        [0.3445],\n",
              "        [0.3680],\n",
              "        [0.3785]], device='cuda:0')"
            ]
          },
          "metadata": {},
          "execution_count": 36
        }
      ]
    },
    {
      "cell_type": "code",
      "source": [
        "y_preds = torch.round(y_preds_prob)[:5]\n",
        "\n",
        "y_pred_labels = torch.round(torch.sigmoid(model(X_test.to(device))[:5]))\n",
        "print(torch.eq(y_preds, y_pred_labels.squeeze()))\n",
        "#"
      ],
      "metadata": {
        "id": "oujUdhqOfV6z",
        "outputId": "63e7b151-a3b0-4dbb-cc5e-1669cb4c855e",
        "colab": {
          "base_uri": "https://localhost:8080/"
        }
      },
      "id": "oujUdhqOfV6z",
      "execution_count": 41,
      "outputs": [
        {
          "output_type": "stream",
          "name": "stdout",
          "text": [
            "tensor([[True, True, True, True, True],\n",
            "        [True, True, True, True, True],\n",
            "        [True, True, True, True, True],\n",
            "        [True, True, True, True, True],\n",
            "        [True, True, True, True, True]], device='cuda:0')\n"
          ]
        }
      ]
    },
    {
      "cell_type": "code",
      "source": [],
      "metadata": {
        "id": "bl3ZsggifdKr"
      },
      "id": "bl3ZsggifdKr",
      "execution_count": null,
      "outputs": []
    }
  ],
  "metadata": {
    "kernelspec": {
      "display_name": "Python 3",
      "name": "python3"
    },
    "language_info": {
      "codemirror_mode": {
        "name": "ipython",
        "version": 3
      },
      "file_extension": ".py",
      "mimetype": "text/x-python",
      "name": "python",
      "nbconvert_exporter": "python",
      "pygments_lexer": "ipython3",
      "version": "3.11.5"
    },
    "colab": {
      "provenance": [],
      "gpuType": "T4",
      "include_colab_link": true
    },
    "accelerator": "GPU"
  },
  "nbformat": 4,
  "nbformat_minor": 5
}