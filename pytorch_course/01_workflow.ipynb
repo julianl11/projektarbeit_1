{
 "cells": [
  {
   "cell_type": "code",
   "execution_count": null,
   "id": "400bcf9b",
   "metadata": {},
   "outputs": [],
   "source": [
    "import sys\n",
    "print(sys.executable)"
   ]
  },
  {
   "cell_type": "code",
   "execution_count": null,
   "id": "06ebebcd",
   "metadata": {},
   "outputs": [],
   "source": [
    "import torch\n",
    "from torch import nn\n",
    "import matplotlib.pyplot as plt\n",
    "\n",
    "print(torch.__version__)\n"
   ]
  },
  {
   "cell_type": "code",
   "execution_count": null,
   "id": "9b18e288",
   "metadata": {},
   "outputs": [],
   "source": [
    "x = torch.tensor([2.0, 3.], requires_grad=True).to(torch.float32)\n",
    "y = x.sum() * 2\n",
    "print(f\"y: {y}\")\n",
    "y.backward()\n",
    "print(\"y: \", y)\n",
    "print(\"y grad:\", y.retain_grad())\n",
    "print(\"x grad:\", x.grad)"
   ]
  },
  {
   "cell_type": "code",
   "execution_count": null,
   "id": "ab60fe72",
   "metadata": {},
   "outputs": [],
   "source": [
    "weight = 0.5\n",
    "bias = 1.5\n",
    "\n",
    "start = 0\n",
    "end = 1\n",
    "step = 0.02\n",
    "X = torch.arange(start, end, step) #unsqueeze(dim=1 )\n",
    "y = weight * X + bias\n",
    "print(X[:10], y[:10])"
   ]
  },
  {
   "cell_type": "code",
   "execution_count": null,
   "id": "407eb949",
   "metadata": {},
   "outputs": [],
   "source": [
    "X.__len__(), y.__len__()"
   ]
  },
  {
   "cell_type": "code",
   "execution_count": null,
   "id": "8287be36",
   "metadata": {},
   "outputs": [],
   "source": [
    "train_split = 0.8\n",
    "test_split = 0.2\n",
    "\n",
    "X_train_split_int, X_test_split_int = int(train_split * len(X)), int(test_split * len(X))\n",
    "y_train_split_int, y_test_split_int = int(train_split * len(y)), int(test_split * len(y))"
   ]
  },
  {
   "cell_type": "code",
   "execution_count": null,
   "id": "b664650d",
   "metadata": {},
   "outputs": [],
   "source": [
    "X_train = X[:X_train_split_int]\n",
    "X_test = X[:X_test_split_int]\n",
    "y_train = y[:y_train_split_int]\n",
    "y_test = y[:y_test_split_int]"
   ]
  },
  {
   "cell_type": "markdown",
   "id": "e766e793",
   "metadata": {},
   "source": [
    "Visualize"
   ]
  },
  {
   "cell_type": "code",
   "execution_count": null,
   "id": "25504c3f",
   "metadata": {},
   "outputs": [],
   "source": [
    "def plot(train_data=X_train, train_labels=y_train, test_data=X_test, test_labels=y_test, predictions=None):\n",
    "    plt.figure(figsize=(10, 7))\n",
    "    plt.scatter(train_data, train_labels, c=\"b\", s=4, label=\"training\")\n",
    "    plt.scatter(test_data, test_labels, c=\"g\", s=4, label=\"testing\")\n",
    "    \n",
    "    if predictions is not None:\n",
    "        plt.scatter(test_data, predictions, c=\"r\", s=4, label=\"Predictions\")\n",
    "        \n",
    "    plt.legend(prop={\"size\": 14})"
   ]
  },
  {
   "cell_type": "code",
   "execution_count": null,
   "id": "0609992c",
   "metadata": {},
   "outputs": [],
   "source": [
    "plot()"
   ]
  },
  {
   "cell_type": "code",
   "execution_count": null,
   "id": "e52e6bd6",
   "metadata": {},
   "outputs": [],
   "source": [
    "class LinearRegressionModel(nn.Module):\n",
    "    def __init__(self):\n",
    "        super(LinearRegressionModel, self).__init__()\n",
    "        self.weights = nn.Parameter(torch.rand(1, requires_grad=True, dtype=torch.float))\n",
    "        self.bias = nn.Parameter(torch.rand(1, requires_grad=True, dtype=torch.float))\n",
    "        \n",
    "    def forward(self, x:torch.Tensor) -> torch.Tensor:\n",
    "        return self.weights * x + self.bias\n",
    "    pass"
   ]
  },
  {
   "cell_type": "code",
   "execution_count": null,
   "id": "109e1407",
   "metadata": {},
   "outputs": [],
   "source": [
    "torch.rand(1).dim()"
   ]
  },
  {
   "cell_type": "code",
   "execution_count": null,
   "id": "8286c456",
   "metadata": {},
   "outputs": [],
   "source": [
    "l = LinearRegressionModel()\n",
    "list(l.parameters())"
   ]
  },
  {
   "cell_type": "code",
   "execution_count": null,
   "id": "05aae472",
   "metadata": {},
   "outputs": [],
   "source": [
    "l.state_dict()"
   ]
  },
  {
   "cell_type": "code",
   "execution_count": null,
   "id": "366d0616",
   "metadata": {},
   "outputs": [],
   "source": [
    "with torch.inference_mode():\n",
    "    y_preds = l(X_test)\n",
    "    \n",
    "y_preds\n",
    "#plot(predictions=y_preds)\n",
    "print(y_preds.data)\n",
    "print(l.weights)\n",
    "print(l.bias)"
   ]
  },
  {
   "cell_type": "code",
   "execution_count": null,
   "id": "653a37ea",
   "metadata": {},
   "outputs": [],
   "source": [
    "l.state_dict()"
   ]
  },
  {
   "cell_type": "code",
   "execution_count": null,
   "id": "64edc558",
   "metadata": {},
   "outputs": [],
   "source": [
    "with torch.inference_mode():\n",
    "    y_preds = l(X_test)\n",
    "plot(predictions=y_preds)\n",
    "print(y_preds.data, X_test.data)"
   ]
  },
  {
   "cell_type": "code",
   "execution_count": null,
   "id": "544982f5",
   "metadata": {},
   "outputs": [],
   "source": [
    "loss_fn = nn.L1Loss(reduction=\"mean\")\n",
    "optimizer = torch.optim.SGD(params=l.parameters(), lr=0.01)"
   ]
  },
  {
   "cell_type": "code",
   "execution_count": null,
   "id": "73a5fdea",
   "metadata": {},
   "outputs": [],
   "source": [
    "next(l.parameters()).data == l.state_dict()[\"weights\"].data"
   ]
  },
  {
   "cell_type": "code",
   "execution_count": null,
   "id": "e1989f81",
   "metadata": {},
   "outputs": [],
   "source": [
    "epoch_count = []\n",
    "loss_values = []\n",
    "test_loss_values = []\n",
    "\n",
    "epochs = 100\n",
    "for epoch in range(epochs):\n",
    "    l.train()\n",
    "    \n",
    "    #forward pass\n",
    "    y_preds = l(X_train)\n",
    "    \n",
    "    #calculate loss\n",
    "    loss = loss_fn(y_preds, y_train)\n",
    "    #print(f\"Loss: {loss}\")\n",
    "    #optimizer zero grad\n",
    "    optimizer.zero_grad()\n",
    "    \n",
    "    \n",
    "    #backward pass\n",
    "    loss.backward()\n",
    "    #print(f\"Weight gradient: {l.weights.grad}, Bias gradient: {l.bias.grad}\")\n",
    "    #step the optimizer\n",
    "    \n",
    "    optimizer.step()\n",
    "    \n",
    "    l.eval() # turn off unrequired settings (dropout, batchnorm, etc.)\n",
    "    \n",
    "    with torch.inference_mode():\n",
    "        \n",
    "        if epoch % 10 == 0:\n",
    "            epoch_count.append(epoch)\n",
    "            loss_values.append(loss.item())\n",
    "            y_test_preds = l(X_test)\n",
    "            test_loss = loss_fn(y_test_preds, y_test)\n",
    "            test_loss_values.append(test_loss.item())\n",
    "            print(f\"Test loss: {test_loss}, Epoch: {epoch+1}/{epochs}\")\n",
    "    \n",
    "plot(predictions=y_test_preds)"
   ]
  },
  {
   "cell_type": "code",
   "execution_count": null,
   "id": "743540b9",
   "metadata": {},
   "outputs": [],
   "source": [
    "plt.plot(epoch_count, loss_values, label=\"Train Loss\")\n",
    "plt.plot(epoch_count, test_loss_values, label=\"Test Loss\")\n",
    "plt.title(\"Loss vs Epochs\")\n",
    "plt.ylabel(\"Loss\")\n",
    "plt.xlabel(\"Epochs\")\n",
    "plt.legend()"
   ]
  },
  {
   "cell_type": "code",
   "execution_count": null,
   "id": "de4b514f",
   "metadata": {},
   "outputs": [],
   "source": [
    "weight, bias"
   ]
  },
  {
   "cell_type": "code",
   "execution_count": null,
   "id": "11246761",
   "metadata": {},
   "outputs": [],
   "source": [
    "l.state_dict()[\"weights\"], l.state_dict()[\"bias\"]"
   ]
  },
  {
   "cell_type": "code",
   "execution_count": null,
   "id": "299e021d",
   "metadata": {},
   "outputs": [],
   "source": [
    "#torch.save(), torch.load(), torch.nn.Module.load_state_dict()\n"
   ]
  },
  {
   "cell_type": "code",
   "execution_count": null,
   "id": "94b67eb8",
   "metadata": {},
   "outputs": [],
   "source": [
    "from pathlib import Path\n",
    "\n",
    "MODEL_PATH = Path(\"models\")\n",
    "MODEL_PATH.mkdir(parents=True, exist_ok=True)\n",
    "MODEL_NAME = \"01_pytorch_workflow_model.pth\"\n",
    "MODEL_SAVE_PATH = MODEL_PATH / MODEL_NAME\n",
    "\n",
    "torch.save(obj=l.state_dict(), f=MODEL_SAVE_PATH)"
   ]
  },
  {
   "cell_type": "code",
   "execution_count": null,
   "id": "c00d48b9",
   "metadata": {},
   "outputs": [],
   "source": [
    "!ls -l models"
   ]
  },
  {
   "cell_type": "code",
   "execution_count": null,
   "id": "f2f69008",
   "metadata": {},
   "outputs": [],
   "source": [
    "load_model_l = LinearRegressionModel()\n",
    "load_model_l.load_state_dict(torch.load(MODEL_SAVE_PATH))"
   ]
  },
  {
   "cell_type": "code",
   "execution_count": null,
   "id": "e5b05554",
   "metadata": {},
   "outputs": [],
   "source": [
    "load_model_l.state_dict()"
   ]
  },
  {
   "cell_type": "code",
   "execution_count": null,
   "id": "9567b0aa",
   "metadata": {},
   "outputs": [],
   "source": [
    "load_model_l.state_dict()[\"weights\"] == l.state_dict()[\"weights\"]"
   ]
  },
  {
   "cell_type": "code",
   "execution_count": null,
   "id": "b08c8d63",
   "metadata": {},
   "outputs": [],
   "source": [
    "import torch\n",
    "from torch import nn\n",
    "import matplotlib.pyplot as plt\n",
    "print(torch.__version__)\n",
    "device = \"cuda\" if torch.cuda.is_available() else \"cpu\"\n",
    "print(f\"Using device: {device}\")"
   ]
  },
  {
   "cell_type": "code",
   "execution_count": null,
   "id": "7be1d197",
   "metadata": {},
   "outputs": [],
   "source": [
    "weight = 0.7\n",
    "bias = 0.3\n",
    "start = 0\n",
    "end = 10\n",
    "step = 0.1\n",
    "\n",
    "X = torch.arange(start, end, step).unsqueeze(dim=1)\n",
    "y = weight * X + bias\n",
    "print(X[:10], y[:10])\n"
   ]
  },
  {
   "cell_type": "code",
   "execution_count": null,
   "id": "fa7fd043",
   "metadata": {},
   "outputs": [],
   "source": [
    "train_split = int(0.8 * len(X))\n",
    "X_train, y_train = X[:train_split], y[:train_split]\n",
    "X_test, y_test = X[train_split:], y[train_split:]\n",
    "\n",
    "len(X_train), len(y_train), len(X_test), len(y_test)"
   ]
  },
  {
   "cell_type": "code",
   "execution_count": null,
   "id": "2b3fb813",
   "metadata": {},
   "outputs": [],
   "source": [
    "plot(X_train, y_train, X_test, y_test)"
   ]
  },
  {
   "cell_type": "code",
   "execution_count": null,
   "id": "649a1517",
   "metadata": {},
   "outputs": [],
   "source": [
    "class LinearRegressionModel(nn.Module):\n",
    "    def __init__(self):\n",
    "        super().__init__()\n",
    "        self.linear_Layer = nn.Linear(in_features=1, out_features=1)\n",
    "        \n",
    "    def forward(self, x: torch.Tensor):\n",
    "        return self.linear_Layer(x)"
   ]
  },
  {
   "cell_type": "code",
   "execution_count": null,
   "id": "d2fde6c5",
   "metadata": {},
   "outputs": [],
   "source": [
    "torch.manual_seed(42)\n",
    "model_1 = LinearRegressionModel()\n",
    "model_1, model_1.state_dict()"
   ]
  },
  {
   "cell_type": "code",
   "execution_count": null,
   "id": "b0c0038a",
   "metadata": {},
   "outputs": [],
   "source": [
    "next(model_1.parameters()).device"
   ]
  },
  {
   "cell_type": "code",
   "execution_count": null,
   "id": "ecc4771f",
   "metadata": {},
   "outputs": [],
   "source": [
    "loss_fn = nn.L1Loss()\n",
    "optimizer = torch.optim.SGD(params=model_1.parameters(), lr=0.01)"
   ]
  },
  {
   "cell_type": "code",
   "execution_count": null,
   "id": "06e46da1",
   "metadata": {},
   "outputs": [],
   "source": [
    "epoch_count = []\n",
    "loss_values = []\n",
    "epochs = 100\n",
    "\n",
    "for epoch in range(epochs):\n",
    "    model_1.train()\n",
    "    \n",
    "    y_preds = model_1(X_train)\n",
    "    \n",
    "    loss = loss_fn(y_preds, y_train)\n",
    "    \n",
    "    optimizer.zero_grad()\n",
    "    \n",
    "    loss.backward()\n",
    "    \n",
    "    optimizer.step()\n",
    "    \n",
    "    model_1.eval()\n",
    "    \n",
    "    with torch.inference_mode():\n",
    "        if epoch % 10 == 0:\n",
    "            test_pred = model_1(X_test)\n",
    "            \n",
    "            test_loss = loss_fn(test_pred, y_test)\n",
    "            \n",
    "            print(f\"Epoch: {epoch} | Train loss: {loss} | Test loss: {test_loss}\")"
   ]
  },
  {
   "cell_type": "code",
   "execution_count": null,
   "id": "70dcb796",
   "metadata": {},
   "outputs": [],
   "source": [
    "from pprint import pprint\n",
    "pprint(model_1.state_dict())\n",
    "print(f\"weight:{weight}, bias:{bias}\")"
   ]
  },
  {
   "cell_type": "code",
   "execution_count": null,
   "id": "47d185dd",
   "metadata": {},
   "outputs": [],
   "source": [
    "from pathlib import Path\n",
    "\n",
    "MODEL_PATH = Path(\"models\")\n",
    "MODEL_PATH.mkdir(parents=True, exist_ok=True)\n",
    "MODEL_NAME = \"01_pytorch_workflow_model_self.pth\"\n",
    "\n",
    "MODEL_SAVE_PATH = MODEL_PATH / MODEL_NAME\n",
    "print(MODEL_SAVE_PATH)\n",
    "torch.save(obj=model_1.state_dict(), f=MODEL_SAVE_PATH)"
   ]
  },
  {
   "cell_type": "code",
   "execution_count": null,
   "id": "9476452f",
   "metadata": {},
   "outputs": [],
   "source": [
    "loaded_model_1 = LinearRegressionModel()\n",
    "loaded_model_1.load_state_dict(torch.load(MODEL_SAVE_PATH))\n",
    "\n",
    "print(loaded_model_1)"
   ]
  },
  {
   "cell_type": "code",
   "execution_count": null,
   "id": "c5e22761",
   "metadata": {},
   "outputs": [],
   "source": [
    "loaded_model_1.eval()\n",
    "\n",
    "with torch.inference_mode():\n",
    "    test_pred = model_1(X_test)\n",
    "    y_preds_loaded = loaded_model_1(X_test)\n",
    "test_pred == y_preds_loaded"
   ]
  },
  {
   "cell_type": "markdown",
   "id": "5edb9ca1",
   "metadata": {},
   "source": [
    "# hitting extra lecture"
   ]
  },
  {
   "cell_type": "code",
   "execution_count": null,
   "id": "7d546f24",
   "metadata": {},
   "outputs": [],
   "source": [
    "import torch\n",
    "from torch import nn"
   ]
  },
  {
   "cell_type": "code",
   "execution_count": null,
   "id": "0ade1ffc",
   "metadata": {},
   "outputs": [],
   "source": [
    "weight = 0.5\n",
    "bias = 0.2\n",
    "start = 1\n",
    "end = 10\n",
    "step = 0.1\n",
    "\n",
    "X = torch.arange(start, end, step).unsqueeze(dim=1)\n",
    "y = weight * X + bias\n",
    "\n",
    "print(f\"X: {X[:10]}, y: {y[:10]}\")"
   ]
  },
  {
   "cell_type": "code",
   "execution_count": null,
   "id": "5a735128",
   "metadata": {},
   "outputs": [],
   "source": [
    "X_train_split_int, X_test_split_int = int(0.8 * len(X)), int(0.2 * len(X))\n",
    "y_train_split_int, y_test_split_int = int(0.8 * len(y)), int(0.2 * len(y))\n",
    "\n",
    "X_train = X[:X_train_split_int]\n",
    "X_test = X[X_train_split_int:]\n",
    "y_train = y[:y_train_split_int]\n",
    "y_test = y[y_train_split_int:]"
   ]
  },
  {
   "cell_type": "code",
   "execution_count": null,
   "id": "b7b92f5b",
   "metadata": {},
   "outputs": [],
   "source": [
    "class LinearRegressionModel(nn.Module):\n",
    "    def __init__(self):\n",
    "        super(LinearRegressionModel, self).__init__()\n",
    "        self.linear_layer = nn.Linear(in_features=1, out_features=1)\n",
    "        \n",
    "    def forward(self, x: torch.Tensor) -> torch.Tensor:\n",
    "        return self.linear_layer(x)"
   ]
  },
  {
   "cell_type": "code",
   "execution_count": null,
   "id": "45ecebd5",
   "metadata": {},
   "outputs": [],
   "source": [
    "model_self = LinearRegressionModel()\n",
    "loss_fn = nn.L1Loss()\n",
    "optimizer = torch.optim.SGD(params=model_self.parameters(), lr=0.01)"
   ]
  },
  {
   "cell_type": "code",
   "execution_count": null,
   "id": "4937fd59",
   "metadata": {},
   "outputs": [],
   "source": [
    "epochs = 1000\n",
    "\n",
    "for epoch in range(epochs):\n",
    "    model_self.train()\n",
    "    \n",
    "    y_preds = model_self(X_train)\n",
    "    \n",
    "    loss = loss_fn(y_preds, y_train)\n",
    "    \n",
    "    optimizer.zero_grad()\n",
    "    \n",
    "    loss.backward()\n",
    "    \n",
    "    optimizer.step()\n",
    "    \n",
    "    model_self.eval()\n",
    "    \n",
    "    with torch.inference_mode():\n",
    "        if epoch % 10 == 0:\n",
    "            test_pred = model_self(X_test)\n",
    "            test_loss = loss_fn(test_pred, y_test)\n",
    "            print(f\"Epoch: {epoch} | Train loss: {loss} | Test loss: {test_loss}\")\n",
    "    "
   ]
  },
  {
   "cell_type": "code",
   "execution_count": null,
   "id": "40c39c91",
   "metadata": {},
   "outputs": [],
   "source": []
  },
  {
   "cell_type": "markdown",
   "id": "f5de82ce",
   "metadata": {},
   "source": [
    "# other stuff\n",
    "\n",
    "**loss**, *loss*"
   ]
  },
  {
   "cell_type": "code",
   "execution_count": null,
   "id": "a24e61a0",
   "metadata": {},
   "outputs": [],
   "source": [
    "def wrapper(func):\n",
    "    def logger(*args):\n",
    "        print(f\"logged {func.__name__}\")\n",
    "        return func()\n",
    "    return logger\n",
    "\n",
    "def function_1():\n",
    "    print(\"function_1 was called\")"
   ]
  },
  {
   "cell_type": "code",
   "execution_count": null,
   "id": "7002282c",
   "metadata": {},
   "outputs": [],
   "source": [
    "wrapper(function_1)"
   ]
  },
  {
   "cell_type": "code",
   "execution_count": null,
   "id": "dbb8f1ea",
   "metadata": {},
   "outputs": [],
   "source": [
    "function_1 = wrapper(function_1)"
   ]
  },
  {
   "cell_type": "code",
   "execution_count": null,
   "id": "84ebdcf2",
   "metadata": {},
   "outputs": [],
   "source": [
    "function_1()"
   ]
  },
  {
   "cell_type": "code",
   "execution_count": null,
   "id": "54d8de09",
   "metadata": {},
   "outputs": [],
   "source": [
    "text = (b\"hello\")"
   ]
  },
  {
   "cell_type": "code",
   "execution_count": null,
   "id": "c86d56e2",
   "metadata": {},
   "outputs": [],
   "source": [
    "type(text)"
   ]
  },
  {
   "cell_type": "code",
   "execution_count": null,
   "id": "48c6c306",
   "metadata": {},
   "outputs": [],
   "source": [
    "import threading\n",
    "import time"
   ]
  },
  {
   "cell_type": "code",
   "execution_count": null,
   "id": "f0170712",
   "metadata": {},
   "outputs": [],
   "source": [
    "import torch\n",
    "import torch.nn as nn"
   ]
  },
  {
   "cell_type": "code",
   "execution_count": null,
   "id": "f57920c0",
   "metadata": {},
   "outputs": [],
   "source": [
    "class BasicNet(nn.Module):\n",
    "    def __init__(self, *args, **kwargs):\n",
    "        super().__init__(*args, **kwargs)\n",
    "        self.net = nn.Linear(5, 3, 1)\n",
    "        \n",
    "    def forward(self, x):\n",
    "        x = nn.functional.relu(self.net(x))\n",
    "        print(self.net(x))\n",
    "        return self.net(x)"
   ]
  },
  {
   "cell_type": "code",
   "execution_count": null,
   "id": "9c7b5497",
   "metadata": {},
   "outputs": [],
   "source": [
    "BasicNet().state_dict()"
   ]
  },
  {
   "cell_type": "code",
   "execution_count": null,
   "id": "1b235cf3",
   "metadata": {},
   "outputs": [],
   "source": [
    "import dis\n",
    "\n",
    "def add(a, b):\n",
    "    return a + b\n",
    "\n",
    "dis.dis(add)\n"
   ]
  },
  {
   "cell_type": "code",
   "execution_count": null,
   "id": "33de68c2",
   "metadata": {},
   "outputs": [],
   "source": [
    "from typing import TypeVar, Generic\n",
    "\n",
    "T = TypeVar(\"T\")\n",
    "\n",
    "class Stack(Generic[T]):\n",
    "    def __init__(self):\n",
    "        self.items: list[T] = []"
   ]
  },
  {
   "cell_type": "code",
   "execution_count": null,
   "id": "298bd88d",
   "metadata": {},
   "outputs": [],
   "source": [
    "type(T)"
   ]
  },
  {
   "cell_type": "code",
   "execution_count": null,
   "id": "80d5e8a9",
   "metadata": {},
   "outputs": [],
   "source": [
    "t = torch.tensor((2,2))\n",
    "t"
   ]
  },
  {
   "cell_type": "code",
   "execution_count": null,
   "id": "1167862c",
   "metadata": {},
   "outputs": [],
   "source": [
    "t_rand = torch.rand((2,2, 2), requires_grad=True)\n",
    "t_rand, t_rand.dim()"
   ]
  },
  {
   "cell_type": "code",
   "execution_count": null,
   "id": "dc9acf2d",
   "metadata": {},
   "outputs": [],
   "source": [
    "t + t_rand"
   ]
  },
  {
   "cell_type": "code",
   "execution_count": null,
   "id": "92061213",
   "metadata": {},
   "outputs": [],
   "source": [
    "t.shape, t_rand.shape"
   ]
  },
  {
   "cell_type": "code",
   "execution_count": null,
   "id": "b553459a",
   "metadata": {},
   "outputs": [],
   "source": [
    "t_rand.min()"
   ]
  },
  {
   "cell_type": "code",
   "execution_count": null,
   "id": "e4a49516",
   "metadata": {},
   "outputs": [],
   "source": [
    "print(t.grad)"
   ]
  },
  {
   "cell_type": "code",
   "execution_count": null,
   "id": "d7407b25",
   "metadata": {},
   "outputs": [],
   "source": [
    "\n",
    "type(t_rand.grad)"
   ]
  },
  {
   "cell_type": "code",
   "execution_count": null,
   "id": "8632d1a4",
   "metadata": {},
   "outputs": [],
   "source": [
    "y = t**2 - t_rand **3"
   ]
  },
  {
   "cell_type": "code",
   "execution_count": null,
   "id": "761fdd83",
   "metadata": {},
   "outputs": [],
   "source": [
    "y"
   ]
  },
  {
   "cell_type": "code",
   "execution_count": null,
   "id": "b7da6ab5",
   "metadata": {},
   "outputs": [],
   "source": [
    "y.backward()"
   ]
  },
  {
   "cell_type": "code",
   "execution_count": null,
   "id": "e77a3454",
   "metadata": {},
   "outputs": [],
   "source": [
    "a = torch.tensor([5.], requires_grad=True)\n",
    "b = torch.tensor([3.], requires_grad=True)\n",
    "\n",
    "y = a**2 - b**2\n",
    "y.backward()\n",
    "print(a.grad, b.grad)"
   ]
  },
  {
   "cell_type": "code",
   "execution_count": null,
   "id": "345b305c",
   "metadata": {},
   "outputs": [],
   "source": [
    "a.grad.data == a.grad"
   ]
  },
  {
   "cell_type": "code",
   "execution_count": null,
   "id": "4738db29",
   "metadata": {},
   "outputs": [],
   "source": [
    "x = torch.rand(1, 10,  requires_grad=True)\n",
    "w = torch.rand(10, 1,  requires_grad=True)\n",
    "b = torch.rand(1,  requires_grad=True)"
   ]
  },
  {
   "cell_type": "code",
   "execution_count": null,
   "id": "555abd83",
   "metadata": {},
   "outputs": [],
   "source": [
    "w, x"
   ]
  },
  {
   "cell_type": "code",
   "execution_count": null,
   "id": "9f3023e1",
   "metadata": {},
   "outputs": [],
   "source": [
    "y = torch.matmul(x, w) + b"
   ]
  },
  {
   "cell_type": "code",
   "execution_count": null,
   "id": "148d51a5",
   "metadata": {},
   "outputs": [],
   "source": [
    "y.shape"
   ]
  },
  {
   "cell_type": "code",
   "execution_count": null,
   "id": "a7c5b5e7",
   "metadata": {},
   "outputs": [],
   "source": [
    "loss = 1 - y\n",
    "loss"
   ]
  },
  {
   "cell_type": "code",
   "execution_count": null,
   "id": "05115a5f",
   "metadata": {},
   "outputs": [],
   "source": [
    "loss.backward()\n",
    "w.grad"
   ]
  },
  {
   "cell_type": "code",
   "execution_count": null,
   "id": "e58a7b74",
   "metadata": {},
   "outputs": [],
   "source": [
    "with torch.no_grad():\n",
    "    w = w - 0.001 * w.grad.data"
   ]
  },
  {
   "cell_type": "code",
   "execution_count": null,
   "id": "6a608fbd",
   "metadata": {},
   "outputs": [],
   "source": [
    "#\n"
   ]
  }
 ],
 "metadata": {
  "kernelspec": {
   "display_name": "projektarbeit_1",
   "language": "python",
   "name": "python3"
  },
  "language_info": {
   "codemirror_mode": {
    "name": "ipython",
    "version": 3
   },
   "file_extension": ".py",
   "mimetype": "text/x-python",
   "name": "python",
   "nbconvert_exporter": "python",
   "pygments_lexer": "ipython3",
   "version": "3.11.5"
  }
 },
 "nbformat": 4,
 "nbformat_minor": 5
}
