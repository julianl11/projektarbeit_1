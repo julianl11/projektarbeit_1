{
 "cells": [
  {
   "cell_type": "code",
   "execution_count": 166,
   "id": "400bcf9b",
   "metadata": {},
   "outputs": [
    {
     "name": "stdout",
     "output_type": "stream",
     "text": [
      "/home/julian/miniconda3/envs/projektarbeit_1/bin/python\n"
     ]
    }
   ],
   "source": [
    "import sys\n",
    "print(sys.executable)"
   ]
  },
  {
   "cell_type": "code",
   "execution_count": 167,
   "id": "06ebebcd",
   "metadata": {},
   "outputs": [
    {
     "name": "stdout",
     "output_type": "stream",
     "text": [
      "2.7.1+cpu\n"
     ]
    }
   ],
   "source": [
    "import torch\n",
    "from torch import nn\n",
    "import matplotlib.pyplot as plt\n",
    "\n",
    "print(torch.__version__)\n"
   ]
  },
  {
   "cell_type": "code",
   "execution_count": 168,
   "id": "9b18e288",
   "metadata": {},
   "outputs": [
    {
     "name": "stdout",
     "output_type": "stream",
     "text": [
      "y: 10.0\n",
      "y:  tensor(10., grad_fn=<MulBackward0>)\n",
      "y grad: None\n",
      "x grad: tensor([2., 2.])\n"
     ]
    }
   ],
   "source": [
    "x = torch.tensor([2.0, 3.], requires_grad=True).to(torch.float32)\n",
    "y = x.sum() * 2\n",
    "print(f\"y: {y}\")\n",
    "y.backward()\n",
    "print(\"y: \", y)\n",
    "print(\"y grad:\", y.retain_grad())\n",
    "print(\"x grad:\", x.grad)"
   ]
  },
  {
   "cell_type": "code",
   "execution_count": 169,
   "id": "ab60fe72",
   "metadata": {},
   "outputs": [
    {
     "name": "stdout",
     "output_type": "stream",
     "text": [
      "tensor([0.0000, 0.0200, 0.0400, 0.0600, 0.0800, 0.1000, 0.1200, 0.1400, 0.1600,\n",
      "        0.1800]) tensor([1.5000, 1.5100, 1.5200, 1.5300, 1.5400, 1.5500, 1.5600, 1.5700, 1.5800,\n",
      "        1.5900])\n"
     ]
    }
   ],
   "source": [
    "weight = 0.5\n",
    "bias = 1.5\n",
    "\n",
    "start = 0\n",
    "end = 1\n",
    "step = 0.02\n",
    "X = torch.arange(start, end, step) #unsqueeze(dim=1 )\n",
    "y = weight * X + bias\n",
    "print(X[:10], y[:10])"
   ]
  },
  {
   "cell_type": "code",
   "execution_count": 170,
   "id": "407eb949",
   "metadata": {},
   "outputs": [
    {
     "data": {
      "text/plain": [
       "(50, 50)"
      ]
     },
     "execution_count": 170,
     "metadata": {},
     "output_type": "execute_result"
    }
   ],
   "source": [
    "X.__len__(), y.__len__()"
   ]
  },
  {
   "cell_type": "code",
   "execution_count": 171,
   "id": "8287be36",
   "metadata": {},
   "outputs": [],
   "source": [
    "train_split = 0.8\n",
    "test_split = 0.2\n",
    "\n",
    "X_train_split_int, X_test_split_int = int(train_split * len(X)), int(test_split * len(X))\n",
    "y_train_split_int, y_test_split_int = int(train_split * len(y)), int(test_split * len(y))"
   ]
  },
  {
   "cell_type": "code",
   "execution_count": 172,
   "id": "b664650d",
   "metadata": {},
   "outputs": [],
   "source": [
    "X_train = X[:X_train_split_int]\n",
    "X_test = X[:X_test_split_int]\n",
    "y_train = y[:y_train_split_int]\n",
    "y_test = y[:y_test_split_int]"
   ]
  },
  {
   "cell_type": "markdown",
   "id": "e766e793",
   "metadata": {},
   "source": [
    "Visualize"
   ]
  },
  {
   "cell_type": "code",
   "execution_count": 173,
   "id": "25504c3f",
   "metadata": {},
   "outputs": [],
   "source": [
    "def plot(train_data=X_train, train_labels=y_train, test_data=X_test, test_labels=y_test, predictions=None):\n",
    "    plt.figure(figsize=(10, 7))\n",
    "    plt.scatter(train_data, train_labels, c=\"b\", s=4, label=\"training\")\n",
    "    plt.scatter(test_data, test_labels, c=\"g\", s=4, label=\"testing\")\n",
    "    \n",
    "    if predictions is not None:\n",
    "        plt.scatter(test_data, predictions, c=\"r\", s=4, label=\"Predictions\")\n",
    "        \n",
    "    plt.legend(prop={\"size\": 14})"
   ]
  },
  {
   "cell_type": "code",
   "execution_count": 174,
   "id": "0609992c",
   "metadata": {},
   "outputs": [
    {
     "data": {
      "image/png": "[encoded data removed]",
      "text/plain": [
       "<Figure size 1000x700 with 1 Axes>"
      ]
     },
     "metadata": {},
     "output_type": "display_data"
    }
   ],
   "source": [
    "plot()"
   ]
  },
  {
   "cell_type": "code",
   "execution_count": 175,
   "id": "e52e6bd6",
   "metadata": {},
   "outputs": [],
   "source": [
    "class LinearRegressionModel(nn.Module):\n",
    "    def __init__(self):\n",
    "        super(LinearRegressionModel, self).__init__()\n",
    "        self.weights = nn.Parameter(torch.rand(1, requires_grad=True, dtype=torch.float))\n",
    "        self.bias = nn.Parameter(torch.rand(1, requires_grad=True, dtype=torch.float))\n",
    "        \n",
    "    def forward(self, x:torch.Tensor) -> torch.Tensor:\n",
    "        return self.weights * x + self.bias\n",
    "    pass"
   ]
  },
  {
   "cell_type": "code",
   "execution_count": 176,
   "id": "109e1407",
   "metadata": {},
   "outputs": [
    {
     "data": {
      "text/plain": [
       "1"
      ]
     },
     "execution_count": 176,
     "metadata": {},
     "output_type": "execute_result"
    }
   ],
   "source": [
    "torch.rand(1).dim()"
   ]
  },
  {
   "cell_type": "code",
   "execution_count": 177,
   "id": "8286c456",
   "metadata": {},
   "outputs": [
    {
     "data": {
      "text/plain": [
       "[Parameter containing:\n",
       " tensor([0.5832], requires_grad=True),\n",
       " Parameter containing:\n",
       " tensor([0.3376], requires_grad=True)]"
      ]
     },
     "execution_count": 177,
     "metadata": {},
     "output_type": "execute_result"
    }
   ],
   "source": [
    "l = LinearRegressionModel()\n",
    "list(l.parameters())"
   ]
  },
  {
   "cell_type": "code",
   "execution_count": 178,
   "id": "05aae472",
   "metadata": {},
   "outputs": [
    {
     "data": {
      "text/plain": [
       "OrderedDict([('weights', tensor([0.5832])), ('bias', tensor([0.3376]))])"
      ]
     },
     "execution_count": 178,
     "metadata": {},
     "output_type": "execute_result"
    }
   ],
   "source": [
    "l.state_dict()"
   ]
  },
  {
   "cell_type": "code",
   "execution_count": 179,
   "id": "366d0616",
   "metadata": {},
   "outputs": [
    {
     "name": "stdout",
     "output_type": "stream",
     "text": [
      "tensor([0.3376, 0.3493, 0.3610, 0.3726, 0.3843, 0.3960, 0.4076, 0.4193, 0.4310,\n",
      "        0.4426])\n",
      "Parameter containing:\n",
      "tensor([0.5832], requires_grad=True)\n",
      "Parameter containing:\n",
      "tensor([0.3376], requires_grad=True)\n"
     ]
    }
   ],
   "source": [
    "with torch.inference_mode():\n",
    "    y_preds = l(X_test)\n",
    "    \n",
    "y_preds\n",
    "#plot(predictions=y_preds)\n",
    "print(y_preds.data)\n",
    "print(l.weights)\n",
    "print(l.bias)"
   ]
  },
  {
   "cell_type": "code",
   "execution_count": 180,
   "id": "653a37ea",
   "metadata": {},
   "outputs": [
    {
     "data": {
      "text/plain": [
       "OrderedDict([('weights', tensor([0.5832])), ('bias', tensor([0.3376]))])"
      ]
     },
     "execution_count": 180,
     "metadata": {},
     "output_type": "execute_result"
    }
   ],
   "source": [
    "l.state_dict()"
   ]
  },
  {
   "cell_type": "code",
   "execution_count": 181,
   "id": "64edc558",
   "metadata": {},
   "outputs": [
    {
     "name": "stdout",
     "output_type": "stream",
     "text": [
      "tensor([0.3376, 0.3493, 0.3610, 0.3726, 0.3843, 0.3960, 0.4076, 0.4193, 0.4310,\n",
      "        0.4426]) tensor([0.0000, 0.0200, 0.0400, 0.0600, 0.0800, 0.1000, 0.1200, 0.1400, 0.1600,\n",
      "        0.1800])\n"
     ]
    },
    {
     "data": {
      "image/png": "[encoded data removed]",
      "text/plain": [
       "<Figure size 1000x700 with 1 Axes>"
      ]
     },
     "metadata": {},
     "output_type": "display_data"
    }
   ],
   "source": [
    "with torch.inference_mode():\n",
    "    y_preds = l(X_test)\n",
    "plot(predictions=y_preds)\n",
    "print(y_preds.data, X_test.data)"
   ]
  },
  {
   "cell_type": "code",
   "execution_count": 182,
   "id": "544982f5",
   "metadata": {},
   "outputs": [],
   "source": [
    "loss_fn = nn.L1Loss(reduction=\"mean\")\n",
    "optimizer = torch.optim.SGD(params=l.parameters(), lr=0.01)"
   ]
  },
  {
   "cell_type": "code",
   "execution_count": 183,
   "id": "73a5fdea",
   "metadata": {},
   "outputs": [
    {
     "data": {
      "text/plain": [
       "tensor([True])"
      ]
     },
     "execution_count": 183,
     "metadata": {},
     "output_type": "execute_result"
    }
   ],
   "source": [
    "next(l.parameters()).data == l.state_dict()[\"weights\"].data"
   ]
  },
  {
   "cell_type": "code",
   "execution_count": 184,
   "id": "e1989f81",
   "metadata": {},
   "outputs": [
    {
     "name": "stdout",
     "output_type": "stream",
     "text": [
      "Test loss: 1.144512414932251, Epoch: 1/100\n",
      "Test loss: 1.0410025119781494, Epoch: 11/100\n",
      "Test loss: 0.9374926686286926, Epoch: 21/100\n",
      "Test loss: 0.8339827656745911, Epoch: 31/100\n",
      "Test loss: 0.7304728031158447, Epoch: 41/100\n",
      "Test loss: 0.6269629001617432, Epoch: 51/100\n",
      "Test loss: 0.5234530568122864, Epoch: 61/100\n",
      "Test loss: 0.41994303464889526, Epoch: 71/100\n",
      "Test loss: 0.3164331912994385, Epoch: 81/100\n",
      "Test loss: 0.22838087379932404, Epoch: 91/100\n"
     ]
    },
    {
     "data": {
      "image/png": "[encoded data removed]",
      "text/plain": [
       "<Figure size 1000x700 with 1 Axes>"
      ]
     },
     "metadata": {},
     "output_type": "display_data"
    }
   ],
   "source": [
    "epoch_count = []\n",
    "loss_values = []\n",
    "test_loss_values = []\n",
    "\n",
    "epochs = 100\n",
    "for epoch in range(epochs):\n",
    "    l.train()\n",
    "    \n",
    "    #forward pass\n",
    "    y_preds = l(X_train)\n",
    "    \n",
    "    #calculate loss\n",
    "    loss = loss_fn(y_preds, y_train)\n",
    "    #print(f\"Loss: {loss}\")\n",
    "    #optimizer zero grad\n",
    "    optimizer.zero_grad()\n",
    "    \n",
    "    \n",
    "    #backward pass\n",
    "    loss.backward()\n",
    "    #print(f\"Weight gradient: {l.weights.grad}, Bias gradient: {l.bias.grad}\")\n",
    "    #step the optimizer\n",
    "    \n",
    "    optimizer.step()\n",
    "    \n",
    "    l.eval() # turn off unrequired settings (dropout, batchnorm, etc.)\n",
    "    \n",
    "    with torch.inference_mode():\n",
    "        \n",
    "        if epoch % 10 == 0:\n",
    "            epoch_count.append(epoch)\n",
    "            loss_values.append(loss.item())\n",
    "            y_test_preds = l(X_test)\n",
    "            test_loss = loss_fn(y_test_preds, y_test)\n",
    "            test_loss_values.append(test_loss.item())\n",
    "            print(f\"Test loss: {test_loss}, Epoch: {epoch+1}/{epochs}\")\n",
    "    \n",
    "plot(predictions=y_test_preds)"
   ]
  },
  {
   "cell_type": "code",
   "execution_count": 185,
   "id": "743540b9",
   "metadata": {},
   "outputs": [
    {
     "data": {
      "text/plain": [
       "<matplotlib.legend.Legend at 0x7d02d04dddd0>"
      ]
     },
     "execution_count": 185,
     "metadata": {},
     "output_type": "execute_result"
    },
    {
     "data": {
      "image/png": "[encoded data removed]",
      "text/plain": [
       "<Figure size 640x480 with 1 Axes>"
      ]
     },
     "metadata": {},
     "output_type": "display_data"
    }
   ],
   "source": [
    "plt.plot(epoch_count, loss_values, label=\"Train Loss\")\n",
    "plt.plot(epoch_count, test_loss_values, label=\"Test Loss\")\n",
    "plt.title(\"Loss vs Epochs\")\n",
    "plt.ylabel(\"Loss\")\n",
    "plt.xlabel(\"Epochs\")\n",
    "plt.legend()"
   ]
  },
  {
   "cell_type": "code",
   "execution_count": 186,
   "id": "de4b514f",
   "metadata": {},
   "outputs": [
    {
     "data": {
      "text/plain": [
       "(0.5, 1.5)"
      ]
     },
     "execution_count": 186,
     "metadata": {},
     "output_type": "execute_result"
    }
   ],
   "source": [
    "weight, bias"
   ]
  },
  {
   "cell_type": "code",
   "execution_count": 187,
   "id": "11246761",
   "metadata": {},
   "outputs": [
    {
     "data": {
      "text/plain": [
       "(tensor([0.9296]), tensor([1.2746]))"
      ]
     },
     "execution_count": 187,
     "metadata": {},
     "output_type": "execute_result"
    }
   ],
   "source": [
    "l.state_dict()[\"weights\"], l.state_dict()[\"bias\"]"
   ]
  },
  {
   "cell_type": "code",
   "execution_count": 188,
   "id": "299e021d",
   "metadata": {},
   "outputs": [],
   "source": [
    "#torch.save(), torch.load(), torch.nn.Module.load_state_dict()\n"
   ]
  },
  {
   "cell_type": "code",
   "execution_count": 189,
   "id": "94b67eb8",
   "metadata": {},
   "outputs": [],
   "source": [
    "from pathlib import Path\n",
    "\n",
    "MODEL_PATH = Path(\"models\")\n",
    "MODEL_PATH.mkdir(parents=True, exist_ok=True)\n",
    "MODEL_NAME = \"01_pytorch_workflow_model.pth\"\n",
    "MODEL_SAVE_PATH = MODEL_PATH / MODEL_NAME\n",
    "\n",
    "torch.save(obj=l.state_dict(), f=MODEL_SAVE_PATH)"
   ]
  },
  {
   "cell_type": "code",
   "execution_count": 190,
   "id": "c00d48b9",
   "metadata": {},
   "outputs": [
    {
     "name": "stdout",
     "output_type": "stream",
     "text": [
      "total 8\n",
      "-rw-rw-r-- 1 julian julian 2101 Jul 23 08:18 01_pytorch_workflow_model.pth\n",
      "-rw-rw-r-- 1 julian julian 2205 Jul 23 07:51 01_pytorch_workflow_model_self.pth\n"
     ]
    }
   ],
   "source": [
    "!ls -l models"
   ]
  },
  {
   "cell_type": "code",
   "execution_count": 191,
   "id": "f2f69008",
   "metadata": {},
   "outputs": [
    {
     "data": {
      "text/plain": [
       "<All keys matched successfully>"
      ]
     },
     "execution_count": 191,
     "metadata": {},
     "output_type": "execute_result"
    }
   ],
   "source": [
    "load_model_l = LinearRegressionModel()\n",
    "load_model_l.load_state_dict(torch.load(MODEL_SAVE_PATH))"
   ]
  },
  {
   "cell_type": "code",
   "execution_count": 192,
   "id": "e5b05554",
   "metadata": {},
   "outputs": [
    {
     "data": {
      "text/plain": [
       "OrderedDict([('weights', tensor([0.9296])), ('bias', tensor([1.2746]))])"
      ]
     },
     "execution_count": 192,
     "metadata": {},
     "output_type": "execute_result"
    }
   ],
   "source": [
    "load_model_l.state_dict()"
   ]
  },
  {
   "cell_type": "code",
   "execution_count": 193,
   "id": "9567b0aa",
   "metadata": {},
   "outputs": [
    {
     "data": {
      "text/plain": [
       "tensor([True])"
      ]
     },
     "execution_count": 193,
     "metadata": {},
     "output_type": "execute_result"
    }
   ],
   "source": [
    "load_model_l.state_dict()[\"weights\"] == l.state_dict()[\"weights\"]"
   ]
  },
  {
   "cell_type": "code",
   "execution_count": 194,
   "id": "b08c8d63",
   "metadata": {},
   "outputs": [
    {
     "name": "stdout",
     "output_type": "stream",
     "text": [
      "2.7.1+cpu\n",
      "Using device: cpu\n"
     ]
    }
   ],
   "source": [
    "import torch\n",
    "from torch import nn\n",
    "import matplotlib.pyplot as plt\n",
    "print(torch.__version__)\n",
    "device = \"cuda\" if torch.cuda.is_available() else \"cpu\"\n",
    "print(f\"Using device: {device}\")"
   ]
  },
  {
   "cell_type": "code",
   "execution_count": 195,
   "id": "7be1d197",
   "metadata": {},
   "outputs": [
    {
     "name": "stdout",
     "output_type": "stream",
     "text": [
      "tensor([[0.0000],\n",
      "        [0.1000],\n",
      "        [0.2000],\n",
      "        [0.3000],\n",
      "        [0.4000],\n",
      "        [0.5000],\n",
      "        [0.6000],\n",
      "        [0.7000],\n",
      "        [0.8000],\n",
      "        [0.9000]]) tensor([[0.3000],\n",
      "        [0.3700],\n",
      "        [0.4400],\n",
      "        [0.5100],\n",
      "        [0.5800],\n",
      "        [0.6500],\n",
      "        [0.7200],\n",
      "        [0.7900],\n",
      "        [0.8600],\n",
      "        [0.9300]])\n"
     ]
    }
   ],
   "source": [
    "weight = 0.7\n",
    "bias = 0.3\n",
    "start = 0\n",
    "end = 10\n",
    "step = 0.1\n",
    "\n",
    "X = torch.arange(start, end, step).unsqueeze(dim=1)\n",
    "y = weight * X + bias\n",
    "print(X[:10], y[:10])\n"
   ]
  },
  {
   "cell_type": "code",
   "execution_count": 196,
   "id": "fa7fd043",
   "metadata": {},
   "outputs": [
    {
     "data": {
      "text/plain": [
       "(80, 80, 20, 20)"
      ]
     },
     "execution_count": 196,
     "metadata": {},
     "output_type": "execute_result"
    }
   ],
   "source": [
    "train_split = int(0.8 * len(X))\n",
    "X_train, y_train = X[:train_split], y[:train_split]\n",
    "X_test, y_test = X[train_split:], y[train_split:]\n",
    "\n",
    "len(X_train), len(y_train), len(X_test), len(y_test)"
   ]
  },
  {
   "cell_type": "code",
   "execution_count": 197,
   "id": "2b3fb813",
   "metadata": {},
   "outputs": [
    {
     "data": {
      "image/png": "[encoded data removed]",
      "text/plain": [
       "<Figure size 1000x700 with 1 Axes>"
      ]
     },
     "metadata": {},
     "output_type": "display_data"
    }
   ],
   "source": [
    "plot(X_train, y_train, X_test, y_test)"
   ]
  },
  {
   "cell_type": "code",
   "execution_count": 198,
   "id": "649a1517",
   "metadata": {},
   "outputs": [],
   "source": [
    "class LinearRegressionModel(nn.Module):\n",
    "    def __init__(self):\n",
    "        super().__init__()\n",
    "        self.linear_Layer = nn.Linear(in_features=1, out_features=1)\n",
    "        \n",
    "    def forward(self, x: torch.Tensor):\n",
    "        return self.linear_Layer(x)"
   ]
  },
  {
   "cell_type": "code",
   "execution_count": 199,
   "id": "d2fde6c5",
   "metadata": {},
   "outputs": [
    {
     "data": {
      "text/plain": [
       "(LinearRegressionModel(\n",
       "   (linear_Layer): Linear(in_features=1, out_features=1, bias=True)\n",
       " ),\n",
       " OrderedDict([('linear_Layer.weight', tensor([[0.7645]])),\n",
       "              ('linear_Layer.bias', tensor([0.8300]))]))"
      ]
     },
     "execution_count": 199,
     "metadata": {},
     "output_type": "execute_result"
    }
   ],
   "source": [
    "torch.manual_seed(42)\n",
    "model_1 = LinearRegressionModel()\n",
    "model_1, model_1.state_dict()"
   ]
  },
  {
   "cell_type": "code",
   "execution_count": 200,
   "id": "b0c0038a",
   "metadata": {},
   "outputs": [
    {
     "data": {
      "text/plain": [
       "device(type='cpu')"
      ]
     },
     "execution_count": 200,
     "metadata": {},
     "output_type": "execute_result"
    }
   ],
   "source": [
    "next(model_1.parameters()).device"
   ]
  },
  {
   "cell_type": "code",
   "execution_count": 201,
   "id": "ecc4771f",
   "metadata": {},
   "outputs": [],
   "source": [
    "loss_fn = nn.L1Loss()\n",
    "optimizer = torch.optim.SGD(params=model_1.parameters(), lr=0.01)"
   ]
  },
  {
   "cell_type": "code",
   "execution_count": 202,
   "id": "06e46da1",
   "metadata": {},
   "outputs": [
    {
     "name": "stdout",
     "output_type": "stream",
     "text": [
      "Epoch: 0 | Train loss: 0.7849351167678833 | Test loss: 0.7441024780273438\n",
      "Epoch: 10 | Train loss: 0.1950444132089615 | Test loss: 0.2748256325721741\n",
      "Epoch: 20 | Train loss: 0.17812438309192657 | Test loss: 0.2508866488933563\n",
      "Epoch: 30 | Train loss: 0.16120442748069763 | Test loss: 0.22694751620292664\n",
      "Epoch: 40 | Train loss: 0.14428433775901794 | Test loss: 0.2030087411403656\n",
      "Epoch: 50 | Train loss: 0.12736687064170837 | Test loss: 0.17929348349571228\n",
      "Epoch: 60 | Train loss: 0.1104518324136734 | Test loss: 0.15580150485038757\n",
      "Epoch: 70 | Train loss: 0.09367011487483978 | Test loss: 0.14665448665618896\n",
      "Epoch: 80 | Train loss: 0.08115354925394058 | Test loss: 0.2103060781955719\n",
      "Epoch: 90 | Train loss: 0.06880410760641098 | Test loss: 0.2510453760623932\n"
     ]
    }
   ],
   "source": [
    "epoch_count = []\n",
    "loss_values = []\n",
    "epochs = 100\n",
    "\n",
    "for epoch in range(epochs):\n",
    "    model_1.train()\n",
    "    \n",
    "    y_preds = model_1(X_train)\n",
    "    \n",
    "    loss = loss_fn(y_preds, y_train)\n",
    "    \n",
    "    optimizer.zero_grad()\n",
    "    \n",
    "    loss.backward()\n",
    "    \n",
    "    optimizer.step()\n",
    "    \n",
    "    model_1.eval()\n",
    "    \n",
    "    with torch.inference_mode():\n",
    "        if epoch % 10 == 0:\n",
    "            test_pred = model_1(X_test)\n",
    "            \n",
    "            test_loss = loss_fn(test_pred, y_test)\n",
    "            \n",
    "            print(f\"Epoch: {epoch} | Train loss: {loss} | Test loss: {test_loss}\")"
   ]
  },
  {
   "cell_type": "code",
   "execution_count": 203,
   "id": "70dcb796",
   "metadata": {},
   "outputs": [
    {
     "name": "stdout",
     "output_type": "stream",
     "text": [
      "OrderedDict([('linear_Layer.weight', tensor([[0.6809]])),\n",
      "             ('linear_Layer.bias', tensor([0.4198]))])\n",
      "weight:0.7, bias:0.3\n"
     ]
    }
   ],
   "source": [
    "from pprint import pprint\n",
    "pprint(model_1.state_dict())\n",
    "print(f\"weight:{weight}, bias:{bias}\")"
   ]
  },
  {
   "cell_type": "code",
   "execution_count": 204,
   "id": "47d185dd",
   "metadata": {},
   "outputs": [
    {
     "name": "stdout",
     "output_type": "stream",
     "text": [
      "models/01_pytorch_workflow_model_self.pth\n"
     ]
    }
   ],
   "source": [
    "from pathlib import Path\n",
    "\n",
    "MODEL_PATH = Path(\"models\")\n",
    "MODEL_PATH.mkdir(parents=True, exist_ok=True)\n",
    "MODEL_NAME = \"01_pytorch_workflow_model_self.pth\"\n",
    "\n",
    "MODEL_SAVE_PATH = MODEL_PATH / MODEL_NAME\n",
    "print(MODEL_SAVE_PATH)\n",
    "torch.save(obj=model_1.state_dict(), f=MODEL_SAVE_PATH)"
   ]
  },
  {
   "cell_type": "code",
   "execution_count": 205,
   "id": "9476452f",
   "metadata": {},
   "outputs": [
    {
     "name": "stdout",
     "output_type": "stream",
     "text": [
      "LinearRegressionModel(\n",
      "  (linear_Layer): Linear(in_features=1, out_features=1, bias=True)\n",
      ")\n"
     ]
    }
   ],
   "source": [
    "loaded_model_1 = LinearRegressionModel()\n",
    "loaded_model_1.load_state_dict(torch.load(MODEL_SAVE_PATH))\n",
    "\n",
    "print(loaded_model_1)"
   ]
  },
  {
   "cell_type": "code",
   "execution_count": 206,
   "id": "c5e22761",
   "metadata": {},
   "outputs": [
    {
     "data": {
      "text/plain": [
       "tensor([[True],\n",
       "        [True],\n",
       "        [True],\n",
       "        [True],\n",
       "        [True],\n",
       "        [True],\n",
       "        [True],\n",
       "        [True],\n",
       "        [True],\n",
       "        [True],\n",
       "        [True],\n",
       "        [True],\n",
       "        [True],\n",
       "        [True],\n",
       "        [True],\n",
       "        [True],\n",
       "        [True],\n",
       "        [True],\n",
       "        [True],\n",
       "        [True]])"
      ]
     },
     "execution_count": 206,
     "metadata": {},
     "output_type": "execute_result"
    }
   ],
   "source": [
    "loaded_model_1.eval()\n",
    "\n",
    "with torch.inference_mode():\n",
    "    test_pred = model_1(X_test)\n",
    "    y_preds_loaded = loaded_model_1(X_test)\n",
    "test_pred == y_preds_loaded"
   ]
  },
  {
   "cell_type": "markdown",
   "id": "5edb9ca1",
   "metadata": {},
   "source": [
    "# hitting extra lecture"
   ]
  },
  {
   "cell_type": "code",
   "execution_count": 207,
   "id": "7d546f24",
   "metadata": {},
   "outputs": [],
   "source": [
    "import torch\n",
    "from torch import nn"
   ]
  },
  {
   "cell_type": "code",
   "execution_count": 208,
   "id": "0ade1ffc",
   "metadata": {},
   "outputs": [
    {
     "name": "stdout",
     "output_type": "stream",
     "text": [
      "X: tensor([[1.0000],\n",
      "        [1.1000],\n",
      "        [1.2000],\n",
      "        [1.3000],\n",
      "        [1.4000],\n",
      "        [1.5000],\n",
      "        [1.6000],\n",
      "        [1.7000],\n",
      "        [1.8000],\n",
      "        [1.9000]]), y: tensor([[0.7000],\n",
      "        [0.7500],\n",
      "        [0.8000],\n",
      "        [0.8500],\n",
      "        [0.9000],\n",
      "        [0.9500],\n",
      "        [1.0000],\n",
      "        [1.0500],\n",
      "        [1.1000],\n",
      "        [1.1500]])\n"
     ]
    }
   ],
   "source": [
    "weight = 0.5\n",
    "bias = 0.2\n",
    "start = 1\n",
    "end = 10\n",
    "step = 0.1\n",
    "\n",
    "X = torch.arange(start, end, step).unsqueeze(dim=1)\n",
    "y = weight * X + bias\n",
    "\n",
    "print(f\"X: {X[:10]}, y: {y[:10]}\")"
   ]
  },
  {
   "cell_type": "code",
   "execution_count": 209,
   "id": "5a735128",
   "metadata": {},
   "outputs": [],
   "source": [
    "X_train_split_int, X_test_split_int = int(0.8 * len(X)), int(0.2 * len(X))\n",
    "y_train_split_int, y_test_split_int = int(0.8 * len(y)), int(0.2 * len(y))\n",
    "\n",
    "X_train = X[:X_train_split_int]\n",
    "X_test = X[X_train_split_int:]\n",
    "y_train = y[:y_train_split_int]\n",
    "y_test = y[y_train_split_int:]"
   ]
  },
  {
   "cell_type": "code",
   "execution_count": 210,
   "id": "b7b92f5b",
   "metadata": {},
   "outputs": [],
   "source": [
    "class LinearRegressionModel(nn.Module):\n",
    "    def __init__(self):\n",
    "        super(LinearRegressionModel, self).__init__()\n",
    "        self.linear_layer = nn.Linear(in_features=1, out_features=1)\n",
    "        \n",
    "    def forward(self, x: torch.Tensor) -> torch.Tensor:\n",
    "        return self.linear_layer(x)"
   ]
  },
  {
   "cell_type": "code",
   "execution_count": 211,
   "id": "45ecebd5",
   "metadata": {},
   "outputs": [],
   "source": [
    "model_self = LinearRegressionModel()\n",
    "loss_fn = nn.L1Loss()\n",
    "optimizer = torch.optim.SGD(params=model_self.parameters(), lr=0.01)"
   ]
  },
  {
   "cell_type": "code",
   "execution_count": 212,
   "id": "4937fd59",
   "metadata": {},
   "outputs": [
    {
     "name": "stdout",
     "output_type": "stream",
     "text": [
      "Epoch: 0 | Train loss: 3.2701306343078613 | Test loss: 6.084321975708008\n",
      "Epoch: 10 | Train loss: 1.0998806953430176 | Test loss: 1.8665714263916016\n",
      "Epoch: 20 | Train loss: 0.08138304203748703 | Test loss: 0.40260812640190125\n",
      "Epoch: 30 | Train loss: 0.09323004633188248 | Test loss: 0.3620111644268036\n",
      "Epoch: 40 | Train loss: 0.05320505425333977 | Test loss: 0.4267861843109131\n",
      "Epoch: 50 | Train loss: 0.046543724834918976 | Test loss: 0.42794790863990784\n",
      "Epoch: 60 | Train loss: 0.053656164556741714 | Test loss: 0.4044607877731323\n",
      "Epoch: 70 | Train loss: 0.06599916517734528 | Test loss: 0.3724926710128784\n",
      "Epoch: 80 | Train loss: 0.03152572363615036 | Test loss: 0.3356831669807434\n",
      "Epoch: 90 | Train loss: 0.04538222402334213 | Test loss: 0.40361008048057556\n",
      "Epoch: 100 | Train loss: 0.03805411607027054 | Test loss: 0.41543838381767273\n",
      "Epoch: 110 | Train loss: 0.0341886468231678 | Test loss: 0.4209291636943817\n",
      "Epoch: 120 | Train loss: 0.054184358566999435 | Test loss: 0.380058616399765\n",
      "Epoch: 130 | Train loss: 0.03980347514152527 | Test loss: 0.40618982911109924\n",
      "Epoch: 140 | Train loss: 0.032095033675432205 | Test loss: 0.42014840245246887\n",
      "Epoch: 150 | Train loss: 0.02901165373623371 | Test loss: 0.4257318377494812\n",
      "Epoch: 160 | Train loss: 0.02901165373623371 | Test loss: 0.4257318377494812\n",
      "Epoch: 170 | Train loss: 0.02901165373623371 | Test loss: 0.4257318377494812\n",
      "Epoch: 180 | Train loss: 0.02901165373623371 | Test loss: 0.4257318377494812\n",
      "Epoch: 190 | Train loss: 0.02901165373623371 | Test loss: 0.4257318377494812\n",
      "Epoch: 200 | Train loss: 0.02901165373623371 | Test loss: 0.4257318377494812\n",
      "Epoch: 210 | Train loss: 0.02901165373623371 | Test loss: 0.4257318377494812\n",
      "Epoch: 220 | Train loss: 0.02901165373623371 | Test loss: 0.4257318377494812\n",
      "Epoch: 230 | Train loss: 0.02901165373623371 | Test loss: 0.4257318377494812\n",
      "Epoch: 240 | Train loss: 0.02901165373623371 | Test loss: 0.4257318377494812\n",
      "Epoch: 250 | Train loss: 0.02901165373623371 | Test loss: 0.4257318377494812\n",
      "Epoch: 260 | Train loss: 0.02901165373623371 | Test loss: 0.4257318377494812\n",
      "Epoch: 270 | Train loss: 0.02901165373623371 | Test loss: 0.4257318377494812\n",
      "Epoch: 280 | Train loss: 0.02901165373623371 | Test loss: 0.4257318377494812\n",
      "Epoch: 290 | Train loss: 0.02901165373623371 | Test loss: 0.4257318377494812\n",
      "Epoch: 300 | Train loss: 0.02901165373623371 | Test loss: 0.4257318377494812\n",
      "Epoch: 310 | Train loss: 0.02901165373623371 | Test loss: 0.4257318377494812\n",
      "Epoch: 320 | Train loss: 0.02901165373623371 | Test loss: 0.4257318377494812\n",
      "Epoch: 330 | Train loss: 0.02901165373623371 | Test loss: 0.4257318377494812\n",
      "Epoch: 340 | Train loss: 0.02901165373623371 | Test loss: 0.4257318377494812\n",
      "Epoch: 350 | Train loss: 0.02901165373623371 | Test loss: 0.4257318377494812\n",
      "Epoch: 360 | Train loss: 0.02901165373623371 | Test loss: 0.4257318377494812\n",
      "Epoch: 370 | Train loss: 0.02901165373623371 | Test loss: 0.4257318377494812\n",
      "Epoch: 380 | Train loss: 0.02901165373623371 | Test loss: 0.4257318377494812\n",
      "Epoch: 390 | Train loss: 0.02901165373623371 | Test loss: 0.4257318377494812\n",
      "Epoch: 400 | Train loss: 0.02901165373623371 | Test loss: 0.4257318377494812\n",
      "Epoch: 410 | Train loss: 0.02901165373623371 | Test loss: 0.4257318377494812\n",
      "Epoch: 420 | Train loss: 0.02901165373623371 | Test loss: 0.4257318377494812\n",
      "Epoch: 430 | Train loss: 0.02901165373623371 | Test loss: 0.4257318377494812\n",
      "Epoch: 440 | Train loss: 0.02901165373623371 | Test loss: 0.4257318377494812\n",
      "Epoch: 450 | Train loss: 0.02901165373623371 | Test loss: 0.4257318377494812\n",
      "Epoch: 460 | Train loss: 0.02901165373623371 | Test loss: 0.4257318377494812\n",
      "Epoch: 470 | Train loss: 0.02901165373623371 | Test loss: 0.4257318377494812\n",
      "Epoch: 480 | Train loss: 0.02901165373623371 | Test loss: 0.4257318377494812\n",
      "Epoch: 490 | Train loss: 0.02901165373623371 | Test loss: 0.4257318377494812\n",
      "Epoch: 500 | Train loss: 0.02901165373623371 | Test loss: 0.4257318377494812\n",
      "Epoch: 510 | Train loss: 0.02901165373623371 | Test loss: 0.4257318377494812\n",
      "Epoch: 520 | Train loss: 0.02901165373623371 | Test loss: 0.4257318377494812\n",
      "Epoch: 530 | Train loss: 0.02901165373623371 | Test loss: 0.4257318377494812\n",
      "Epoch: 540 | Train loss: 0.02901165373623371 | Test loss: 0.4257318377494812\n",
      "Epoch: 550 | Train loss: 0.02901165373623371 | Test loss: 0.4257318377494812\n",
      "Epoch: 560 | Train loss: 0.02901165373623371 | Test loss: 0.4257318377494812\n",
      "Epoch: 570 | Train loss: 0.02901165373623371 | Test loss: 0.4257318377494812\n",
      "Epoch: 580 | Train loss: 0.02901165373623371 | Test loss: 0.4257318377494812\n",
      "Epoch: 590 | Train loss: 0.02901165373623371 | Test loss: 0.4257318377494812\n",
      "Epoch: 600 | Train loss: 0.02901165373623371 | Test loss: 0.4257318377494812\n",
      "Epoch: 610 | Train loss: 0.02901165373623371 | Test loss: 0.4257318377494812\n",
      "Epoch: 620 | Train loss: 0.02901165373623371 | Test loss: 0.4257318377494812\n",
      "Epoch: 630 | Train loss: 0.02901165373623371 | Test loss: 0.4257318377494812\n",
      "Epoch: 640 | Train loss: 0.02901165373623371 | Test loss: 0.4257318377494812\n",
      "Epoch: 650 | Train loss: 0.02901165373623371 | Test loss: 0.4257318377494812\n",
      "Epoch: 660 | Train loss: 0.02901165373623371 | Test loss: 0.4257318377494812\n",
      "Epoch: 670 | Train loss: 0.02901165373623371 | Test loss: 0.4257318377494812\n",
      "Epoch: 680 | Train loss: 0.02901165373623371 | Test loss: 0.4257318377494812\n",
      "Epoch: 690 | Train loss: 0.02901165373623371 | Test loss: 0.4257318377494812\n",
      "Epoch: 700 | Train loss: 0.02901165373623371 | Test loss: 0.4257318377494812\n",
      "Epoch: 710 | Train loss: 0.02901165373623371 | Test loss: 0.4257318377494812\n",
      "Epoch: 720 | Train loss: 0.02901165373623371 | Test loss: 0.4257318377494812\n",
      "Epoch: 730 | Train loss: 0.02901165373623371 | Test loss: 0.4257318377494812\n",
      "Epoch: 740 | Train loss: 0.02901165373623371 | Test loss: 0.4257318377494812\n",
      "Epoch: 750 | Train loss: 0.02901165373623371 | Test loss: 0.4257318377494812\n",
      "Epoch: 760 | Train loss: 0.02901165373623371 | Test loss: 0.4257318377494812\n",
      "Epoch: 770 | Train loss: 0.02901165373623371 | Test loss: 0.4257318377494812\n",
      "Epoch: 780 | Train loss: 0.02901165373623371 | Test loss: 0.4257318377494812\n",
      "Epoch: 790 | Train loss: 0.02901165373623371 | Test loss: 0.4257318377494812\n",
      "Epoch: 800 | Train loss: 0.02901165373623371 | Test loss: 0.4257318377494812\n",
      "Epoch: 810 | Train loss: 0.02901165373623371 | Test loss: 0.4257318377494812\n",
      "Epoch: 820 | Train loss: 0.02901165373623371 | Test loss: 0.4257318377494812\n",
      "Epoch: 830 | Train loss: 0.02901165373623371 | Test loss: 0.4257318377494812\n",
      "Epoch: 840 | Train loss: 0.02901165373623371 | Test loss: 0.4257318377494812\n",
      "Epoch: 850 | Train loss: 0.02901165373623371 | Test loss: 0.4257318377494812\n",
      "Epoch: 860 | Train loss: 0.02901165373623371 | Test loss: 0.4257318377494812\n",
      "Epoch: 870 | Train loss: 0.02901165373623371 | Test loss: 0.4257318377494812\n",
      "Epoch: 880 | Train loss: 0.02901165373623371 | Test loss: 0.4257318377494812\n",
      "Epoch: 890 | Train loss: 0.02901165373623371 | Test loss: 0.4257318377494812\n",
      "Epoch: 900 | Train loss: 0.02901165373623371 | Test loss: 0.4257318377494812\n",
      "Epoch: 910 | Train loss: 0.02901165373623371 | Test loss: 0.4257318377494812\n",
      "Epoch: 920 | Train loss: 0.02901165373623371 | Test loss: 0.4257318377494812\n",
      "Epoch: 930 | Train loss: 0.02901165373623371 | Test loss: 0.4257318377494812\n",
      "Epoch: 940 | Train loss: 0.02901165373623371 | Test loss: 0.4257318377494812\n",
      "Epoch: 950 | Train loss: 0.02901165373623371 | Test loss: 0.4257318377494812\n",
      "Epoch: 960 | Train loss: 0.02901165373623371 | Test loss: 0.4257318377494812\n",
      "Epoch: 970 | Train loss: 0.02901165373623371 | Test loss: 0.4257318377494812\n",
      "Epoch: 980 | Train loss: 0.02901165373623371 | Test loss: 0.4257318377494812\n",
      "Epoch: 990 | Train loss: 0.02901165373623371 | Test loss: 0.4257318377494812\n"
     ]
    }
   ],
   "source": [
    "epochs = 1000\n",
    "\n",
    "for epoch in range(epochs):\n",
    "    model_self.train()\n",
    "    \n",
    "    y_preds = model_self(X_train)\n",
    "    \n",
    "    loss = loss_fn(y_preds, y_train)\n",
    "    \n",
    "    optimizer.zero_grad()\n",
    "    \n",
    "    loss.backward()\n",
    "    \n",
    "    optimizer.step()\n",
    "    \n",
    "    model_self.eval()\n",
    "    \n",
    "    with torch.inference_mode():\n",
    "        if epoch % 10 == 0:\n",
    "            test_pred = model_self(X_test)\n",
    "            test_loss = loss_fn(test_pred, y_test)\n",
    "            print(f\"Epoch: {epoch} | Train loss: {loss} | Test loss: {test_loss}\")\n",
    "    "
   ]
  },
  {
   "cell_type": "code",
   "execution_count": null,
   "id": "40c39c91",
   "metadata": {},
   "outputs": [],
   "source": []
  },
  {
   "cell_type": "markdown",
   "id": "f5de82ce",
   "metadata": {},
   "source": [
    "# other stuff\n",
    "\n",
    "**loss**, *loss*"
   ]
  },
  {
   "cell_type": "code",
   "execution_count": 213,
   "id": "a24e61a0",
   "metadata": {},
   "outputs": [],
   "source": [
    "def wrapper(func):\n",
    "    def logger(*args):\n",
    "        print(f\"logged {func.__name__}\")\n",
    "        return func()\n",
    "    return logger\n",
    "\n",
    "def function_1():\n",
    "    print(\"function_1 was called\")"
   ]
  },
  {
   "cell_type": "code",
   "execution_count": 214,
   "id": "7002282c",
   "metadata": {},
   "outputs": [
    {
     "data": {
      "text/plain": [
       "<function __main__.wrapper.<locals>.logger(*args)>"
      ]
     },
     "execution_count": 214,
     "metadata": {},
     "output_type": "execute_result"
    }
   ],
   "source": [
    "wrapper(function_1)"
   ]
  },
  {
   "cell_type": "code",
   "execution_count": 215,
   "id": "dbb8f1ea",
   "metadata": {},
   "outputs": [],
   "source": [
    "function_1 = wrapper(function_1)"
   ]
  },
  {
   "cell_type": "code",
   "execution_count": 216,
   "id": "84ebdcf2",
   "metadata": {},
   "outputs": [
    {
     "name": "stdout",
     "output_type": "stream",
     "text": [
      "logged function_1\n",
      "function_1 was called\n"
     ]
    }
   ],
   "source": [
    "function_1()"
   ]
  },
  {
   "cell_type": "code",
   "execution_count": 217,
   "id": "54d8de09",
   "metadata": {},
   "outputs": [],
   "source": [
    "text = (b\"hello\")"
   ]
  },
  {
   "cell_type": "code",
   "execution_count": 218,
   "id": "c86d56e2",
   "metadata": {},
   "outputs": [
    {
     "data": {
      "text/plain": [
       "bytes"
      ]
     },
     "execution_count": 218,
     "metadata": {},
     "output_type": "execute_result"
    }
   ],
   "source": [
    "type(text)"
   ]
  },
  {
   "cell_type": "code",
   "execution_count": 219,
   "id": "48c6c306",
   "metadata": {},
   "outputs": [],
   "source": [
    "import threading\n",
    "import time"
   ]
  },
  {
   "cell_type": "code",
   "execution_count": 220,
   "id": "f0170712",
   "metadata": {},
   "outputs": [],
   "source": [
    "import torch\n",
    "import torch.nn as nn"
   ]
  },
  {
   "cell_type": "code",
   "execution_count": 221,
   "id": "f57920c0",
   "metadata": {},
   "outputs": [],
   "source": [
    "class BasicNet(nn.Module):\n",
    "    def __init__(self, *args, **kwargs):\n",
    "        super().__init__(*args, **kwargs)\n",
    "        self.net = nn.Linear(5, 3, 1)\n",
    "        \n",
    "    def forward(self, x):\n",
    "        x = nn.functional.relu(self.net(x))\n",
    "        print(self.net(x))\n",
    "        return self.net(x)"
   ]
  },
  {
   "cell_type": "code",
   "execution_count": 222,
   "id": "9c7b5497",
   "metadata": {},
   "outputs": [
    {
     "data": {
      "text/plain": [
       "OrderedDict([('net.weight',\n",
       "              tensor([[-0.2177,  0.2626,  0.3942, -0.3281,  0.3887],\n",
       "                      [ 0.0837,  0.3304,  0.0606,  0.2156, -0.0631],\n",
       "                      [ 0.3448,  0.0661, -0.2088,  0.1140, -0.2060]])),\n",
       "             ('net.bias', tensor([-0.0524, -0.1816,  0.2967]))])"
      ]
     },
     "execution_count": 222,
     "metadata": {},
     "output_type": "execute_result"
    }
   ],
   "source": [
    "BasicNet().state_dict()"
   ]
  },
  {
   "cell_type": "code",
   "execution_count": 223,
   "id": "1b235cf3",
   "metadata": {},
   "outputs": [
    {
     "name": "stdout",
     "output_type": "stream",
     "text": [
      "  3           0 RESUME                   0\n",
      "\n",
      "  4           2 LOAD_FAST                0 (a)\n",
      "              4 LOAD_FAST                1 (b)\n",
      "              6 BINARY_OP                0 (+)\n",
      "             10 RETURN_VALUE\n"
     ]
    }
   ],
   "source": [
    "import dis\n",
    "\n",
    "def add(a, b):\n",
    "    return a + b\n",
    "\n",
    "dis.dis(add)\n"
   ]
  },
  {
   "cell_type": "code",
   "execution_count": 224,
   "id": "33de68c2",
   "metadata": {},
   "outputs": [],
   "source": [
    "from typing import TypeVar, Generic\n",
    "\n",
    "T = TypeVar(\"T\")\n",
    "\n",
    "class Stack(Generic[T]):\n",
    "    def __init__(self):\n",
    "        self.items: list[T] = []"
   ]
  },
  {
   "cell_type": "code",
   "execution_count": 225,
   "id": "298bd88d",
   "metadata": {},
   "outputs": [
    {
     "data": {
      "text/plain": [
       "typing.TypeVar"
      ]
     },
     "execution_count": 225,
     "metadata": {},
     "output_type": "execute_result"
    }
   ],
   "source": [
    "type(T)"
   ]
  },
  {
   "cell_type": "code",
   "execution_count": 226,
   "id": "80d5e8a9",
   "metadata": {},
   "outputs": [
    {
     "data": {
      "text/plain": [
       "tensor([2, 2])"
      ]
     },
     "execution_count": 226,
     "metadata": {},
     "output_type": "execute_result"
    }
   ],
   "source": [
    "t = torch.tensor((2,2))\n",
    "t"
   ]
  },
  {
   "cell_type": "code",
   "execution_count": 227,
   "id": "1167862c",
   "metadata": {},
   "outputs": [
    {
     "data": {
      "text/plain": [
       "(tensor([[[0.1053, 0.2695],\n",
       "          [0.3588, 0.1994]],\n",
       " \n",
       "         [[0.5472, 0.0062],\n",
       "          [0.9516, 0.0753]]], requires_grad=True),\n",
       " 3)"
      ]
     },
     "execution_count": 227,
     "metadata": {},
     "output_type": "execute_result"
    }
   ],
   "source": [
    "t_rand = torch.rand((2,2, 2), requires_grad=True)\n",
    "t_rand, t_rand.dim()"
   ]
  },
  {
   "cell_type": "code",
   "execution_count": 228,
   "id": "dc9acf2d",
   "metadata": {},
   "outputs": [
    {
     "data": {
      "text/plain": [
       "tensor([[[2.1053, 2.2695],\n",
       "         [2.3588, 2.1994]],\n",
       "\n",
       "        [[2.5472, 2.0062],\n",
       "         [2.9516, 2.0753]]], grad_fn=<AddBackward0>)"
      ]
     },
     "execution_count": 228,
     "metadata": {},
     "output_type": "execute_result"
    }
   ],
   "source": [
    "t + t_rand"
   ]
  },
  {
   "cell_type": "code",
   "execution_count": 229,
   "id": "92061213",
   "metadata": {},
   "outputs": [
    {
     "data": {
      "text/plain": [
       "(torch.Size([2]), torch.Size([2, 2, 2]))"
      ]
     },
     "execution_count": 229,
     "metadata": {},
     "output_type": "execute_result"
    }
   ],
   "source": [
    "t.shape, t_rand.shape"
   ]
  },
  {
   "cell_type": "code",
   "execution_count": 230,
   "id": "b553459a",
   "metadata": {},
   "outputs": [
    {
     "data": {
      "text/plain": [
       "tensor(0.0062, grad_fn=<MinBackward1>)"
      ]
     },
     "execution_count": 230,
     "metadata": {},
     "output_type": "execute_result"
    }
   ],
   "source": [
    "t_rand.min()"
   ]
  },
  {
   "cell_type": "code",
   "execution_count": 231,
   "id": "e4a49516",
   "metadata": {},
   "outputs": [
    {
     "name": "stdout",
     "output_type": "stream",
     "text": [
      "None\n"
     ]
    }
   ],
   "source": [
    "print(t.grad)"
   ]
  },
  {
   "cell_type": "code",
   "execution_count": 232,
   "id": "d7407b25",
   "metadata": {},
   "outputs": [
    {
     "data": {
      "text/plain": [
       "NoneType"
      ]
     },
     "execution_count": 232,
     "metadata": {},
     "output_type": "execute_result"
    }
   ],
   "source": [
    "\n",
    "type(t_rand.grad)"
   ]
  },
  {
   "cell_type": "code",
   "execution_count": 233,
   "id": "8632d1a4",
   "metadata": {},
   "outputs": [],
   "source": [
    "y = t**2 - t_rand **3"
   ]
  },
  {
   "cell_type": "code",
   "execution_count": 234,
   "id": "761fdd83",
   "metadata": {},
   "outputs": [
    {
     "data": {
      "text/plain": [
       "tensor([[[3.9988, 3.9804],\n",
       "         [3.9538, 3.9921]],\n",
       "\n",
       "        [[3.8362, 4.0000],\n",
       "         [3.1384, 3.9996]]], grad_fn=<SubBackward0>)"
      ]
     },
     "execution_count": 234,
     "metadata": {},
     "output_type": "execute_result"
    }
   ],
   "source": [
    "y"
   ]
  },
  {
   "cell_type": "code",
   "execution_count": 235,
   "id": "b7da6ab5",
   "metadata": {},
   "outputs": [
    {
     "ename": "RuntimeError",
     "evalue": "grad can be implicitly created only for scalar outputs",
     "output_type": "error",
     "traceback": [
      "\u001b[31m---------------------------------------------------------------------------\u001b[39m",
      "\u001b[31mRuntimeError\u001b[39m                              Traceback (most recent call last)",
      "\u001b[36mCell\u001b[39m\u001b[36m \u001b[39m\u001b[32mIn[235]\u001b[39m\u001b[32m, line 1\u001b[39m\n\u001b[32m----> \u001b[39m\u001b[32m1\u001b[39m \u001b[43my\u001b[49m\u001b[43m.\u001b[49m\u001b[43mbackward\u001b[49m\u001b[43m(\u001b[49m\u001b[43m)\u001b[49m\n",
      "\u001b[36mFile \u001b[39m\u001b[32m~/miniconda3/envs/projektarbeit_1/lib/python3.11/site-packages/torch/_tensor.py:648\u001b[39m, in \u001b[36mTensor.backward\u001b[39m\u001b[34m(self, gradient, retain_graph, create_graph, inputs)\u001b[39m\n\u001b[32m    638\u001b[39m \u001b[38;5;28;01mif\u001b[39;00m has_torch_function_unary(\u001b[38;5;28mself\u001b[39m):\n\u001b[32m    639\u001b[39m     \u001b[38;5;28;01mreturn\u001b[39;00m handle_torch_function(\n\u001b[32m    640\u001b[39m         Tensor.backward,\n\u001b[32m    641\u001b[39m         (\u001b[38;5;28mself\u001b[39m,),\n\u001b[32m   (...)\u001b[39m\u001b[32m    646\u001b[39m         inputs=inputs,\n\u001b[32m    647\u001b[39m     )\n\u001b[32m--> \u001b[39m\u001b[32m648\u001b[39m \u001b[43mtorch\u001b[49m\u001b[43m.\u001b[49m\u001b[43mautograd\u001b[49m\u001b[43m.\u001b[49m\u001b[43mbackward\u001b[49m\u001b[43m(\u001b[49m\n\u001b[32m    649\u001b[39m \u001b[43m    \u001b[49m\u001b[38;5;28;43mself\u001b[39;49m\u001b[43m,\u001b[49m\u001b[43m \u001b[49m\u001b[43mgradient\u001b[49m\u001b[43m,\u001b[49m\u001b[43m \u001b[49m\u001b[43mretain_graph\u001b[49m\u001b[43m,\u001b[49m\u001b[43m \u001b[49m\u001b[43mcreate_graph\u001b[49m\u001b[43m,\u001b[49m\u001b[43m \u001b[49m\u001b[43minputs\u001b[49m\u001b[43m=\u001b[49m\u001b[43minputs\u001b[49m\n\u001b[32m    650\u001b[39m \u001b[43m\u001b[49m\u001b[43m)\u001b[49m\n",
      "\u001b[36mFile \u001b[39m\u001b[32m~/miniconda3/envs/projektarbeit_1/lib/python3.11/site-packages/torch/autograd/__init__.py:346\u001b[39m, in \u001b[36mbackward\u001b[39m\u001b[34m(tensors, grad_tensors, retain_graph, create_graph, grad_variables, inputs)\u001b[39m\n\u001b[32m    337\u001b[39m inputs = (\n\u001b[32m    338\u001b[39m     (inputs,)\n\u001b[32m    339\u001b[39m     \u001b[38;5;28;01mif\u001b[39;00m \u001b[38;5;28misinstance\u001b[39m(inputs, (torch.Tensor, graph.GradientEdge))\n\u001b[32m   (...)\u001b[39m\u001b[32m    342\u001b[39m     \u001b[38;5;28;01melse\u001b[39;00m ()\n\u001b[32m    343\u001b[39m )\n\u001b[32m    345\u001b[39m grad_tensors_ = _tensor_or_tensors_to_tuple(grad_tensors, \u001b[38;5;28mlen\u001b[39m(tensors))\n\u001b[32m--> \u001b[39m\u001b[32m346\u001b[39m grad_tensors_ = \u001b[43m_make_grads\u001b[49m\u001b[43m(\u001b[49m\u001b[43mtensors\u001b[49m\u001b[43m,\u001b[49m\u001b[43m \u001b[49m\u001b[43mgrad_tensors_\u001b[49m\u001b[43m,\u001b[49m\u001b[43m \u001b[49m\u001b[43mis_grads_batched\u001b[49m\u001b[43m=\u001b[49m\u001b[38;5;28;43;01mFalse\u001b[39;49;00m\u001b[43m)\u001b[49m\n\u001b[32m    347\u001b[39m \u001b[38;5;28;01mif\u001b[39;00m retain_graph \u001b[38;5;129;01mis\u001b[39;00m \u001b[38;5;28;01mNone\u001b[39;00m:\n\u001b[32m    348\u001b[39m     retain_graph = create_graph\n",
      "\u001b[36mFile \u001b[39m\u001b[32m~/miniconda3/envs/projektarbeit_1/lib/python3.11/site-packages/torch/autograd/__init__.py:199\u001b[39m, in \u001b[36m_make_grads\u001b[39m\u001b[34m(outputs, grads, is_grads_batched)\u001b[39m\n\u001b[32m    197\u001b[39m     out_numel_is_1 = out.numel() == \u001b[32m1\u001b[39m\n\u001b[32m    198\u001b[39m \u001b[38;5;28;01mif\u001b[39;00m \u001b[38;5;129;01mnot\u001b[39;00m out_numel_is_1:\n\u001b[32m--> \u001b[39m\u001b[32m199\u001b[39m     \u001b[38;5;28;01mraise\u001b[39;00m \u001b[38;5;167;01mRuntimeError\u001b[39;00m(\n\u001b[32m    200\u001b[39m         \u001b[33m\"\u001b[39m\u001b[33mgrad can be implicitly created only for scalar outputs\u001b[39m\u001b[33m\"\u001b[39m\n\u001b[32m    201\u001b[39m     )\n\u001b[32m    202\u001b[39m \u001b[38;5;28;01mif\u001b[39;00m \u001b[38;5;129;01mnot\u001b[39;00m out_dtype.is_floating_point:\n\u001b[32m    203\u001b[39m     msg = (\n\u001b[32m    204\u001b[39m         \u001b[33m\"\u001b[39m\u001b[33mgrad can be implicitly created only for real scalar outputs\u001b[39m\u001b[33m\"\u001b[39m\n\u001b[32m    205\u001b[39m         \u001b[33mf\u001b[39m\u001b[33m\"\u001b[39m\u001b[33m but got \u001b[39m\u001b[38;5;132;01m{\u001b[39;00mout_dtype\u001b[38;5;132;01m}\u001b[39;00m\u001b[33m\"\u001b[39m\n\u001b[32m    206\u001b[39m     )\n",
      "\u001b[31mRuntimeError\u001b[39m: grad can be implicitly created only for scalar outputs"
     ]
    }
   ],
   "source": [
    "y.backward()"
   ]
  },
  {
   "cell_type": "code",
   "execution_count": null,
   "id": "e77a3454",
   "metadata": {},
   "outputs": [
    {
     "name": "stdout",
     "output_type": "stream",
     "text": [
      "tensor([10.]) tensor([-6.])\n"
     ]
    }
   ],
   "source": [
    "a = torch.tensor([5.], requires_grad=True)\n",
    "b = torch.tensor([3.], requires_grad=True)\n",
    "\n",
    "y = a**2 - b**2\n",
    "y.backward()\n",
    "print(a.grad, b.grad)"
   ]
  },
  {
   "cell_type": "code",
   "execution_count": null,
   "id": "345b305c",
   "metadata": {},
   "outputs": [
    {
     "data": {
      "text/plain": [
       "tensor([True])"
      ]
     },
     "execution_count": 147,
     "metadata": {},
     "output_type": "execute_result"
    }
   ],
   "source": [
    "a.grad.data == a.grad"
   ]
  },
  {
   "cell_type": "code",
   "execution_count": null,
   "id": "4738db29",
   "metadata": {},
   "outputs": [],
   "source": [
    "x = torch.rand(1, 10,  requires_grad=True)\n",
    "w = torch.rand(10, 1,  requires_grad=True)\n",
    "b = torch.rand(1,  requires_grad=True)"
   ]
  },
  {
   "cell_type": "code",
   "execution_count": null,
   "id": "555abd83",
   "metadata": {},
   "outputs": [
    {
     "data": {
      "text/plain": [
       "(tensor([[0.5649],\n",
       "         [0.2962],\n",
       "         [0.0320],\n",
       "         [0.9796],\n",
       "         [0.6787],\n",
       "         [0.7290],\n",
       "         [0.2873],\n",
       "         [0.4947],\n",
       "         [0.0455],\n",
       "         [0.4324]], requires_grad=True),\n",
       " tensor([[0.1915, 0.8038, 0.2128, 0.0855, 0.2972, 0.6187, 0.0477, 0.4475, 0.9797,\n",
       "          0.9000]], requires_grad=True))"
      ]
     },
     "execution_count": 182,
     "metadata": {},
     "output_type": "execute_result"
    }
   ],
   "source": [
    "w, x"
   ]
  },
  {
   "cell_type": "code",
   "execution_count": null,
   "id": "9f3023e1",
   "metadata": {},
   "outputs": [],
   "source": [
    "y = torch.matmul(x, w) + b"
   ]
  },
  {
   "cell_type": "code",
   "execution_count": null,
   "id": "148d51a5",
   "metadata": {},
   "outputs": [
    {
     "data": {
      "text/plain": [
       "torch.Size([1, 1])"
      ]
     },
     "execution_count": 184,
     "metadata": {},
     "output_type": "execute_result"
    }
   ],
   "source": [
    "y.shape"
   ]
  },
  {
   "cell_type": "code",
   "execution_count": null,
   "id": "a7c5b5e7",
   "metadata": {},
   "outputs": [
    {
     "data": {
      "text/plain": [
       "tensor([[-1.4287]], grad_fn=<RsubBackward1>)"
      ]
     },
     "execution_count": 185,
     "metadata": {},
     "output_type": "execute_result"
    }
   ],
   "source": [
    "loss = 1 - y\n",
    "loss"
   ]
  },
  {
   "cell_type": "code",
   "execution_count": null,
   "id": "05115a5f",
   "metadata": {},
   "outputs": [
    {
     "data": {
      "text/plain": [
       "tensor([[-0.1915],\n",
       "        [-0.8038],\n",
       "        [-0.2128],\n",
       "        [-0.0855],\n",
       "        [-0.2972],\n",
       "        [-0.6187],\n",
       "        [-0.0477],\n",
       "        [-0.4475],\n",
       "        [-0.9797],\n",
       "        [-0.9000]])"
      ]
     },
     "execution_count": 186,
     "metadata": {},
     "output_type": "execute_result"
    }
   ],
   "source": [
    "loss.backward()\n",
    "w.grad"
   ]
  },
  {
   "cell_type": "code",
   "execution_count": null,
   "id": "e58a7b74",
   "metadata": {},
   "outputs": [],
   "source": [
    "with torch.no_grad():\n",
    "    w = w - 0.001 * w.grad.data"
   ]
  },
  {
   "cell_type": "code",
   "execution_count": null,
   "id": "6a608fbd",
   "metadata": {},
   "outputs": [],
   "source": [
    "#\n"
   ]
  }
 ],
 "metadata": {
  "kernelspec": {
   "display_name": "projektarbeit_1",
   "language": "python",
   "name": "python3"
  },
  "language_info": {
   "codemirror_mode": {
    "name": "ipython",
    "version": 3
   },
   "file_extension": ".py",
   "mimetype": "text/x-python",
   "name": "python",
   "nbconvert_exporter": "python",
   "pygments_lexer": "ipython3",
   "version": "3.11.5"
  }
 },
 "nbformat": 4,
 "nbformat_minor": 5
}
